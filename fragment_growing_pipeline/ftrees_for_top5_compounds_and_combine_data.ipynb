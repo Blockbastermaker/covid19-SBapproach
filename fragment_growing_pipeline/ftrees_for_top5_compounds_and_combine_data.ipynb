{
 "cells": [
  {
   "cell_type": "markdown",
   "metadata": {},
   "source": [
    "### Find most similar compounds within Enamine REAL using Ftrees"
   ]
  },
  {
   "cell_type": "code",
   "execution_count": 1,
   "metadata": {},
   "outputs": [
    {
     "data": {
      "application/javascript": [
       "\n",
       "            setTimeout(function() {\n",
       "                var nbb_cell_id = 1;\n",
       "                var nbb_unformatted_code = \"%load_ext nb_black\";\n",
       "                var nbb_formatted_code = \"%load_ext nb_black\";\n",
       "                var nbb_cells = Jupyter.notebook.get_cells();\n",
       "                for (var i = 0; i < nbb_cells.length; ++i) {\n",
       "                    if (nbb_cells[i].input_prompt_number == nbb_cell_id) {\n",
       "                        if (nbb_cells[i].get_text() == nbb_unformatted_code) {\n",
       "                             nbb_cells[i].set_text(nbb_formatted_code);\n",
       "                        }\n",
       "                        break;\n",
       "                    }\n",
       "                }\n",
       "            }, 500);\n",
       "            "
      ],
      "text/plain": [
       "<IPython.core.display.Javascript object>"
      ]
     },
     "metadata": {},
     "output_type": "display_data"
    }
   ],
   "source": [
    "%load_ext nb_black"
   ]
  },
  {
   "cell_type": "code",
   "execution_count": 2,
   "metadata": {},
   "outputs": [
    {
     "data": {
      "application/javascript": [
       "\n",
       "            setTimeout(function() {\n",
       "                var nbb_cell_id = 2;\n",
       "                var nbb_unformatted_code = \"from pathlib import Path\\nimport os\\nimport sys\\nfrom distutils.spawn import find_executable\\nimport subprocess\\n\\nimport pandas as pd\\nfrom rdkit import Chem\\nfrom rdkit.Chem import Draw\\nfrom rdkit.Chem import PandasTools\\nfrom IPython.core.display import HTML\";\n",
       "                var nbb_formatted_code = \"from pathlib import Path\\nimport os\\nimport sys\\nfrom distutils.spawn import find_executable\\nimport subprocess\\n\\nimport pandas as pd\\nfrom rdkit import Chem\\nfrom rdkit.Chem import Draw\\nfrom rdkit.Chem import PandasTools\\nfrom IPython.core.display import HTML\";\n",
       "                var nbb_cells = Jupyter.notebook.get_cells();\n",
       "                for (var i = 0; i < nbb_cells.length; ++i) {\n",
       "                    if (nbb_cells[i].input_prompt_number == nbb_cell_id) {\n",
       "                        if (nbb_cells[i].get_text() == nbb_unformatted_code) {\n",
       "                             nbb_cells[i].set_text(nbb_formatted_code);\n",
       "                        }\n",
       "                        break;\n",
       "                    }\n",
       "                }\n",
       "            }, 500);\n",
       "            "
      ],
      "text/plain": [
       "<IPython.core.display.Javascript object>"
      ]
     },
     "metadata": {},
     "output_type": "display_data"
    }
   ],
   "source": [
    "from pathlib import Path\n",
    "import os\n",
    "import sys\n",
    "from distutils.spawn import find_executable\n",
    "import subprocess\n",
    "\n",
    "import pandas as pd\n",
    "from rdkit import Chem\n",
    "from rdkit.Chem import Draw\n",
    "from rdkit.Chem import PandasTools\n",
    "from IPython.core.display import HTML"
   ]
  },
  {
   "cell_type": "markdown",
   "metadata": {},
   "source": [
    "### Define input path for binary and library\n",
    "Define constant that points to the data/ folder using absolute path in running computer (working dir indepedent).\n",
    "* adapted from [ftrees ipynb](../code/ftrees/)"
   ]
  },
  {
   "cell_type": "code",
   "execution_count": 3,
   "metadata": {},
   "outputs": [
    {
     "name": "stdout",
     "output_type": "stream",
     "text": [
      "C:\\Users\\andre\\Desktop\\Arbeit_Charite\\GitHub\\covid19-SBapproach\\fragment_growing_pipeline\\result_data\n"
     ]
    },
    {
     "data": {
      "application/javascript": [
       "\n",
       "            setTimeout(function() {\n",
       "                var nbb_cell_id = 3;\n",
       "                var nbb_unformatted_code = \"DATADIR = Path(_dh[0]) / \\\"result_data\\\"\\nprint(DATADIR)\";\n",
       "                var nbb_formatted_code = \"DATADIR = Path(_dh[0]) / \\\"result_data\\\"\\nprint(DATADIR)\";\n",
       "                var nbb_cells = Jupyter.notebook.get_cells();\n",
       "                for (var i = 0; i < nbb_cells.length; ++i) {\n",
       "                    if (nbb_cells[i].input_prompt_number == nbb_cell_id) {\n",
       "                        if (nbb_cells[i].get_text() == nbb_unformatted_code) {\n",
       "                             nbb_cells[i].set_text(nbb_formatted_code);\n",
       "                        }\n",
       "                        break;\n",
       "                    }\n",
       "                }\n",
       "            }, 500);\n",
       "            "
      ],
      "text/plain": [
       "<IPython.core.display.Javascript object>"
      ]
     },
     "metadata": {},
     "output_type": "display_data"
    }
   ],
   "source": [
    "DATADIR = Path(_dh[0]) / \"result_data\"\n",
    "print(DATADIR)"
   ]
  },
  {
   "cell_type": "code",
   "execution_count": 4,
   "metadata": {},
   "outputs": [
    {
     "name": "stdout",
     "output_type": "stream",
     "text": [
      "C:\\Users\\andre\\AppData\\Local\\Programs\\BioSolveIT\\FTrees-6.0\\FTrees.exe\n",
      "C:\\Users\\andre\\Desktop\\Arbeit_Charite\\GitHub\\covid19-SBapproach\\data\\REALspace_2019-12.space\n"
     ]
    },
    {
     "data": {
      "application/javascript": [
       "\n",
       "            setTimeout(function() {\n",
       "                var nbb_cell_id = 4;\n",
       "                var nbb_unformatted_code = \"# FTrees executable\\n# Replace with your absolute path if location is not standard\\nif sys.platform == \\\"windows\\\" or sys.platform == \\\"win32\\\":\\n    path_to_binary = (\\n        rf\\\"{os.environ['LOCALAPPDATA']}\\\\Programs\\\\BioSolveIT\\\\FTrees-6.0\\\\FTrees.exe\\\"\\n    )\\nelse:\\n    path_to_binary = find_executable(\\\"Ftrees\\\")\\n# fragment space\\nif not path_to_binary or not os.path.isfile(path_to_binary):\\n    raise ValueError(\\\"FTrees program cannot be found\\\")\\nfspace = \\\"REALspace_2019-12.space\\\"\\nlibrary = Path(_dh[0]).parent / \\\"data\\\" / f\\\"{fspace}\\\"\\nprint(path_to_binary)\\nprint(library)\";\n",
       "                var nbb_formatted_code = \"# FTrees executable\\n# Replace with your absolute path if location is not standard\\nif sys.platform == \\\"windows\\\" or sys.platform == \\\"win32\\\":\\n    path_to_binary = (\\n        rf\\\"{os.environ['LOCALAPPDATA']}\\\\Programs\\\\BioSolveIT\\\\FTrees-6.0\\\\FTrees.exe\\\"\\n    )\\nelse:\\n    path_to_binary = find_executable(\\\"Ftrees\\\")\\n# fragment space\\nif not path_to_binary or not os.path.isfile(path_to_binary):\\n    raise ValueError(\\\"FTrees program cannot be found\\\")\\nfspace = \\\"REALspace_2019-12.space\\\"\\nlibrary = Path(_dh[0]).parent / \\\"data\\\" / f\\\"{fspace}\\\"\\nprint(path_to_binary)\\nprint(library)\";\n",
       "                var nbb_cells = Jupyter.notebook.get_cells();\n",
       "                for (var i = 0; i < nbb_cells.length; ++i) {\n",
       "                    if (nbb_cells[i].input_prompt_number == nbb_cell_id) {\n",
       "                        if (nbb_cells[i].get_text() == nbb_unformatted_code) {\n",
       "                             nbb_cells[i].set_text(nbb_formatted_code);\n",
       "                        }\n",
       "                        break;\n",
       "                    }\n",
       "                }\n",
       "            }, 500);\n",
       "            "
      ],
      "text/plain": [
       "<IPython.core.display.Javascript object>"
      ]
     },
     "metadata": {},
     "output_type": "display_data"
    }
   ],
   "source": [
    "# FTrees executable\n",
    "# Replace with your absolute path if location is not standard\n",
    "if sys.platform == \"windows\" or sys.platform == \"win32\":\n",
    "    path_to_binary = (\n",
    "        rf\"{os.environ['LOCALAPPDATA']}\\Programs\\BioSolveIT\\FTrees-6.0\\FTrees.exe\"\n",
    "    )\n",
    "else:\n",
    "    path_to_binary = find_executable(\"Ftrees\")\n",
    "# fragment space\n",
    "if not path_to_binary or not os.path.isfile(path_to_binary):\n",
    "    raise ValueError(\"FTrees program cannot be found\")\n",
    "fspace = \"REALspace_2019-12.space\"\n",
    "library = Path(_dh[0]).parent / \"data\" / f\"{fspace}\"\n",
    "print(path_to_binary)\n",
    "print(library)"
   ]
  },
  {
   "cell_type": "markdown",
   "metadata": {},
   "source": [
    "### Set command line options"
   ]
  },
  {
   "cell_type": "code",
   "execution_count": 5,
   "metadata": {},
   "outputs": [
    {
     "data": {
      "application/javascript": [
       "\n",
       "            setTimeout(function() {\n",
       "                var nbb_cell_id = 5;\n",
       "                var nbb_unformatted_code = \"# Maximum number of top-ranking result molecules [1 to 1000000].\\nmax_nof_results = 100\\n# Similarity threshold below which molecules are discarded [0.0 to 1.0].\\nmin_sim_thresh = 0.8\\n# Desired target similarity to the query molecule [0.5 to 1.0]. Note: Must be >= '--minSimilarityThreshold'\\ntarget_sim = 1\\n# Required diversity between any two compounds in a solution set [0.9 to 1.0].\\ntotal_div = 0.95\\n# Generates 3d coordinates in case of SDF output files. 0 = off\\ngen_3d_output = 1\";\n",
       "                var nbb_formatted_code = \"# Maximum number of top-ranking result molecules [1 to 1000000].\\nmax_nof_results = 100\\n# Similarity threshold below which molecules are discarded [0.0 to 1.0].\\nmin_sim_thresh = 0.8\\n# Desired target similarity to the query molecule [0.5 to 1.0]. Note: Must be >= '--minSimilarityThreshold'\\ntarget_sim = 1\\n# Required diversity between any two compounds in a solution set [0.9 to 1.0].\\ntotal_div = 0.95\\n# Generates 3d coordinates in case of SDF output files. 0 = off\\ngen_3d_output = 1\";\n",
       "                var nbb_cells = Jupyter.notebook.get_cells();\n",
       "                for (var i = 0; i < nbb_cells.length; ++i) {\n",
       "                    if (nbb_cells[i].input_prompt_number == nbb_cell_id) {\n",
       "                        if (nbb_cells[i].get_text() == nbb_unformatted_code) {\n",
       "                             nbb_cells[i].set_text(nbb_formatted_code);\n",
       "                        }\n",
       "                        break;\n",
       "                    }\n",
       "                }\n",
       "            }, 500);\n",
       "            "
      ],
      "text/plain": [
       "<IPython.core.display.Javascript object>"
      ]
     },
     "metadata": {},
     "output_type": "display_data"
    }
   ],
   "source": [
    "# Maximum number of top-ranking result molecules [1 to 1000000].\n",
    "max_nof_results = 100\n",
    "# Similarity threshold below which molecules are discarded [0.0 to 1.0].\n",
    "min_sim_thresh = 0.8\n",
    "# Desired target similarity to the query molecule [0.5 to 1.0]. Note: Must be >= '--minSimilarityThreshold'\n",
    "target_sim = 1\n",
    "# Required diversity between any two compounds in a solution set [0.9 to 1.0].\n",
    "total_div = 0.95\n",
    "# Generates 3d coordinates in case of SDF output files. 0 = off\n",
    "gen_3d_output = 1"
   ]
  },
  {
   "cell_type": "markdown",
   "metadata": {},
   "source": [
    "### Read top 5 molecules"
   ]
  },
  {
   "cell_type": "code",
   "execution_count": 6,
   "metadata": {},
   "outputs": [
    {
     "data": {
      "application/javascript": [
       "\n",
       "            setTimeout(function() {\n",
       "                var nbb_cell_id = 6;\n",
       "                var nbb_unformatted_code = \"# get molecule file\\nmolecules_sdf = str(DATADIR / \\\"x0967_seesar_inspirations_top5.sdf\\\")\\n# Output base files (suffixes are required). Only '.sdf' and '.csv' are supported.\\noutfile_name = \\\"x0967_top5_inspirations_out\\\"\";\n",
       "                var nbb_formatted_code = \"# get molecule file\\nmolecules_sdf = str(DATADIR / \\\"x0967_seesar_inspirations_top5.sdf\\\")\\n# Output base files (suffixes are required). Only '.sdf' and '.csv' are supported.\\noutfile_name = \\\"x0967_top5_inspirations_out\\\"\";\n",
       "                var nbb_cells = Jupyter.notebook.get_cells();\n",
       "                for (var i = 0; i < nbb_cells.length; ++i) {\n",
       "                    if (nbb_cells[i].input_prompt_number == nbb_cell_id) {\n",
       "                        if (nbb_cells[i].get_text() == nbb_unformatted_code) {\n",
       "                             nbb_cells[i].set_text(nbb_formatted_code);\n",
       "                        }\n",
       "                        break;\n",
       "                    }\n",
       "                }\n",
       "            }, 500);\n",
       "            "
      ],
      "text/plain": [
       "<IPython.core.display.Javascript object>"
      ]
     },
     "metadata": {},
     "output_type": "display_data"
    }
   ],
   "source": [
    "# get molecule file\n",
    "molecules_sdf = str(DATADIR / \"x0967_seesar_inspirations_top5.sdf\")\n",
    "# Output base files (suffixes are required). Only '.sdf' and '.csv' are supported.\n",
    "outfile_name = \"x0967_top5_inspirations_out\""
   ]
  },
  {
   "cell_type": "code",
   "execution_count": 7,
   "metadata": {},
   "outputs": [
    {
     "data": {
      "text/html": [
       "<table border=\"1\" class=\"dataframe\">\n",
       "  <thead>\n",
       "    <tr style=\"text-align: right;\">\n",
       "      <th></th>\n",
       "      <th>BIOSOLVEIT.HYDE_ESTIMATED_AFFINITY_LOWER_BOUNDARY [nM]</th>\n",
       "      <th>BIOSOLVEIT.HYDE_ESTIMATED_AFFINITY_UPPER_BOUNDARY [nM]</th>\n",
       "      <th>BIOSOLVEIT.HYDE_LIGAND_EFFICIENCY range: ++, +, 0, -, --</th>\n",
       "      <th>BIOSOLVEIT.HYDE_LIGAND_LIPOPHILIC_EFFICIENCY range: ++, +, 0, -, --</th>\n",
       "      <th>BIOSOLVEIT.INTER_CLASH range: red, yellow, green</th>\n",
       "      <th>BIOSOLVEIT.INTRA_CLASH range: red, yellow, green</th>\n",
       "      <th>BIOSOLVEIT.LOGP</th>\n",
       "      <th>BIOSOLVEIT.MOLECULAR WEIGHT</th>\n",
       "      <th>BIOSOLVEIT.MOLECULE_CHECKSUM</th>\n",
       "      <th>BIOSOLVEIT.TORSION_QUALITY range: red, yellow, green, not rotatable</th>\n",
       "      <th>BIOSOLVEIT.TPSA</th>\n",
       "      <th>ID</th>\n",
       "      <th>ROMol</th>\n",
       "    </tr>\n",
       "  </thead>\n",
       "  <tbody>\n",
       "    <tr>\n",
       "      <th>0</th>\n",
       "      <td>16.067254</td>\n",
       "      <td>1596.376710</td>\n",
       "      <td>0</td>\n",
       "      <td>0</td>\n",
       "      <td>green</td>\n",
       "      <td>green</td>\n",
       "      <td>2.5244</td>\n",
       "      <td>332.441</td>\n",
       "      <td>LTM4Ljc4ODY7MS42MTYxOQ==</td>\n",
       "      <td>green</td>\n",
       "      <td>78.43</td>\n",
       "      <td>LIG_A_1101_CCC[C@H]([R*])C1CCC1_2</td>\n",
       "      <td><img src=\"data:image/png;base64,iVBORw0KGgoAAAANSUhEUgAAAMgAAADICAIAAAAiOjnJAAAABmJLR0QA/wD/AP+gvaeTAAAW6klEQVR4nO3deVAUZ94H8G/PDPep4AErQRRBLRMPVGSwvEJtImqhiaxZA5osmzHRbKzXrLCu2Wh244baSqVgc9Sixmt1KwhZzXKZQwMRFBE0IIIyBA+CiIAwMBwDzDzvH48ZEQGBmZ7umXk+xR/JTDP9A788/fTzPN3NEULAMMYmEboAxjKxYDG8YMFieMGCxfCCBYvhBQsWwwsWLIYXLFgML1iwGF6wYDG8YMFieMGCxfCCBYvhhbiCVVJSkp6eXltbK3QhjKHEFazDhw+vWrXq8OHDQhfCGEpcwbp+/TqAwMBAoQthDCWuYF27dg3A1KlThS6EMRQnnhWkGo3GycmJ47i2tjZbW1uhy2EMIqIWS6lUarXaSZMmsVRZABEFix4HWQfLMogoWLTnzjpYlkF0wWItlmUQUbDYKaElEdFZobu7u0qlqq+v9/T0FLoWxlBiabHu3LmjUqk8PDxYqiyDWILFeu4WRizBYh0sCyOWYLFTQgsjlmCx0VELI5ZgsT6WhRHFcENHR4ezs7NUKm1ra7OxsRG6HMYIRNFiVVRU6HQ6f39/liqLIYpgsVNCyyOKYLFTQsvDgsXwQhTBYodCyyP8WSEhxNXVVa1WNzY2jh49WthiGGMRvsUqLy9Xq9Xjxo1jqbIkMkH2WlVVlZubm5eXl5ube/v2bbAOlsUxVbDa2lBQsL+w8L/ff3/u3DmVSqV/x8HBASxYFofPYN29i4sXkZeH3FwUFkKjaV6wICs/H4CXl9fChQtDQ0MXLlzY1NS0c+fOy5cv9/T0yGTCtKCM8RE+pKSQiRMJ8PBLJiPz5l35299SUlJqamr0G9bU1Ozdu9fZ2RnAhg0bdDodL/UwJmekFiI0FOfO6aMKFxfcvAkXFwQHIzQUQUFYtAhubjOA6TpdeXn5d999RztYZWVlACZMmMBx3JEjR1xcXD755BPjlMQIyhjB4jhkZmL5cgDIygLHoa0NV65g+nRIJACgVqOgALm55Px5/8uXb9TV6b/V3d1dLpfL5fKQkJAVK1Z8+umnnp6eu3fvNkJVjKAMHsfKykJFBbZuffhKYiIAREbi7FmcO4e8PBQXo6eHvrl15syUe/f0HazZs2dLJA+GPP73v/+9+OKLPT09H3744dtvv21QVYzQDA5WYiICAh40VxSN2rVr+Ne/HrxiY4M5cyCXIzS0MzTUfvz4gT7s6NGjGzduJITs27cvJibGoMIYQRl8KAwIQEXFI8GqqACAsDBUV9MwYd48ODrSN+0H/bCoqCiVSvXmm29u2rTJ1dU1MjLS0PIYoRjhBAAgmZkP/jszkxj8mbSP5eEx8cyZNkNrYwRipLnCPmeFBouLez8j4/9u3XL69lssWGD45zGmJvwkdL8IwWuv4fPP4eaG7GzMmiV0QcwwiTRYALRa/Pa3SEnB2LH44QewKR/zIt5gAejqQkQETp2Cjw9yc/HUU0IXxAyZqIMFoL0dzz2H3FwEBODsWYwdK3RBzNAIvx5rcI6OSE/HrFmoqMDKlWhtFbogZmjEHiwAbm74+msEBuLiRUREoLNT6IKYITCDYAEYOxZZWfD2Rk8PurqEroYZArH3sXqrrIS3t34MnxE182ixKivBcfD3f5CqTZuQlYXKSmza9HAb+iIjEuYRLABy+SMxYkTObII1YwamT2dtktkwm2AB2LoV4eGPvLJ3LzjuwdfevQKVxfTHnIIFIDPzkQOiQgFCHnwpFMKVxTzGzIJF132xxkn8zCxYAJKShK6AGQJzGsfqraoKK1dizBjk5AhdCtMfc71A1MEB5eVoahK6DmYA5tpidXXBzg42NtBowHFCV8M8xvz6WJStLZyd0d0NtVroUpj+mGuwAHh4AEBjo9B1MP1hwWJ4wYLF8IIFi+EFCxbDCxYshhfmOkAKwMenUS5v47g2YJrQtTB9mXGL5eBw6tw53+vX3xe6EKYfZhwsDw8PAI3sWChKLFgML8w4WPR59yxY4mTGwaItVkNDg9CFMP0w19UNlJ2dXVdXl0ajsbW1FboW5hFm3GIBGDVqFID79+8LXQjTl3kHi/XfRYsFi+GFeQervb0dQHJycnd3t9C1MI8w12C1t7dHR0cXFRWNGjXqs88+mzJlSmJiokajEbou5heC3a/ZALdu3Zo7dy4AZ2fnrVu3Tpv2YK7Qz89v//79XV1dQhfIEPMLVkZGBj0ZDAgIuHLlCiFEq9UeP35cHy9fX9+EhITOzk6hK7Vq5hQsnU4XHx9Pn72zatWqpqam3u+yeImK2QRLpVKtXr0agFQq3bVrl1ar7XczFi+RMI9g/fjjj5MnTwbg4eHxzTffPHF7Fi/BmUGwjh496ujoCGDOnDk3btwY+jeyeAlI1MHq7u6Oi4ujsYiOjm5vbx/Bh9B4TZ061dB4yeUPn0TMPMmQfkc6na62tvb27dt8V9NbTU2NXC4HYGdnt3fvXgM/bYTxam198B/GfsKZxXvyL6i+vn7FihW+vr5OTk6RkZH37983QVk//PCDl5cXgAkTJuTn5xvrY4cYr46ODpKcTFasIM7OpKmJZGaShIRHtkhI6PsK86gnBCsnJ2fChAkAXFxc7OzsAEycODE7O5vXmpKSkmxsbAAsWbLk7t27Rv/8QeKVn5+/adMmd3d39fTpBCC2tiQriyQkPGyuqMejxjxqwGDpdLqEhAT6Dzx//vyqqqrKysrQ0FAAHMcpFIq2NuM/pbK1tXXdunV0F2+99VZ3d7fRd6HXb7w2bNhA//dEVBT55z9JfT0h/cWItVhPMmCwTp8+DUAikezYsaO7u1utVr/11lu3bt2Kj4+nq+qmT59eWFhoxFIqKiqefvpp2jqmpKQY8ZMHodVqjx07po/Xr371q5deeunq1asP3i4tJbGxpLKS9bGGa8BfUHJyMsdx06ZNa2trKykpoSftK1euJIQUFxc/88wzAGQyWVxcnFHm5tLS0tzd3QEEBgY+/Hc1FX3rxXHc4sWLk5KSEhMTq3/zmwfngO++Swg7KxyeAX9H9+7d8/f3BzBv3jwHBwcAM2bM0P+Td3R0xMXF0dmV+fPnX7t2bcQV9J6oiYiIaG5uHvFHGainp2f79u366fkPgoPJqFHk9deJURtmKzHYH59SqRw7diwAR0fH6OhotVrdZ4Pc3Fw6IO7g4BAfHz/QNMsgGhoannvuOdr4xcfH63S64X6C0YWFhQEYPXr0l8nJhI2mjtQTWvWCggInJycA7733Xr8bqFQqxS93WA8LCxvWWNelS5f8/PwAeHp6fvfdd8Oomk/379+nJ8ID/cjMUDy5u5Ceni6TyQB8+umnA22TkZFBh53c3NySkpKGsuMjR47QiZqgoKCbN28Oo2T+ZWdnS6VSmUyWm5srdC3makj90H379tFlBSdOnBhom7q6Orr6AMDatWvr6Yl6fzo7O9955x265RtvvKHRaEZSOM/oVNLEiRObm/t2AJihGOoJzrvvvkv7Unl5eYNsdvz4cboKb9y4cV999dXjG1RXVy9YsEAikcjl8kOHDo2kZJPo7u5evPj5RYsur10rdCnmaRhnzps3b6b9ocHPAW/evLl06VL9zHFLS4v+rezs7HHjxgHw8fEpKCgYedUmoVQSFxcCkIMHhS7FDA0jWD09PfRg5+fnV1tbO8iWOp0uKSmJdqHoFBAdx6d9taVLl9bV1RlcuSkcPEgA4uREDBhOsVLDG+trb2+nKw6CgoJ6N0X9Ki0tnT17Nu2cBQYG0omav/zlLyMYlRDQ+vUEIEFBRJRdQfEa9iByfX09TcmyZcue2O/u7u6Oj4+3sbHx8vKysbH58ssvR1qnYJqbiZ8fAUhsrNClmJWRzE5UVVWNHz8ewPr164cypHnq1CkXFxcAseb5j5OXR2QyIpGQCxeELsV8jHDaq7CwkGZlx44dQ9n+zJkzdNVNgnkuCvjgA/KPfxARzAuYjZHPp54+fZoucxhiVv7zn/9wHCeRSFJTU0e8U8ZcGDRRf+zYMZqVgVa5tLa27tmzR79E8/333wdgb29/9uxZQ/ZrSkrlI6sZFAqSmUmUSqJQ9H2R6c2gezesX79+z549Op0uOjr67Nmzj2+wffv2nTt3BgUFrVmzJj8/f+fOnW+++WZnZ+fq1auvXbtmyK5NSS5/5EHUzFAYelOQHTt2bN26tbOzM3LVqiuFhX3effXVV6dOnXr16tWTJ08uW7asvLw8ISFhzZo1jY2N4eHhd+/eNXDvpjFjBqZPR1aW0HWYF8MbvZ6enhdeeMEV+Hj8+Jxvv+3zbnt7e2xsLMdxAOzs7PLy8vSDYXPmzGnVXwYjVvqjHv1V6Q+F+jV/9IsdCvswzmLIjo6Ot99+e7RU6ieRbNu2raOjo88GGRkZ9KxQIpH89a9/raurCwgIwNAGw4SlD1ZmJlEoWB9rqIYfrMdX6CqVRKGgY6G2trZJgMLH5+LFi32+r6qqys3NjTaTzz77bG5uLp03fPnll8Wwvm8gvTOkUDxonFiwnmiYfSyOwzvvgBAQgszM3k9jpuvfL1686OHhUV1dHRIS8qc//amrq0u/gZ+fX1FREV3Yfvr06fDw8JiYGCcnp2PHjr333nuGHc9NJCmpnxfLypCWhvp6k1cjcsMI4UBXQT3699sTE3MgMpKuYX/mmWeKi4t7f0dBQQGdnKbmzp37xFWEIhcWRgDi7c1Wxj9iOMEa6LrN/rqyeXl59FoMe3v7Psvh09LSZDIZx3F00TMdwZdKpSdPnjTSD2VSjY1k6VICEHt7cuyY0NWIhvFbLH2Pgy6Hp+eDcrlcqVTqN0lKSgIgk8lmzZqlb70cHBzOnz9v2I8jjO5usnkzAQjHkV272MwPIcPuvPd73eagXdmsrCxvb28Arq6uvZfD79ixA4Cjo+O2bdvo5WUAPD09KyoqRvzDCCshgUilBCDr1pER3RfHohjtrPDhBo+dIzU1NUVFRdHoPP/88zU1NYQQnU63ceNGAGPGjPnmm2+2bNny61//GsDkyZPNZRng47KyiKsrAUhICOHhphPmxHQX9R4/fpze79/d3f3o0aOEkK6uLhomf3//e/futbS00IWB8+bNe/waRnNRUkJ8fQlAJkwgly4JXY1wTHq1eG1t7cqVK2nTFRkZ2djYqFKpZs6cCUChUBBC7ty54+vrC+Cll14yZWHGVVtLgoMJQJYu/TLTWge4TH0bAroc3tnZGcD48ePT0tJ+/vnnV155Rb/Qeffu3RzHffTRRyYuzLja28mWLRWOjo5SqTQxMVHocgQgzP0tqqqqFi1ahF/uiERnDLu6ut544w364t///ndBCjOi3vekeO2116ztsQaC3ThFq9UmJCTQCUQ/P7+0tLRnn30WgJ2d3eHDh4WqyuiOHz9OB4TDwsJMczNEkRD4jjzFxcW0j0X/sr28vIx4Y0iRyM/Pp5cI+Pv7G3JbHvMi/BNWu7q6du/erdFofvrpp08++YTekMPC1NTUREREFBUVjR49OjU1VX9B7whoNJqmpqbm5uZJkyaJ+bmywgfLSqjV6qioqK+++komkyUmJtLLyqmOjo6mIejs7Ozo6KitraXfFRUVNWPGDP3tykVH6CbTimi12j/+8Y/01+7v7+/r66tfRzR0dnZ248aNo4MyABQKhTgXtLEWy9T+8Ic/fP755x0dHfpX7O3tRw2Bg4ODvb09nR8D8MUXX8TExNDluKmpqfQ2UiIidLKtTkREBIBt27bdvHnTwPtiXr58eeLEiQC8vb3FdtLDgmVSdXV1NjY2Mpls8LuqDF19ff2yZcsA2NnZHThwwCifaRQsWCb10UcfAYiIiDDiZ/Z+4pBCoRDJSCwLlknRQbtBbow4Ynv37qWjD4sWLRLD8hAWLNMpLCwEMHbsWJ4alby8PNqF9/HxMe6zHUbAXJ9ib44OHjwI4OWXX6YPkjE6uVxeWFgYHBxcXV29ZMmS1NRUPvYyVMLm2npoNBpPT08AP/74I6876uzsfPXVVwFwHBcXFyfUbe5YsEwkOTkZQFBQkGl2p3+CWnh4eJ+nspsGC5aJLF++HMDHH39ssj3m5OTQB4sEBASUlZWZbL8UC5Yp1NTUSKVSW1vbQW5/z4fbt28HBQUBcHV1NfHVdazzbgpHjhzRarURERG0m2UyPj4+2dnZa9eubWlpWbNmze7du4nJZvBMmWKrRZ+HKNT6995rWdetW2eaC1VYsHiXl5cHwNvbu6enR8AyMjIy6I0zZs6cWVVVxffu2KGQd4cOHQKwYcMGqVQqYBnh4eEXLlyYNm1acXHxvHnzzpw5w+/++E6ulWtvb6ftRHl5udC1EEKISqWiyyvoAyL52xELFr/+/e9/AwgJCRG6kId6enri4uLoPTVeeOGFEydOnD17try8/N69e0YcTZXx2x5aPTqNQ4fCRUIqlcbHx8+ePTsmJubnn39es2ZN73f1qw69vb29vLz6LDakL3p6ej5xuT1bQcqjW7duTZo0yc7O7s6dO/SAKCpKpfLMmTOZmZmNv2hoaBhiHtzc3Hx9fYuLiwfagLVYPDp06JBOp3vxxRdFmCoAU6ZMmTJlyqZHbzWuv7Kjtrb2zp07fS7ooC82NDSoVKrm5uZBPpy1WHwhhEyZMuWnn346ffo0XeRpSZqamtRqtY+Pz0AbsGDxJTs7e+nSpb6+vlVVVXRw0qpY3Q9sMrTbvnHjRitMFViLxRO1Wu3l5dXW1qZUKidPnix0OQKwxj8mE0hOTlar1YsXL7bOVIEFiyciHL4yMXYoND6lUhkYGOjk5FRbW0tvMWeFWItlfIcOHSKErFu3zmpTBTZAaiwqlSo/Pz8zM7OgoODy5csAXnnlFaGLEhIL1khoNJrKysqLFy/m5uYWFRVVVVW1tLTo3+U47rPPPgsNDRWwQsGxYD1ZW1tbeXl5aWlpWVlZYWFhaWlpfX/PZJJIJJ6enlOnTl24cOHvfvc7rtcTrKwQC1ZfXV1dSqWyrKzs6tWrZWVlpaWl169f1+l0/W7s7Oz89NNPL168ePny5cHBwfSWqgxYsPTS09P3799fWlp648aNgWIEwMnJac6cOUuWLAkJCQkODh49erQpizQjbLgBALZs2VJUVHThwgUANjY2Pj4+Go2mpaWltbVVIpEEBgbOnTs3KCho4cKFs2fPts4pmmEz1opB81VUVCSVSqVS6Ycffnj16lWNRvP73/8egJub2759+8z34SvCsvZgabXakJAQALGxsfSV7du3A3BwcMjJyRG2NrNm7cHat28fgPHjx6tUKkLIrl27ANja2mZkZAhdmnmz6mDdv39/zJgxAL744gtCSGJiIgCpVJqcnCx0aWbPqoNFH92zaNEinU538OBBjuM4jtu/f7/QdVkC6w0W7bPLZLKSkpLU1FR6Nam5P3VMPKw0WFqtdsGCBbTPfurUKXox0wcffCB0XZbDSoNF++xeXl7p6en29vYA/vznPwtdlEWxxmDp++x79uxxcXEBsHnzZqGLsjTWGKzXX38dQFBQEJ2QiY6OFupGnRbM6qZ0Ll26NH/+fIlE4ubm1tDQsHr16pSUFJmMzZkamXUFS6fThYaG5ufnu7m5qVSqsLCw9PR0tiSBD9Y1n3rgwIH8/HyZTKZSqUJCQk6ePMlSxRMrarGampoCAgIaGhoAzJw58/vvvx81apTQRVksK2qxYmNjaaoCAgK+/vprlipeWUuLdf78+dDQUEKIj49Pfn6+/nGSDE+sJVhPPfVUdXW1s7NzSUmJn5+f0OVYPms5FJ46dcrX1zcnJ4elyjSspcViTMxaWizGxFiwGF6wYDG8YMFieMGCxfCCBYvhBQsWwwsWLIYXLFgML1iwGF6wYDG8YMFieMGCxfDi/wHEXkQnEDhqxAAAAABJRU5ErkJggg==\" alt=\"Mol\"/></td>\n",
       "    </tr>\n",
       "    <tr>\n",
       "      <th>1</th>\n",
       "      <td>38.968780</td>\n",
       "      <td>3871.778648</td>\n",
       "      <td>+</td>\n",
       "      <td>0</td>\n",
       "      <td>green</td>\n",
       "      <td>green</td>\n",
       "      <td>2.1501</td>\n",
       "      <td>295.4</td>\n",
       "      <td>LTM2LjU5MjM7MS44Mjk2MQ==</td>\n",
       "      <td>yellow</td>\n",
       "      <td>66.4</td>\n",
       "      <td>LIG_A_1101_CC(C)SC[R*]_1</td>\n",
       "      <td><img src=\"data:image/png;base64,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\" alt=\"Mol\"/></td>\n",
       "    </tr>\n",
       "    <tr>\n",
       "      <th>2</th>\n",
       "      <td>52.938810</td>\n",
       "      <td>5259.783805</td>\n",
       "      <td>+</td>\n",
       "      <td>0</td>\n",
       "      <td>green</td>\n",
       "      <td>green</td>\n",
       "      <td>1.3557</td>\n",
       "      <td>278.35</td>\n",
       "      <td>LTM1LjgzMjg7MS43OTE2NA==</td>\n",
       "      <td>yellow</td>\n",
       "      <td>78.43</td>\n",
       "      <td>LIG_A_1101_CCCC[R*]_2</td>\n",
       "      <td><img src=\"data:image/png;base64,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\" alt=\"Mol\"/></td>\n",
       "    </tr>\n",
       "    <tr>\n",
       "      <th>3</th>\n",
       "      <td>73.227225</td>\n",
       "      <td>7275.557743</td>\n",
       "      <td>0</td>\n",
       "      <td>+</td>\n",
       "      <td>green</td>\n",
       "      <td>green</td>\n",
       "      <td>-0.1737</td>\n",
       "      <td>334.437</td>\n",
       "      <td>LTM1LjAyODU7MS40NTk1Mg==</td>\n",
       "      <td>green</td>\n",
       "      <td>82.87</td>\n",
       "      <td>LIG_A_1101_C[NH+](C)[C@H]([R*])C1CCC1_2</td>\n",
       "      <td><img src=\"data:image/png;base64,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\" alt=\"Mol\"/></td>\n",
       "    </tr>\n",
       "    <tr>\n",
       "      <th>4</th>\n",
       "      <td>93.123469</td>\n",
       "      <td>9252.367271</td>\n",
       "      <td>0</td>\n",
       "      <td>-</td>\n",
       "      <td>green</td>\n",
       "      <td>yellow</td>\n",
       "      <td>2.541</td>\n",
       "      <td>376.494</td>\n",
       "      <td>LTM0LjQzMjc7MS4yNzUyOA==</td>\n",
       "      <td>red</td>\n",
       "      <td>87.66</td>\n",
       "      <td>LIG_A_1101_CC(C)CC[C@]1([R*])CCCOC1_2</td>\n",
       "      <td><img src=\"data:image/png;base64,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\" alt=\"Mol\"/></td>\n",
       "    </tr>\n",
       "    <tr>\n",
       "      <th>5</th>\n",
       "      <td>189.260159</td>\n",
       "      <td>18804.115768</td>\n",
       "      <td>0</td>\n",
       "      <td>0</td>\n",
       "      <td>green</td>\n",
       "      <td>yellow</td>\n",
       "      <td>0.9114</td>\n",
       "      <td>339.188</td>\n",
       "      <td>LTMyLjY3NDY7MS42MzM3Mw==</td>\n",
       "      <td>green</td>\n",
       "      <td>78.43</td>\n",
       "      <td>LIG_A_1101_2_02</td>\n",
       "      <td><img src=\"data:image/png;base64,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\" alt=\"Mol\"/></td>\n",
       "    </tr>\n",
       "  </tbody>\n",
       "</table>"
      ],
      "text/plain": [
       "<IPython.core.display.HTML object>"
      ]
     },
     "metadata": {},
     "output_type": "display_data"
    },
    {
     "data": {
      "application/javascript": [
       "\n",
       "            setTimeout(function() {\n",
       "                var nbb_cell_id = 7;\n",
       "                var nbb_unformatted_code = \"df_tmp = PandasTools.LoadSDF(molecules_sdf)\\ndisplay(HTML(df_tmp.to_html()))\";\n",
       "                var nbb_formatted_code = \"df_tmp = PandasTools.LoadSDF(molecules_sdf)\\ndisplay(HTML(df_tmp.to_html()))\";\n",
       "                var nbb_cells = Jupyter.notebook.get_cells();\n",
       "                for (var i = 0; i < nbb_cells.length; ++i) {\n",
       "                    if (nbb_cells[i].input_prompt_number == nbb_cell_id) {\n",
       "                        if (nbb_cells[i].get_text() == nbb_unformatted_code) {\n",
       "                             nbb_cells[i].set_text(nbb_formatted_code);\n",
       "                        }\n",
       "                        break;\n",
       "                    }\n",
       "                }\n",
       "            }, 500);\n",
       "            "
      ],
      "text/plain": [
       "<IPython.core.display.Javascript object>"
      ]
     },
     "metadata": {},
     "output_type": "display_data"
    }
   ],
   "source": [
    "df_tmp = PandasTools.LoadSDF(molecules_sdf)\n",
    "display(HTML(df_tmp.to_html()))"
   ]
  },
  {
   "cell_type": "markdown",
   "metadata": {},
   "source": [
    "### Prepare system call"
   ]
  },
  {
   "cell_type": "code",
   "execution_count": 8,
   "metadata": {},
   "outputs": [
    {
     "name": "stdout",
     "output_type": "stream",
     "text": [
      "C:\\Users\\andre\\AppData\\Local\\Programs\\BioSolveIT\\FTrees-6.0\\FTrees.exe --input C:\\Users\\andre\\Desktop\\Arbeit_Charite\\GitHub\\covid19-SBapproach\\fragment_growing_pipeline\\result_data\\x0967_seesar_inspirations_top5.sdf --searchFiles C:\\Users\\andre\\Desktop\\Arbeit_Charite\\GitHub\\covid19-SBapproach\\data\\REALspace_2019-12.space --maxNofResults 100 --outputFiles C:\\Users\\andre\\Desktop\\Arbeit_Charite\\GitHub\\covid19-SBapproach\\fragment_growing_pipeline\\result_data\\x0967_top5_inspirations_out.sdf --minSimilarityThreshold 0.8 --targetSimilarity 1 --totalDiversity 0.95 --gen3dOutput 1\n"
     ]
    },
    {
     "data": {
      "application/javascript": [
       "\n",
       "            setTimeout(function() {\n",
       "                var nbb_cell_id = 8;\n",
       "                var nbb_unformatted_code = \"sys_call = [\\n    path_to_binary,\\n    \\\"--input\\\",\\n    molecules_sdf,\\n    \\\"--searchFiles\\\",\\n    library,\\n    \\\"--maxNofResults\\\",\\n    max_nof_results,\\n    \\\"--outputFiles\\\",\\n    DATADIR / f\\\"{outfile_name}.sdf\\\",\\n    \\\"--minSimilarityThreshold\\\",\\n    min_sim_thresh,\\n    \\\"--targetSimilarity\\\",\\n    target_sim,\\n    \\\"--totalDiversity\\\",\\n    total_div,\\n    \\\"--gen3dOutput\\\",\\n    gen_3d_output,\\n]\\nprint(*sys_call)\";\n",
       "                var nbb_formatted_code = \"sys_call = [\\n    path_to_binary,\\n    \\\"--input\\\",\\n    molecules_sdf,\\n    \\\"--searchFiles\\\",\\n    library,\\n    \\\"--maxNofResults\\\",\\n    max_nof_results,\\n    \\\"--outputFiles\\\",\\n    DATADIR / f\\\"{outfile_name}.sdf\\\",\\n    \\\"--minSimilarityThreshold\\\",\\n    min_sim_thresh,\\n    \\\"--targetSimilarity\\\",\\n    target_sim,\\n    \\\"--totalDiversity\\\",\\n    total_div,\\n    \\\"--gen3dOutput\\\",\\n    gen_3d_output,\\n]\\nprint(*sys_call)\";\n",
       "                var nbb_cells = Jupyter.notebook.get_cells();\n",
       "                for (var i = 0; i < nbb_cells.length; ++i) {\n",
       "                    if (nbb_cells[i].input_prompt_number == nbb_cell_id) {\n",
       "                        if (nbb_cells[i].get_text() == nbb_unformatted_code) {\n",
       "                             nbb_cells[i].set_text(nbb_formatted_code);\n",
       "                        }\n",
       "                        break;\n",
       "                    }\n",
       "                }\n",
       "            }, 500);\n",
       "            "
      ],
      "text/plain": [
       "<IPython.core.display.Javascript object>"
      ]
     },
     "metadata": {},
     "output_type": "display_data"
    }
   ],
   "source": [
    "sys_call = [\n",
    "    path_to_binary,\n",
    "    \"--input\",\n",
    "    molecules_sdf,\n",
    "    \"--searchFiles\",\n",
    "    library,\n",
    "    \"--maxNofResults\",\n",
    "    max_nof_results,\n",
    "    \"--outputFiles\",\n",
    "    DATADIR / f\"{outfile_name}.sdf\",\n",
    "    \"--minSimilarityThreshold\",\n",
    "    min_sim_thresh,\n",
    "    \"--targetSimilarity\",\n",
    "    target_sim,\n",
    "    \"--totalDiversity\",\n",
    "    total_div,\n",
    "    \"--gen3dOutput\",\n",
    "    gen_3d_output,\n",
    "]\n",
    "print(*sys_call)"
   ]
  },
  {
   "cell_type": "code",
   "execution_count": 9,
   "metadata": {},
   "outputs": [
    {
     "data": {
      "text/plain": [
       "b'\\r\\nQueryMolecule: LIG_A_1101_CCC[C@H]([R*])C1CCC1_2 (1) \\tnofMatches: 100\\r\\n   matching molecule: s_22____6107996____17513450 \\t   source: REALspace_2019-12 \\t   similarity: 1\\r\\n   matching molecule: s_22____307590____17513450 \\t   source: REALspace_2019-12 \\t   similarity: 0.988319\\r\\n   matching molecule: s_22____15101146____17513450 \\t   source: REALspace_2019-12 \\t   similarity: 0.977979\\r\\n   matching molecule: s_22____13441554____17513450 \\t   source: REALspace_2019-12 \\t   similarity: 0.974584\\r\\n   matching molecule: s_22____10431726____17513450 \\t   source: REALspace_2019-12 \\t   similarity: 0.964162\\r\\n   matching molecule: s_22____11950036____107332 \\t   source: REALspace_2019-12 \\t   similarity: 0.962781\\r\\n   matching molecule: s_22____505534____17512240 \\t   source: REALspace_2019-12 \\t   similarity: 0.962495\\r\\n   matching molecule: s_22____17608280____16887748 \\t   source: REALspace_2019-12 \\t   similarity: 0.960826\\r\\n   matching molecule: s_240690a____16508828____17513472 \\t   source: REALspace_2019-12 \\t   similarity: 0.960477\\r\\n   matching molecule: s_22____12206138____59117 \\t   source: REALspace_2019-12 \\t   similarity: 0.95996\\r\\n   matching molecule: s_527a____3701384____17057110 \\t   source: REALspace_2019-12 \\t   similarity: 0.959778\\r\\n   matching molecule: s_22____14174274____13217084 \\t   source: REALspace_2019-12 \\t   similarity: 0.958959\\r\\n   matching molecule: s_240690a____9111858____17513472 \\t   source: REALspace_2019-12 \\t   similarity: 0.958735\\r\\n   matching molecule: s_527a____2308540____217437 \\t   source: REALspace_2019-12 \\t   similarity: 0.958021\\r\\n   matching molecule: s_22____17611684____12624298 \\t   source: REALspace_2019-12 \\t   similarity: 0.957268\\r\\n   matching molecule: s_2708____11569280____914000 \\t   source: REALspace_2019-12 \\t   similarity: 0.95542\\r\\n   matching molecule: s_2708____13426432____914000 \\t   source: REALspace_2019-12 \\t   similarity: 0.95454\\r\\n   matching molecule: s_22____11354082____107332 \\t   source: REALspace_2019-12 \\t   similarity: 0.954058\\r\\n   matching molecule: s_527a____5125430____10749754 \\t   source: REALspace_2019-12 \\t   similarity: 0.953996\\r\\n   matching molecule: s_22____10744164____12624298 \\t   source: REALspace_2019-12 \\t   similarity: 0.953907\\r\\n   matching molecule: s_11a____13425816____16717356 \\t   source: REALspace_2019-12 \\t   similarity: 0.953729\\r\\n   matching molecule: s_272212____13256134____12907916 \\t   source: REALspace_2019-12 \\t   similarity: 0.953681\\r\\n   matching molecule: s_22____8253308____220032 \\t   source: REALspace_2019-12 \\t   similarity: 0.953575\\r\\n   matching molecule: s_22____4995050____59693 \\t   source: REALspace_2019-12 \\t   similarity: 0.953462\\r\\n   matching molecule: s_22____564362____13022876 \\t   source: REALspace_2019-12 \\t   similarity: 0.953376\\r\\n   matching molecule: s_22____15356050____17057108 \\t   source: REALspace_2019-12 \\t   similarity: 0.95304\\r\\n   matching molecule: s_22____12432936____17513450 \\t   source: REALspace_2019-12 \\t   similarity: 0.952495\\r\\n   matching molecule: s_22____10811672____17513450 \\t   source: REALspace_2019-12 \\t   similarity: 0.951921\\r\\n   matching molecule: s_240690a____16537608____17057130 \\t   source: REALspace_2019-12 \\t   similarity: 0.951738\\r\\n   matching molecule: s_22____13949588____17513450 \\t   source: REALspace_2019-12 \\t   similarity: 0.950867\\r\\n   matching molecule: s_22____15429360____3003738 \\t   source: REALspace_2019-12 \\t   similarity: 0.950692\\r\\n   matching molecule: s_11a____15106604____9438614 \\t   source: REALspace_2019-12 \\t   similarity: 0.95069\\r\\n   matching molecule: s_512____7142870____13941176 \\t   source: REALspace_2019-12 \\t   similarity: 0.950277\\r\\n   matching molecule: s_22____10971288____17318518 \\t   source: REALspace_2019-12 \\t   similarity: 0.95015\\r\\n   matching molecule: s_22____10544252____107332 \\t   source: REALspace_2019-12 \\t   similarity: 0.950142\\r\\n   matching molecule: s_512____14944764____9866152 \\t   source: REALspace_2019-12 \\t   similarity: 0.950098\\r\\n   matching molecule: s_240690b____14655660____14577254 \\t   source: REALspace_2019-12 \\t   similarity: 0.949945\\r\\n   matching molecule: s_22____15152936____3192126 \\t   source: REALspace_2019-12 \\t   similarity: 0.949944\\r\\n   matching molecule: s_2708____13152144____6108024 \\t   source: REALspace_2019-12 \\t   similarity: 0.949936\\r\\n   matching molecule: s_22____15782076____17513450 \\t   source: REALspace_2019-12 \\t   similarity: 0.949898\\r\\n   matching molecule: s_22____10641974____107338 \\t   source: REALspace_2019-12 \\t   similarity: 0.949846\\r\\n   matching molecule: s_2430a____14728762____9298134 \\t   source: REALspace_2019-12 \\t   similarity: 0.949718\\r\\n   matching molecule: s_22____15768112____17513450 \\t   source: REALspace_2019-12 \\t   similarity: 0.949626\\r\\n   matching molecule: s_22____554418____17513450 \\t   source: REALspace_2019-12 \\t   similarity: 0.949625\\r\\n   matching molecule: s_512____10971300____13611202 \\t   source: REALspace_2019-12 \\t   similarity: 0.949591\\r\\n   matching molecule: s_22____12056416____17057108 \\t   source: REALspace_2019-12 \\t   similarity: 0.949476\\r\\n   matching molecule: s_22____5531216____12900018 \\t   source: REALspace_2019-12 \\t   similarity: 0.949435\\r\\n   matching molecule: s_22____9163312____1291058 \\t   source: REALspace_2019-12 \\t   similarity: 0.949406\\r\\n   matching molecule: s_22____9106718____14260948 \\t   source: REALspace_2019-12 \\t   similarity: 0.94909\\r\\n   matching molecule: s_2708____9163340____861764 \\t   source: REALspace_2019-12 \\t   similarity: 0.948986\\r\\n   matching molecule: s_2708____6465958____17608306 \\t   source: REALspace_2019-12 \\t   similarity: 0.948983\\r\\n   matching molecule: s_22____9141774____17513450 \\t   source: REALspace_2019-12 \\t   similarity: 0.948265\\r\\n   matching molecule: s_22____14524286____219891 \\t   source: REALspace_2019-12 \\t   similarity: 0.948221\\r\\n   matching molecule: s_272212____13250204____11403114 \\t   source: REALspace_2019-12 \\t   similarity: 0.948207\\r\\n   matching molecule: s_22____10971288____9736332 \\t   source: REALspace_2019-12 \\t   similarity: 0.948053\\r\\n   matching molecule: m_272310____9698476____14588568 \\t   source: REALspace_2019-12 \\t   similarity: 0.947936\\r\\n   matching molecule: s_272164____9388494____9376838 \\t   source: REALspace_2019-12 \\t   similarity: 0.947457\\r\\n   matching molecule: s_2708____5531246____9156422 \\t   source: REALspace_2019-12 \\t   similarity: 0.946949\\r\\n   matching molecule: s_2708____17318976____9106748 \\t   source: REALspace_2019-12 \\t   similarity: 0.946875\\r\\n   matching molecule: s_240690a____13308446____7414598 \\t   source: REALspace_2019-12 \\t   similarity: 0.946299\\r\\n   matching molecule: s_527a____15421630____17513452 \\t   source: REALspace_2019-12 \\t   similarity: 0.946154\\r\\n   matching molecule: s_527a____9322548____217438 \\t   source: REALspace_2019-12 \\t   similarity: 0.94598\\r\\n   matching molecule: s_22____16911156____13287762 \\t   source: REALspace_2019-12 \\t   similarity: 0.945702\\r\\n   matching molecule: s_2708____9163340____5904686 \\t   source: REALspace_2019-12 \\t   similarity: 0.945632\\r\\n   matching molecule: s_2708____3191936____7940594 \\t   source: REALspace_2019-12 \\t   similarity: 0.945543\\r\\n   matching molecule: s_527a____13579206____17513452 \\t   source: REALspace_2019-12 \\t   similarity: 0.945225\\r\\n   matching molecule: s_276436a____16945484____14107082 \\t   source: REALspace_2019-12 \\t   similarity: 0.944545\\r\\n   matching molecule: s_22____8964248____16717358 \\t   source: REALspace_2019-12 \\t   similarity: 0.944286\\r\\n   matching molecule: s_527a____543010____15715224 \\t   source: REALspace_2019-12 \\t   similarity: 0.943912\\r\\n   matching molecule: s_272104____15425646____11403110 \\t   source: REALspace_2019-12 \\t   similarity: 0.943455\\r\\n   matching molecule: s_22____13462392____12624298 \\t   source: REALspace_2019-12 \\t   similarity: 0.943091\\r\\n   matching molecule: s_2708____6465958____16908188 \\t   source: REALspace_2019-12 \\t   similarity: 0.94299\\r\\n   matching molecule: s_58____14655618____12369798 \\t   source: REALspace_2019-12 \\t   similarity: 0.942961\\r\\n   matching molecule: s_11a____16536188____16717356 \\t   source: REALspace_2019-12 \\t   similarity: 0.942633\\r\\n   matching molecule: s_22____10687150____107333 \\t   source: REALspace_2019-12 \\t   similarity: 0.942355\\r\\n   matching molecule: s_1458____17513454____15767436 \\t   source: REALspace_2019-12 \\t   similarity: 0.942302\\r\\n   matching molecule: s_2230a____8737804____666216 \\t   source: REALspace_2019-12 \\t   similarity: 0.94221\\r\\n   matching molecule: s_512____6108006____10211702 \\t   source: REALspace_2019-12 \\t   similarity: 0.941757\\r\\n   matching molecule: s_2708____908366____11566486 \\t   source: REALspace_2019-12 \\t   similarity: 0.941377\\r\\n   matching molecule: s_1458____474620____16618802 \\t   source: REALspace_2019-12 \\t   similarity: 0.941249\\r\\n   matching molecule: s_2708____9163340____14190262 \\t   source: REALspace_2019-12 \\t   similarity: 0.940641\\r\\n   matching molecule: s_512____8902436____9820830 \\t   source: REALspace_2019-12 \\t   similarity: 0.940388\\r\\n   matching molecule: s_240690a____7347544____12624318 \\t   source: REALspace_2019-12 \\t   similarity: 0.940171\\r\\n   matching molecule: s_2708____14785312____8804248 \\t   source: REALspace_2019-12 \\t   similarity: 0.939961\\r\\n   matching molecule: s_2708____11569280____12214562 \\t   source: REALspace_2019-12 \\t   similarity: 0.939944\\r\\n   matching molecule: s_2708____11569280____5343582 \\t   source: REALspace_2019-12 \\t   similarity: 0.939405\\r\\n   matching molecule: s_512____13611284____11973834 \\t   source: REALspace_2019-12 \\t   similarity: 0.939375\\r\\n   matching molecule: s_2230a____7638982____666216 \\t   source: REALspace_2019-12 \\t   similarity: 0.939214\\r\\n   matching molecule: s_22____16911156____14652054 \\t   source: REALspace_2019-12 \\t   similarity: 0.939117\\r\\n   matching molecule: s_276530____14772634____14278174 \\t   source: REALspace_2019-12 \\t   similarity: 0.938542\\r\\n   matching molecule: s_2708____6108022____14482960 \\t   source: REALspace_2019-12 \\t   similarity: 0.938296\\r\\n   matching molecule: s_2708____6108022____9609408 \\t   source: REALspace_2019-12 \\t   similarity: 0.938121\\r\\n   matching molecule: s_2708____908366____9750454 \\t   source: REALspace_2019-12 \\t   similarity: 0.938004\\r\\n   matching molecule: s_22____8696600____5637262 \\t   source: REALspace_2019-12 \\t   similarity: 0.937987\\r\\n   matching molecule: s_272104____9342666____11403110 \\t   source: REALspace_2019-12 \\t   similarity: 0.937952\\r\\n   matching molecule: s_2708____11973844____4509338 \\t   source: REALspace_2019-12 \\t   similarity: 0.93653\\r\\n   matching molecule: s_275532____17541832____13658700 \\t   source: REALspace_2019-12 \\t   similarity: 0.936491\\r\\n   matching molecule: s_22____10813308____17513450 \\t   source: REALspace_2019-12 \\t   similarity: 0.93606\\r\\n   matching molecule: s_512____784460____13913670 \\t   source: REALspace_2019-12 \\t   similarity: 0.936041\\r\\n   matching molecule: s_8____14591234____83777 \\t   source: REALspace_2019-12 \\t   similarity: 0.935909\\r\\n\\r\\nQueryMolecule: LIG_A_1101_CC(C)SC[R*]_1 (2) \\tnofMatches: 100\\r\\n   matching molecule: s_22____13611716____17513450 \\t   source: REALspace_2019-12 \\t   similarity: 0.982714\\r\\n   matching molecule: s_22____13465914____17513450 \\t   source: REALspace_2019-12 \\t   similarity: 0.962481\\r\\n   matching molecule: s_22____5360682____17513450 \\t   source: REALspace_2019-12 \\t   similarity: 0.957932\\r\\n   matching molecule: s_22____7966704____7841202 \\t   source: REALspace_2019-12 \\t   similarity: 0.955539\\r\\n   matching molecule: s_22____14174274____7692614 \\t   source: REALspace_2019-12 \\t   similarity: 0.95322\\r\\n   matching molecule: s_11a____14594094____7692612 \\t   source: REALspace_2019-12 \\t   similarity: 0.951641\\r\\n   matching molecule: s_22____564348____17513450 \\t   source: REALspace_2019-12 \\t   similarity: 0.950212\\r\\n   matching molecule: s_276436a____14085696____14098040 \\t   source: REALspace_2019-12 \\t   similarity: 0.949669\\r\\n   matching molecule: s_1458____17513454____12121624 \\t   source: REALspace_2019-12 \\t   similarity: 0.948837\\r\\n   matching molecule: s_22____8963080____58844 \\t   source: REALspace_2019-12 \\t   similarity: 0.948236\\r\\n   matching molecule: s_22____12635594____1055140 \\t   source: REALspace_2019-12 \\t   similarity: 0.946464\\r\\n   matching molecule: s_272212____13255400____11403114 \\t   source: REALspace_2019-12 \\t   similarity: 0.945394\\r\\n   matching molecule: s_22____12206138____17611650 \\t   source: REALspace_2019-12 \\t   similarity: 0.944763\\r\\n   matching molecule: s_11a____14594094____13759172 \\t   source: REALspace_2019-12 \\t   similarity: 0.944696\\r\\n   matching molecule: s_527a____6362582____217438 \\t   source: REALspace_2019-12 \\t   similarity: 0.944372\\r\\n   matching molecule: s_188690b____14468518____8287470 \\t   source: REALspace_2019-12 \\t   similarity: 0.940921\\r\\n   matching molecule: s_22____9866142____548060 \\t   source: REALspace_2019-12 \\t   similarity: 0.940918\\r\\n   matching molecule: s_22____11620984____107338 \\t   source: REALspace_2019-12 \\t   similarity: 0.940478\\r\\n   matching molecule: s_22____7866888____12624298 \\t   source: REALspace_2019-12 \\t   similarity: 0.940139\\r\\n   matching molecule: s_22____14588660____548060 \\t   source: REALspace_2019-12 \\t   similarity: 0.940036\\r\\n   matching molecule: s_22____6956712____16887748 \\t   source: REALspace_2019-12 \\t   similarity: 0.939026\\r\\n   matching molecule: s_22____7966704____1722870 \\t   source: REALspace_2019-12 \\t   similarity: 0.938549\\r\\n   matching molecule: s_22____564362____548060 \\t   source: REALspace_2019-12 \\t   similarity: 0.937911\\r\\n   matching molecule: s_22____12210646____17057108 \\t   source: REALspace_2019-12 \\t   similarity: 0.937163\\r\\n   matching molecule: s_62____2390328____7118646 \\t   source: REALspace_2019-12 \\t   similarity: 0.936792\\r\\n   matching molecule: s_34____15258682____10809276 \\t   source: REALspace_2019-12 \\t   similarity: 0.935572\\r\\n   matching molecule: s_276436a____16886450____17513464 \\t   source: REALspace_2019-12 \\t   similarity: 0.935007\\r\\n   matching molecule: s_22____7348398____1055140 \\t   source: REALspace_2019-12 \\t   similarity: 0.93494\\r\\n   matching molecule: s_22____16501874____548060 \\t   source: REALspace_2019-12 \\t   similarity: 0.934622\\r\\n   matching molecule: s_22____16639008____548072 \\t   source: REALspace_2019-12 \\t   similarity: 0.933552\\r\\n   matching molecule: s_527a____9282696____217437 \\t   source: REALspace_2019-12 \\t   similarity: 0.932341\\r\\n   matching molecule: s_22____16918398____107332 \\t   source: REALspace_2019-12 \\t   similarity: 0.932204\\r\\n   matching molecule: s_22____13949588____17513450 \\t   source: REALspace_2019-12 \\t   similarity: 0.931678\\r\\n   matching molecule: s_22____11649876____1322986 \\t   source: REALspace_2019-12 \\t   similarity: 0.931626\\r\\n   matching molecule: EN300-09603 \\t   source: REALspace_2019-12 \\t   similarity: 0.931624\\r\\n   matching molecule: s_22____17318954____14651684 \\t   source: REALspace_2019-12 \\t   similarity: 0.931534\\r\\n   matching molecule: s_527a____10430200____210093 \\t   source: REALspace_2019-12 \\t   similarity: 0.931347\\r\\n   matching molecule: s_22____14718616____107332 \\t   source: REALspace_2019-12 \\t   similarity: 0.931322\\r\\n   matching molecule: s_276436a____14085696____14093154 \\t   source: REALspace_2019-12 \\t   similarity: 0.931094\\r\\n   matching molecule: s_22____12210646____16717358 \\t   source: REALspace_2019-12 \\t   similarity: 0.930993\\r\\n   matching molecule: s_276436a____15413918____16717372 \\t   source: REALspace_2019-12 \\t   similarity: 0.93094\\r\\n   matching molecule: s_22____15151066____8593028 \\t   source: REALspace_2019-12 \\t   similarity: 0.930686\\r\\n   matching molecule: s_270062____14591256____15585492 \\t   source: REALspace_2019-12 \\t   similarity: 0.930541\\r\\n   matching molecule: s_240690a____16789190____7412758 \\t   source: REALspace_2019-12 \\t   similarity: 0.930189\\r\\n   matching molecule: s_269946a____7297400____17057126 \\t   source: REALspace_2019-12 \\t   similarity: 0.930056\\r\\n   matching molecule: s_1458____470822____10158468 \\t   source: REALspace_2019-12 \\t   similarity: 0.929949\\r\\n   matching molecule: s_22____12206138____2834210 \\t   source: REALspace_2019-12 \\t   similarity: 0.929699\\r\\n   matching molecule: s_8____14594092____7689630 \\t   source: REALspace_2019-12 \\t   similarity: 0.929635\\r\\n   matching molecule: m_271722____10195612____17513462 \\t   source: REALspace_2019-12 \\t   similarity: 0.929487\\r\\n   matching molecule: s_240690a____7347540____17513472 \\t   source: REALspace_2019-12 \\t   similarity: 0.92939\\r\\n   matching molecule: s_527a____13611728____14038892 \\t   source: REALspace_2019-12 \\t   similarity: 0.929371\\r\\n   matching molecule: s_22____14421750____13287720 \\t   source: REALspace_2019-12 \\t   similarity: 0.92924\\r\\n   matching molecule: s_276436a____14085750____14087428 \\t   source: REALspace_2019-12 \\t   similarity: 0.928935\\r\\n   matching molecule: s_22____16911156____548072 \\t   source: REALspace_2019-12 \\t   similarity: 0.928612\\r\\n   matching molecule: s_276436a____15413918____14087426 \\t   source: REALspace_2019-12 \\t   similarity: 0.92861\\r\\n   matching molecule: s_11a____5137414____220031 \\t   source: REALspace_2019-12 \\t   similarity: 0.928407\\r\\n   matching molecule: s_240690a____7868478____17057130 \\t   source: REALspace_2019-12 \\t   similarity: 0.928394\\r\\n   matching molecule: s_22____1281834____7841202 \\t   source: REALspace_2019-12 \\t   similarity: 0.928376\\r\\n   matching molecule: s_8____13611712____83751 \\t   source: REALspace_2019-12 \\t   similarity: 0.928127\\r\\n   matching molecule: s_270062____16420882____15585492 \\t   source: REALspace_2019-12 \\t   similarity: 0.928056\\r\\n   matching molecule: s_188690b____2735030____10870446 \\t   source: REALspace_2019-12 \\t   similarity: 0.927959\\r\\n   matching molecule: s_1458____17513454____15113670 \\t   source: REALspace_2019-12 \\t   similarity: 0.927713\\r\\n   matching molecule: s_22____4822192____17513450 \\t   source: REALspace_2019-12 \\t   similarity: 0.92766\\r\\n   matching molecule: s_11a____13797774____12624296 \\t   source: REALspace_2019-12 \\t   similarity: 0.92704\\r\\n   matching molecule: s_11a____5904666____548058 \\t   source: REALspace_2019-12 \\t   similarity: 0.926516\\r\\n   matching molecule: s_22____15151066____16726278 \\t   source: REALspace_2019-12 \\t   similarity: 0.926509\\r\\n   matching molecule: s_11a____12914660____17512238 \\t   source: REALspace_2019-12 \\t   similarity: 0.926466\\r\\n   matching molecule: s_22____8741158____10687876 \\t   source: REALspace_2019-12 \\t   similarity: 0.926341\\r\\n   matching molecule: s_22____12890560____7841202 \\t   source: REALspace_2019-12 \\t   similarity: 0.926275\\r\\n   matching molecule: s_22____12853234____60463 \\t   source: REALspace_2019-12 \\t   similarity: 0.925775\\r\\n   matching molecule: s_2708____7689054____6465960 \\t   source: REALspace_2019-12 \\t   similarity: 0.925402\\r\\n   matching molecule: s_1458____17057112____8265150 \\t   source: REALspace_2019-12 \\t   similarity: 0.925069\\r\\n   matching molecule: s_22____9982722____17513450 \\t   source: REALspace_2019-12 \\t   similarity: 0.925033\\r\\n   matching molecule: s_22____9283054____1055140 \\t   source: REALspace_2019-12 \\t   similarity: 0.924871\\r\\n   matching molecule: s_2708____11569280____13040476 \\t   source: REALspace_2019-12 \\t   similarity: 0.924664\\r\\n   matching molecule: s_22____14182010____7841202 \\t   source: REALspace_2019-12 \\t   similarity: 0.924645\\r\\n   matching molecule: s_34____15258682____2692240 \\t   source: REALspace_2019-12 \\t   similarity: 0.92432\\r\\n   matching molecule: s_34____15258682____14428370 \\t   source: REALspace_2019-12 \\t   similarity: 0.924111\\r\\n   matching molecule: s_22____11569248____12297758 \\t   source: REALspace_2019-12 \\t   similarity: 0.92406\\r\\n   matching molecule: s_22____12206138____13022906 \\t   source: REALspace_2019-12 \\t   similarity: 0.923626\\r\\n   matching molecule: s_63____17315394____7593308 \\t   source: REALspace_2019-12 \\t   similarity: 0.923435\\r\\n   matching molecule: s_22____13824052____17057108 \\t   source: REALspace_2019-12 \\t   similarity: 0.923381\\r\\n   matching molecule: s_240690b____7355900____14581486 \\t   source: REALspace_2019-12 \\t   similarity: 0.92325\\r\\n   matching molecule: s_1458____17513454____13763134 \\t   source: REALspace_2019-12 \\t   similarity: 0.923222\\r\\n   matching molecule: s_1458____17513454____9433362 \\t   source: REALspace_2019-12 \\t   similarity: 0.92269\\r\\n   matching molecule: s_11a____2496944____548058 \\t   source: REALspace_2019-12 \\t   similarity: 0.922572\\r\\n   matching molecule: s_22____11566452____548060 \\t   source: REALspace_2019-12 \\t   similarity: 0.922446\\r\\n   matching molecule: s_240690b____13611768____14577254 \\t   source: REALspace_2019-12 \\t   similarity: 0.921921\\r\\n   matching molecule: s_22____14326058____220032 \\t   source: REALspace_2019-12 \\t   similarity: 0.921343\\r\\n   matching molecule: s_22____1322838____60463 \\t   source: REALspace_2019-12 \\t   similarity: 0.92133\\r\\n   matching molecule: s_527a____10214102____17513452 \\t   source: REALspace_2019-12 \\t   similarity: 0.921303\\r\\n   matching molecule: s_22____15786952____13287720 \\t   source: REALspace_2019-12 \\t   similarity: 0.921266\\r\\n   matching molecule: s_22____9277430____3192126 \\t   source: REALspace_2019-12 \\t   similarity: 0.921251\\r\\n   matching molecule: s_272164____9388494____17340966 \\t   source: REALspace_2019-12 \\t   similarity: 0.921203\\r\\n   matching molecule: s_22____11649876____16481288 \\t   source: REALspace_2019-12 \\t   similarity: 0.920748\\r\\n   matching molecule: s_62____2390328____81227 \\t   source: REALspace_2019-12 \\t   similarity: 0.92045\\r\\n   matching molecule: s_512____7689040____13941176 \\t   source: REALspace_2019-12 \\t   similarity: 0.920321\\r\\n   matching molecule: s_11a____16637818____217444 \\t   source: REALspace_2019-12 \\t   similarity: 0.920177\\r\\n   matching molecule: s_11a____13657618____548058 \\t   source: REALspace_2019-12 \\t   similarity: 0.919902\\r\\n   matching molecule: s_188690b____10719888____17513482 \\t   source: REALspace_2019-12 \\t   similarity: 0.919843\\r\\n\\r\\nQueryMolecule: LIG_A_1101_CCCC[R*]_2 (3) \\tnofMatches: 100\\r\\n   matching molecule: s_22____57764____17513450 \\t   source: REALspace_2019-12 \\t   similarity: 1\\r\\n   matching molecule: s_22____12206138____9320452 \\t   source: REALspace_2019-12 \\t   similarity: 0.949994\\r\\n   matching molecule: s_2708____12635628____12427832 \\t   source: REALspace_2019-12 \\t   similarity: 0.949992\\r\\n   matching molecule: s_22____13811180____5637262 \\t   source: REALspace_2019-12 \\t   similarity: 0.949981\\r\\n   matching molecule: s_22____3048356____16887748 \\t   source: REALspace_2019-12 \\t   similarity: 0.949973\\r\\n   matching molecule: s_240690a____16979978____7408870 \\t   source: REALspace_2019-12 \\t   similarity: 0.949968\\r\\n   matching molecule: s_11a____10903210____16717356 \\t   source: REALspace_2019-12 \\t   similarity: 0.949955\\r\\n   matching molecule: s_22____57678____219891 \\t   source: REALspace_2019-12 \\t   similarity: 0.949918\\r\\n   matching molecule: s_11a____8846298____217443 \\t   source: REALspace_2019-12 \\t   similarity: 0.949902\\r\\n   matching molecule: s_22____6406230____17057108 \\t   source: REALspace_2019-12 \\t   similarity: 0.949889\\r\\n   matching molecule: s_527a____9051020____12624300 \\t   source: REALspace_2019-12 \\t   similarity: 0.949873\\r\\n   matching molecule: s_512____214534____9866152 \\t   source: REALspace_2019-12 \\t   similarity: 0.949843\\r\\n   matching molecule: s_22____5002572____12624298 \\t   source: REALspace_2019-12 \\t   similarity: 0.949821\\r\\n   matching molecule: s_2708____10336314____11569282 \\t   source: REALspace_2019-12 \\t   similarity: 0.949803\\r\\n   matching molecule: s_512____14933166____13941176 \\t   source: REALspace_2019-12 \\t   similarity: 0.9498\\r\\n   matching molecule: s_22____9631018____16717358 \\t   source: REALspace_2019-12 \\t   similarity: 0.949785\\r\\n   matching molecule: s_22____12206138____4059138 \\t   source: REALspace_2019-12 \\t   similarity: 0.949748\\r\\n   matching molecule: s_2708____13426432____15747386 \\t   source: REALspace_2019-12 \\t   similarity: 0.949733\\r\\n   matching molecule: s_527a____13952036____17513452 \\t   source: REALspace_2019-12 \\t   similarity: 0.949725\\r\\n   matching molecule: s_22____4836870____17064022 \\t   source: REALspace_2019-12 \\t   similarity: 0.949708\\r\\n   matching molecule: s_22____7290494____17057108 \\t   source: REALspace_2019-12 \\t   similarity: 0.949618\\r\\n   matching molecule: s_22____15151066____10968770 \\t   source: REALspace_2019-12 \\t   similarity: 0.949539\\r\\n   matching molecule: s_22____8252164____17064022 \\t   source: REALspace_2019-12 \\t   similarity: 0.949381\\r\\n   matching molecule: s_22____7114868____107333 \\t   source: REALspace_2019-12 \\t   similarity: 0.949358\\r\\n   matching molecule: s_270062____7610942____8147258 \\t   source: REALspace_2019-12 \\t   similarity: 0.949315\\r\\n   matching molecule: s_22____10390142____15065924 \\t   source: REALspace_2019-12 \\t   similarity: 0.949298\\r\\n   matching molecule: s_240690b____15151100____11954850 \\t   source: REALspace_2019-12 \\t   similarity: 0.949279\\r\\n   matching molecule: s_22____8902424____17064022 \\t   source: REALspace_2019-12 \\t   similarity: 0.949253\\r\\n   matching molecule: s_2430a____12915848____4963356 \\t   source: REALspace_2019-12 \\t   similarity: 0.949207\\r\\n   matching molecule: s_22____7689026____3192126 \\t   source: REALspace_2019-12 \\t   similarity: 0.949064\\r\\n   matching molecule: s_527a____11985138____17513452 \\t   source: REALspace_2019-12 \\t   similarity: 0.948927\\r\\n   matching molecule: s_2708____10269490____2679674 \\t   source: REALspace_2019-12 \\t   similarity: 0.948916\\r\\n   matching molecule: s_2430a____12875778____8696690 \\t   source: REALspace_2019-12 \\t   similarity: 0.948561\\r\\n   matching molecule: s_22____15107540____17513450 \\t   source: REALspace_2019-12 \\t   similarity: 0.948527\\r\\n   matching molecule: s_11a____10903210____217443 \\t   source: REALspace_2019-12 \\t   similarity: 0.948453\\r\\n   matching molecule: s_240690a____11965284____7408864 \\t   source: REALspace_2019-12 \\t   similarity: 0.948436\\r\\n   matching molecule: s_8____14594092____11685364 \\t   source: REALspace_2019-12 \\t   similarity: 0.948379\\r\\n   matching molecule: s_240690a____16942188____17513472 \\t   source: REALspace_2019-12 \\t   similarity: 0.948367\\r\\n   matching molecule: s_2554____4509336____788516 \\t   source: REALspace_2019-12 \\t   similarity: 0.948143\\r\\n   matching molecule: s_2708____10546048____16639436 \\t   source: REALspace_2019-12 \\t   similarity: 0.94809\\r\\n   matching molecule: s_22____16487112____12624298 \\t   source: REALspace_2019-12 \\t   similarity: 0.948056\\r\\n   matching molecule: s_2708____16492918____5535004 \\t   source: REALspace_2019-12 \\t   similarity: 0.947961\\r\\n   matching molecule: s_22____10176180____3003738 \\t   source: REALspace_2019-12 \\t   similarity: 0.947921\\r\\n   matching molecule: s_22____13427692____17513450 \\t   source: REALspace_2019-12 \\t   similarity: 0.947708\\r\\n   matching molecule: s_22____15086876____17513450 \\t   source: REALspace_2019-12 \\t   similarity: 0.947585\\r\\n   matching molecule: s_270062____7629082____8147258 \\t   source: REALspace_2019-12 \\t   similarity: 0.947484\\r\\n   matching molecule: s_22____9277640____17513450 \\t   source: REALspace_2019-12 \\t   similarity: 0.947035\\r\\n   matching molecule: s_2708____16492918____14595632 \\t   source: REALspace_2019-12 \\t   similarity: 0.946991\\r\\n   matching molecule: s_1458____17513454____15565432 \\t   source: REALspace_2019-12 \\t   similarity: 0.946983\\r\\n   matching molecule: s_22____4712096____16887748 \\t   source: REALspace_2019-12 \\t   similarity: 0.946973\\r\\n   matching molecule: s_22____11401830____3192126 \\t   source: REALspace_2019-12 \\t   similarity: 0.946895\\r\\n   matching molecule: s_276530____14277870____14278036 \\t   source: REALspace_2019-12 \\t   similarity: 0.946477\\r\\n   matching molecule: s_22____6080378____17513450 \\t   source: REALspace_2019-12 \\t   similarity: 0.94632\\r\\n   matching molecule: s_188690b____7326520____17513482 \\t   source: REALspace_2019-12 \\t   similarity: 0.945886\\r\\n   matching molecule: s_2230a____7912836____666216 \\t   source: REALspace_2019-12 \\t   similarity: 0.945598\\r\\n   matching molecule: s_22____12427814____9736368 \\t   source: REALspace_2019-12 \\t   similarity: 0.945279\\r\\n   matching molecule: s_22____57813____107332 \\t   source: REALspace_2019-12 \\t   similarity: 0.944993\\r\\n   matching molecule: s_240690b____17025736____11954850 \\t   source: REALspace_2019-12 \\t   similarity: 0.94495\\r\\n   matching molecule: s_1458____17513454____13763166 \\t   source: REALspace_2019-12 \\t   similarity: 0.94488\\r\\n   matching molecule: s_22____58834____17513450 \\t   source: REALspace_2019-12 \\t   similarity: 0.944851\\r\\n   matching molecule: s_22____10638314____17513450 \\t   source: REALspace_2019-12 \\t   similarity: 0.944851\\r\\n   matching molecule: s_11a____6389022____220031 \\t   source: REALspace_2019-12 \\t   similarity: 0.944767\\r\\n   matching molecule: s_22____13135904____9736332 \\t   source: REALspace_2019-12 \\t   similarity: 0.944743\\r\\n   matching molecule: s_2708____6465958____909110 \\t   source: REALspace_2019-12 \\t   similarity: 0.944602\\r\\n   matching molecule: s_527a____6078728____17513452 \\t   source: REALspace_2019-12 \\t   similarity: 0.944543\\r\\n   matching molecule: s_22____10390876____107332 \\t   source: REALspace_2019-12 \\t   similarity: 0.944484\\r\\n   matching molecule: s_271949____10838282____14933200 \\t   source: REALspace_2019-12 \\t   similarity: 0.944377\\r\\n   matching molecule: s_22____11406706____17513450 \\t   source: REALspace_2019-12 \\t   similarity: 0.944193\\r\\n   matching molecule: s_527a____10430816____220034 \\t   source: REALspace_2019-12 \\t   similarity: 0.944153\\r\\n   matching molecule: s_22____15424994____17064022 \\t   source: REALspace_2019-12 \\t   similarity: 0.944148\\r\\n   matching molecule: s_22____2391588____3192126 \\t   source: REALspace_2019-12 \\t   similarity: 0.94409\\r\\n   matching molecule: s_2430a____12915848____12527170 \\t   source: REALspace_2019-12 \\t   similarity: 0.944043\\r\\n   matching molecule: s_188690b____8331286____5367188 \\t   source: REALspace_2019-12 \\t   similarity: 0.943791\\r\\n   matching molecule: s_22____7290494____16717358 \\t   source: REALspace_2019-12 \\t   similarity: 0.943154\\r\\n   matching molecule: s_11a____9785156____217445 \\t   source: REALspace_2019-12 \\t   similarity: 0.943044\\r\\n   matching molecule: s_527a____7207670____220034 \\t   source: REALspace_2019-12 \\t   similarity: 0.942934\\r\\n   matching molecule: s_276750____14462982____14609688 \\t   source: REALspace_2019-12 \\t   similarity: 0.942923\\r\\n   matching molecule: s_22____2391588____16717358 \\t   source: REALspace_2019-12 \\t   similarity: 0.942645\\r\\n   matching molecule: s_527a____12913940____210093 \\t   source: REALspace_2019-12 \\t   similarity: 0.942486\\r\\n   matching molecule: s_2708____11987194____911554 \\t   source: REALspace_2019-12 \\t   similarity: 0.940775\\r\\n   matching molecule: s_188690b____14468518____13244122 \\t   source: REALspace_2019-12 \\t   similarity: 0.940754\\r\\n   matching molecule: s_527a____10737786____3192128 \\t   source: REALspace_2019-12 \\t   similarity: 0.940386\\r\\n   matching molecule: s_527a____11246852____3192128 \\t   source: REALspace_2019-12 \\t   similarity: 0.940109\\r\\n   matching molecule: s_2430a____16634140____14422702 \\t   source: REALspace_2019-12 \\t   similarity: 0.93915\\r\\n   matching molecule: s_11a____10641116____12900016 \\t   source: REALspace_2019-12 \\t   similarity: 0.938978\\r\\n   matching molecule: s_22____9749456____12624298 \\t   source: REALspace_2019-12 \\t   similarity: 0.938831\\r\\n   matching molecule: s_2708____11967204____2443830 \\t   source: REALspace_2019-12 \\t   similarity: 0.938711\\r\\n   matching molecule: s_22____2440394____17513450 \\t   source: REALspace_2019-12 \\t   similarity: 0.938669\\r\\n   matching molecule: s_11a____7838284____12624296 \\t   source: REALspace_2019-12 \\t   similarity: 0.93858\\r\\n   matching molecule: s_22____14597438____17513450 \\t   source: REALspace_2019-12 \\t   similarity: 0.938398\\r\\n   matching molecule: s_22____16911156____3703044 \\t   source: REALspace_2019-12 \\t   similarity: 0.938319\\r\\n   matching molecule: s_527a____17514474____17513452 \\t   source: REALspace_2019-12 \\t   similarity: 0.938079\\r\\n   matching molecule: s_22____2067946____59693 \\t   source: REALspace_2019-12 \\t   similarity: 0.938066\\r\\n   matching molecule: s_527a____1027272____17057110 \\t   source: REALspace_2019-12 \\t   similarity: 0.937958\\r\\n   matching molecule: m_272310____14933206____12218986 \\t   source: REALspace_2019-12 \\t   similarity: 0.937955\\r\\n   matching molecule: s_527a____7659380____12624300 \\t   source: REALspace_2019-12 \\t   similarity: 0.937808\\r\\n   matching molecule: s_2430a____12875778____7689188 \\t   source: REALspace_2019-12 \\t   similarity: 0.937562\\r\\n   matching molecule: s_11a____8685750____5637260 \\t   source: REALspace_2019-12 \\t   similarity: 0.937155\\r\\n   matching molecule: s_527a____14048834____17057110 \\t   source: REALspace_2019-12 \\t   similarity: 0.937052\\r\\n   matching molecule: s_2708____9434212____10739996 \\t   source: REALspace_2019-12 \\t   similarity: 0.936901\\r\\n\\r\\nQueryMolecule: LIG_A_1101_C[NH+](C)[C@H]([R*])C1CCC1_2 (4) \\tnofMatches: 100\\r\\n   matching molecule: s_22____9044506____17513450 \\t   source: REALspace_2019-12 \\t   similarity: 1\\r\\n   matching molecule: s_22____15425608____17513450 \\t   source: REALspace_2019-12 \\t   similarity: 0.969345\\r\\n   matching molecule: s_240690a____16508828____17513472 \\t   source: REALspace_2019-12 \\t   similarity: 0.960897\\r\\n   matching molecule: s_22____10547740____17513450 \\t   source: REALspace_2019-12 \\t   similarity: 0.960154\\r\\n   matching molecule: s_22____9609722____17513450 \\t   source: REALspace_2019-12 \\t   similarity: 0.958078\\r\\n   matching molecule: s_22____10741068____17512240 \\t   source: REALspace_2019-12 \\t   similarity: 0.957464\\r\\n   matching molecule: s_22____13472478____17064022 \\t   source: REALspace_2019-12 \\t   similarity: 0.951737\\r\\n   matching molecule: s_22____130461____14260948 \\t   source: REALspace_2019-12 \\t   similarity: 0.949993\\r\\n   matching molecule: s_2708____5730620____2680692 \\t   source: REALspace_2019-12 \\t   similarity: 0.949984\\r\\n   matching molecule: s_22____2335960____107333 \\t   source: REALspace_2019-12 \\t   similarity: 0.94997\\r\\n   matching molecule: s_22____4836848____5637262 \\t   source: REALspace_2019-12 \\t   similarity: 0.94992\\r\\n   matching molecule: s_22____5730600____999588 \\t   source: REALspace_2019-12 \\t   similarity: 0.949895\\r\\n   matching molecule: s_2708____1181760____8696720 \\t   source: REALspace_2019-12 \\t   similarity: 0.949865\\r\\n   matching molecule: s_22____4974230____219891 \\t   source: REALspace_2019-12 \\t   similarity: 0.949864\\r\\n   matching molecule: s_2708____5730620____9820842 \\t   source: REALspace_2019-12 \\t   similarity: 0.949851\\r\\n   matching molecule: s_22____2308218____17513450 \\t   source: REALspace_2019-12 \\t   similarity: 0.949827\\r\\n   matching molecule: s_22____15757826____17513450 \\t   source: REALspace_2019-12 \\t   similarity: 0.949752\\r\\n   matching molecule: s_22____15248554____220032 \\t   source: REALspace_2019-12 \\t   similarity: 0.949725\\r\\n   matching molecule: s_272212____16644262____14247350 \\t   source: REALspace_2019-12 \\t   similarity: 0.949528\\r\\n   matching molecule: s_240690b____11576150____16478382 \\t   source: REALspace_2019-12 \\t   similarity: 0.949497\\r\\n   matching molecule: s_22____4974264____107338 \\t   source: REALspace_2019-12 \\t   similarity: 0.949449\\r\\n   matching molecule: s_22____9044506____12900018 \\t   source: REALspace_2019-12 \\t   similarity: 0.949435\\r\\n   matching molecule: s_22____116752____16717358 \\t   source: REALspace_2019-12 \\t   similarity: 0.949074\\r\\n   matching molecule: s_22____12056416____17513450 \\t   source: REALspace_2019-12 \\t   similarity: 0.948973\\r\\n   matching molecule: s_22____12206138____15713960 \\t   source: REALspace_2019-12 \\t   similarity: 0.948896\\r\\n   matching molecule: s_22____6286038____17513450 \\t   source: REALspace_2019-12 \\t   similarity: 0.948885\\r\\n   matching molecule: s_2708____4974248____4509338 \\t   source: REALspace_2019-12 \\t   similarity: 0.948276\\r\\n   matching molecule: s_270006a____11615602____8408010 \\t   source: REALspace_2019-12 \\t   similarity: 0.948239\\r\\n   matching molecule: s_240690b____17037432____16478718 \\t   source: REALspace_2019-12 \\t   similarity: 0.947876\\r\\n   matching molecule: s_273652a____12626564____11610416 \\t   source: REALspace_2019-12 \\t   similarity: 0.94773\\r\\n   matching molecule: s_527a____3706250____5637264 \\t   source: REALspace_2019-12 \\t   similarity: 0.94773\\r\\n   matching molecule: s_22____130461____518218 \\t   source: REALspace_2019-12 \\t   similarity: 0.947565\\r\\n   matching molecule: m_272310____13246668____14588568 \\t   source: REALspace_2019-12 \\t   similarity: 0.94738\\r\\n   matching molecule: s_2708____5730620____10861350 \\t   source: REALspace_2019-12 \\t   similarity: 0.947263\\r\\n   matching molecule: s_22____4974230____17318518 \\t   source: REALspace_2019-12 \\t   similarity: 0.947227\\r\\n   matching molecule: s_22____15076258____107338 \\t   source: REALspace_2019-12 \\t   similarity: 0.947092\\r\\n   matching molecule: s_240690b____15151100____13975068 \\t   source: REALspace_2019-12 \\t   similarity: 0.94679\\r\\n   matching molecule: s_22____14468648____3192126 \\t   source: REALspace_2019-12 \\t   similarity: 0.946123\\r\\n   matching molecule: s_2708____12635628____13025972 \\t   source: REALspace_2019-12 \\t   similarity: 0.945709\\r\\n   matching molecule: m_275030____14113942____14127132____14146952 \\t   source: REALspace_2019-12 \\t   similarity: 0.945323\\r\\n   matching molecule: s_240690a____7347498____12624318 \\t   source: REALspace_2019-12 \\t   similarity: 0.945179\\r\\n   matching molecule: s_527a____237627____12624300 \\t   source: REALspace_2019-12 \\t   similarity: 0.945164\\r\\n   matching molecule: s_2708____5730620____5904686 \\t   source: REALspace_2019-12 \\t   similarity: 0.945085\\r\\n   matching molecule: s_2708____4974248____7557148 \\t   source: REALspace_2019-12 \\t   similarity: 0.944978\\r\\n   matching molecule: s_527a____7687400____17513452 \\t   source: REALspace_2019-12 \\t   similarity: 0.944772\\r\\n   matching molecule: s_270006a____16467530____8412850 \\t   source: REALspace_2019-12 \\t   similarity: 0.944628\\r\\n   matching molecule: s_527a____17312416____17513452 \\t   source: REALspace_2019-12 \\t   similarity: 0.944416\\r\\n   matching molecule: s_527a____9044452____15715224 \\t   source: REALspace_2019-12 \\t   similarity: 0.943912\\r\\n   matching molecule: s_2708____16644250____14595632 \\t   source: REALspace_2019-12 \\t   similarity: 0.943337\\r\\n   matching molecule: s_22____11732914____12624298 \\t   source: REALspace_2019-12 \\t   similarity: 0.943127\\r\\n   matching molecule: s_2708____6465958____3417236 \\t   source: REALspace_2019-12 \\t   similarity: 0.942793\\r\\n   matching molecule: s_22____15426814____17513450 \\t   source: REALspace_2019-12 \\t   similarity: 0.942343\\r\\n   matching molecule: s_2230a____12360302____666216 \\t   source: REALspace_2019-12 \\t   similarity: 0.942107\\r\\n   matching molecule: s_527a____10809004____217437 \\t   source: REALspace_2019-12 \\t   similarity: 0.941913\\r\\n   matching molecule: s_11a____13221506____16717356 \\t   source: REALspace_2019-12 \\t   similarity: 0.941716\\r\\n   matching molecule: s_22____4351286____17064022 \\t   source: REALspace_2019-12 \\t   similarity: 0.941554\\r\\n   matching molecule: s_22____2164516____17513450 \\t   source: REALspace_2019-12 \\t   similarity: 0.941532\\r\\n   matching molecule: s_527a____4969738____217438 \\t   source: REALspace_2019-12 \\t   similarity: 0.941158\\r\\n   matching molecule: s_512____6885310____2245928 \\t   source: REALspace_2019-12 \\t   similarity: 0.941114\\r\\n   matching molecule: s_22____10210200____16887748 \\t   source: REALspace_2019-12 \\t   similarity: 0.941076\\r\\n   matching molecule: s_22____14059738____107338 \\t   source: REALspace_2019-12 \\t   similarity: 0.941047\\r\\n   matching molecule: s_2708____905938____8283954 \\t   source: REALspace_2019-12 \\t   similarity: 0.940964\\r\\n   matching molecule: s_2708____5730620____11566486 \\t   source: REALspace_2019-12 \\t   similarity: 0.940854\\r\\n   matching molecule: s_2708____13152144____12549494 \\t   source: REALspace_2019-12 \\t   similarity: 0.940631\\r\\n   matching molecule: s_2708____5730620____8964600 \\t   source: REALspace_2019-12 \\t   similarity: 0.940023\\r\\n   matching molecule: s_240690b____13141992____14577254 \\t   source: REALspace_2019-12 \\t   similarity: 0.939884\\r\\n   matching molecule: s_22____11971250____107333 \\t   source: REALspace_2019-12 \\t   similarity: 0.939864\\r\\n   matching molecule: s_22____8283152____107332 \\t   source: REALspace_2019-12 \\t   similarity: 0.939732\\r\\n   matching molecule: s_272212____16644262____13258946 \\t   source: REALspace_2019-12 \\t   similarity: 0.939732\\r\\n   matching molecule: s_22____7349344____12624298 \\t   source: REALspace_2019-12 \\t   similarity: 0.939487\\r\\n   matching molecule: s_272164____9388606____9374976 \\t   source: REALspace_2019-12 \\t   similarity: 0.938865\\r\\n   matching molecule: s_22____10544104____107338 \\t   source: REALspace_2019-12 \\t   similarity: 0.938762\\r\\n   matching molecule: s_2708____5730620____11765628 \\t   source: REALspace_2019-12 \\t   similarity: 0.938759\\r\\n   matching molecule: s_270006a____11615738____8408044 \\t   source: REALspace_2019-12 \\t   similarity: 0.938665\\r\\n   matching molecule: s_22____10744164____17513450 \\t   source: REALspace_2019-12 \\t   similarity: 0.938549\\r\\n   matching molecule: s_22____9228604____17513450 \\t   source: REALspace_2019-12 \\t   similarity: 0.938026\\r\\n   matching molecule: s_512____11569264____13970736 \\t   source: REALspace_2019-12 \\t   similarity: 0.937303\\r\\n   matching molecule: s_2708____5730620____4509046 \\t   source: REALspace_2019-12 \\t   similarity: 0.936937\\r\\n   matching molecule: s_2708____5730620____8804876 \\t   source: REALspace_2019-12 \\t   similarity: 0.936937\\r\\n   matching molecule: s_2708____9434212____4066176 \\t   source: REALspace_2019-12 \\t   similarity: 0.936834\\r\\n   matching molecule: s_22____12110726____17513450 \\t   source: REALspace_2019-12 \\t   similarity: 0.936664\\r\\n   matching molecule: s_22____13656652____107338 \\t   source: REALspace_2019-12 \\t   similarity: 0.936345\\r\\n   matching molecule: s_22____6166698____3192126 \\t   source: REALspace_2019-12 \\t   similarity: 0.936345\\r\\n   matching molecule: s_22____8926094____17513450 \\t   source: REALspace_2019-12 \\t   similarity: 0.936308\\r\\n   matching molecule: s_269946a____8602342____17513468 \\t   source: REALspace_2019-12 \\t   similarity: 0.936149\\r\\n   matching molecule: s_22____14051328____107332 \\t   source: REALspace_2019-12 \\t   similarity: 0.936135\\r\\n   matching molecule: s_22____662376____17513450 \\t   source: REALspace_2019-12 \\t   similarity: 0.935994\\r\\n   matching molecule: s_2708____5730620____6007258 \\t   source: REALspace_2019-12 \\t   similarity: 0.935899\\r\\n   matching molecule: s_2708____6583376____10691088 \\t   source: REALspace_2019-12 \\t   similarity: 0.935514\\r\\n   matching molecule: s_512____6885310____8363400 \\t   source: REALspace_2019-12 \\t   similarity: 0.934942\\r\\n   matching molecule: s_512____6885310____5343646 \\t   source: REALspace_2019-12 \\t   similarity: 0.933978\\r\\n   matching molecule: s_22____16772622____16887748 \\t   source: REALspace_2019-12 \\t   similarity: 0.933781\\r\\n   matching molecule: s_22____6388670____17513450 \\t   source: REALspace_2019-12 \\t   similarity: 0.933466\\r\\n   matching molecule: s_188690b____14422158____17513482 \\t   source: REALspace_2019-12 \\t   similarity: 0.933352\\r\\n   matching molecule: s_22____16911156____13259654 \\t   source: REALspace_2019-12 \\t   similarity: 0.933261\\r\\n   matching molecule: s_2708____5730620____9286230 \\t   source: REALspace_2019-12 \\t   similarity: 0.933255\\r\\n   matching molecule: s_22____392562____17513450 \\t   source: REALspace_2019-12 \\t   similarity: 0.933222\\r\\n   matching molecule: s_272212____13253664____11403114 \\t   source: REALspace_2019-12 \\t   similarity: 0.933165\\r\\n   matching molecule: s_272212____13250008____12526102 \\t   source: REALspace_2019-12 \\t   similarity: 0.932833\\r\\n   matching molecule: s_527a____10150806____5637264 \\t   source: REALspace_2019-12 \\t   similarity: 0.932642\\r\\n\\r\\nQueryMolecule: LIG_A_1101_CC(C)CC[C@]1([R*])CCCOC1_2 (5) \\tnofMatches: 100\\r\\n   matching molecule: s_22____8333288____17513450 \\t   source: REALspace_2019-12 \\t   similarity: 0.992806\\r\\n   matching molecule: s_22____12102952____17513450 \\t   source: REALspace_2019-12 \\t   similarity: 0.968464\\r\\n   matching molecule: s_22____11765530____17513450 \\t   source: REALspace_2019-12 \\t   similarity: 0.965063\\r\\n   matching molecule: s_22____7634772____17513450 \\t   source: REALspace_2019-12 \\t   similarity: 0.961502\\r\\n   matching molecule: s_22____8846486____107332 \\t   source: REALspace_2019-12 \\t   similarity: 0.959573\\r\\n   matching molecule: s_22____13458814____17513450 \\t   source: REALspace_2019-12 \\t   similarity: 0.959421\\r\\n   matching molecule: s_22____7117056____17513450 \\t   source: REALspace_2019-12 \\t   similarity: 0.956103\\r\\n   matching molecule: s_22____16976658____12624298 \\t   source: REALspace_2019-12 \\t   similarity: 0.95436\\r\\n   matching molecule: s_22____14726554____12624298 \\t   source: REALspace_2019-12 \\t   similarity: 0.953322\\r\\n   matching molecule: s_22____14938888____3192126 \\t   source: REALspace_2019-12 \\t   similarity: 0.953268\\r\\n   matching molecule: s_22____15265870____16887748 \\t   source: REALspace_2019-12 \\t   similarity: 0.952626\\r\\n   matching molecule: s_2708____11569280____16638094 \\t   source: REALspace_2019-12 \\t   similarity: 0.951726\\r\\n   matching molecule: s_22____2081052____16717358 \\t   source: REALspace_2019-12 \\t   similarity: 0.951268\\r\\n   matching molecule: s_188690b____13773506____17513482 \\t   source: REALspace_2019-12 \\t   similarity: 0.951029\\r\\n   matching molecule: s_22____9399000____17057108 \\t   source: REALspace_2019-12 \\t   similarity: 0.950696\\r\\n   matching molecule: s_2708____13426432____16638094 \\t   source: REALspace_2019-12 \\t   similarity: 0.950482\\r\\n   matching molecule: s_22____1180386____17513450 \\t   source: REALspace_2019-12 \\t   similarity: 0.949921\\r\\n   matching molecule: s_22____12206138____5635622 \\t   source: REALspace_2019-12 \\t   similarity: 0.949895\\r\\n   matching molecule: s_527a____6463780____220034 \\t   source: REALspace_2019-12 \\t   similarity: 0.949747\\r\\n   matching molecule: s_22____10436222____12624298 \\t   source: REALspace_2019-12 \\t   similarity: 0.949427\\r\\n   matching molecule: s_22____10909926____5637262 \\t   source: REALspace_2019-12 \\t   similarity: 0.949423\\r\\n   matching molecule: s_22____11765390____220032 \\t   source: REALspace_2019-12 \\t   similarity: 0.949168\\r\\n   matching molecule: s_22____2068478____59693 \\t   source: REALspace_2019-12 \\t   similarity: 0.948996\\r\\n   matching molecule: s_2708____6465958____6547338 \\t   source: REALspace_2019-12 \\t   similarity: 0.948599\\r\\n   matching molecule: s_240690a____15728920____17513472 \\t   source: REALspace_2019-12 \\t   similarity: 0.948395\\r\\n   matching molecule: s_276436a____14760670____17513464 \\t   source: REALspace_2019-12 \\t   similarity: 0.947753\\r\\n   matching molecule: s_22____13654870____17057108 \\t   source: REALspace_2019-12 \\t   similarity: 0.947633\\r\\n   matching molecule: s_22____16503052____17513450 \\t   source: REALspace_2019-12 \\t   similarity: 0.947614\\r\\n   matching molecule: s_22____6465634____17513450 \\t   source: REALspace_2019-12 \\t   similarity: 0.947596\\r\\n   matching molecule: s_22____12139182____14260948 \\t   source: REALspace_2019-12 \\t   similarity: 0.947483\\r\\n   matching molecule: s_22____15101746____107332 \\t   source: REALspace_2019-12 \\t   similarity: 0.946847\\r\\n   matching molecule: s_22____16501214____17513450 \\t   source: REALspace_2019-12 \\t   similarity: 0.946263\\r\\n   matching molecule: s_22____14786974____17513450 \\t   source: REALspace_2019-12 \\t   similarity: 0.945726\\r\\n   matching molecule: s_22____17317796____59693 \\t   source: REALspace_2019-12 \\t   similarity: 0.945582\\r\\n   matching molecule: s_22____15094274____107338 \\t   source: REALspace_2019-12 \\t   similarity: 0.94545\\r\\n   matching molecule: s_22____9399000____16717358 \\t   source: REALspace_2019-12 \\t   similarity: 0.94529\\r\\n   matching molecule: s_22____12139182____518218 \\t   source: REALspace_2019-12 \\t   similarity: 0.94521\\r\\n   matching molecule: s_22____14244378____16887748 \\t   source: REALspace_2019-12 \\t   similarity: 0.945101\\r\\n   matching molecule: s_22____7114804____17513450 \\t   source: REALspace_2019-12 \\t   similarity: 0.944979\\r\\n   matching molecule: s_22____15088960____17513450 \\t   source: REALspace_2019-12 \\t   similarity: 0.944782\\r\\n   matching molecule: s_2708____12222526____5535004 \\t   source: REALspace_2019-12 \\t   similarity: 0.944723\\r\\n   matching molecule: s_2708____12222526____8696720 \\t   source: REALspace_2019-12 \\t   similarity: 0.944595\\r\\n   matching molecule: s_22____14518678____220032 \\t   source: REALspace_2019-12 \\t   similarity: 0.944265\\r\\n   matching molecule: s_2708____11569280____7346370 \\t   source: REALspace_2019-12 \\t   similarity: 0.944236\\r\\n   matching molecule: s_2708____8992528____5904686 \\t   source: REALspace_2019-12 \\t   similarity: 0.943609\\r\\n   matching molecule: s_2708____8366598____12913680 \\t   source: REALspace_2019-12 \\t   similarity: 0.943608\\r\\n   matching molecule: s_22____8366566____9736332 \\t   source: REALspace_2019-12 \\t   similarity: 0.943304\\r\\n   matching molecule: s_2708____6547336____4509338 \\t   source: REALspace_2019-12 \\t   similarity: 0.943287\\r\\n   matching molecule: s_2708____8333320____12550288 \\t   source: REALspace_2019-12 \\t   similarity: 0.943149\\r\\n   matching molecule: s_22____12106192____107332 \\t   source: REALspace_2019-12 \\t   similarity: 0.943065\\r\\n   matching molecule: s_272164____9389058____9382468 \\t   source: REALspace_2019-12 \\t   similarity: 0.942962\\r\\n   matching molecule: s_512____8366578____12639314 \\t   source: REALspace_2019-12 \\t   similarity: 0.942949\\r\\n   matching molecule: s_22____12856120____219891 \\t   source: REALspace_2019-12 \\t   similarity: 0.942916\\r\\n   matching molecule: s_2708____8333320____13026520 \\t   source: REALspace_2019-12 \\t   similarity: 0.942852\\r\\n   matching molecule: s_22____13940462____107332 \\t   source: REALspace_2019-12 \\t   similarity: 0.942766\\r\\n   matching molecule: s_22____10268814____17513450 \\t   source: REALspace_2019-12 \\t   similarity: 0.942571\\r\\n   matching molecule: s_22____17552132____17513450 \\t   source: REALspace_2019-12 \\t   similarity: 0.942544\\r\\n   matching molecule: s_22____13654870____16717358 \\t   source: REALspace_2019-12 \\t   similarity: 0.942528\\r\\n   matching molecule: s_22____12059262____17057108 \\t   source: REALspace_2019-12 \\t   similarity: 0.942313\\r\\n   matching molecule: s_22____1179570____12624298 \\t   source: REALspace_2019-12 \\t   similarity: 0.942266\\r\\n   matching molecule: s_2708____13426432____13973982 \\t   source: REALspace_2019-12 \\t   similarity: 0.942262\\r\\n   matching molecule: s_527a____8333304____15715224 \\t   source: REALspace_2019-12 \\t   similarity: 0.942098\\r\\n   matching molecule: s_22____4903448____17057108 \\t   source: REALspace_2019-12 \\t   similarity: 0.942091\\r\\n   matching molecule: s_22____4836988____17513450 \\t   source: REALspace_2019-12 \\t   similarity: 0.941957\\r\\n   matching molecule: s_487a____8333298____9044632 \\t   source: REALspace_2019-12 \\t   similarity: 0.941953\\r\\n   matching molecule: s_22____10643476____17513450 \\t   source: REALspace_2019-12 \\t   similarity: 0.941779\\r\\n   matching molecule: s_22____9281432____14260948 \\t   source: REALspace_2019-12 \\t   similarity: 0.941684\\r\\n   matching molecule: s_512____12222512____13941176 \\t   source: REALspace_2019-12 \\t   similarity: 0.941666\\r\\n   matching molecule: s_22____8333288____10954548 \\t   source: REALspace_2019-12 \\t   similarity: 0.941657\\r\\n   matching molecule: s_22____9398024____17513450 \\t   source: REALspace_2019-12 \\t   similarity: 0.941412\\r\\n   matching molecule: s_22____7284248____3192126 \\t   source: REALspace_2019-12 \\t   similarity: 0.941373\\r\\n   matching molecule: s_2708____9281468____5535004 \\t   source: REALspace_2019-12 \\t   similarity: 0.941336\\r\\n   matching molecule: s_2430a____14422408____8643028 \\t   source: REALspace_2019-12 \\t   similarity: 0.941271\\r\\n   matching molecule: s_58____12377132____12369798 \\t   source: REALspace_2019-12 \\t   similarity: 0.94123\\r\\n   matching molecule: s_22____10890574____17513450 \\t   source: REALspace_2019-12 \\t   similarity: 0.941217\\r\\n   matching molecule: s_2708____6465958____16492312 \\t   source: REALspace_2019-12 \\t   similarity: 0.941085\\r\\n   matching molecule: s_2708____8366598____9820842 \\t   source: REALspace_2019-12 \\t   similarity: 0.941036\\r\\n   matching molecule: s_272164____17323428____9382468 \\t   source: REALspace_2019-12 \\t   similarity: 0.940645\\r\\n   matching molecule: s_22____10430250____17513450 \\t   source: REALspace_2019-12 \\t   similarity: 0.94047\\r\\n   matching molecule: s_527a____6951206____17513452 \\t   source: REALspace_2019-12 \\t   similarity: 0.940378\\r\\n   matching molecule: s_2708____13426432____14938918 \\t   source: REALspace_2019-12 \\t   similarity: 0.940343\\r\\n   matching molecule: s_271949____10832348____12139220 \\t   source: REALspace_2019-12 \\t   similarity: 0.940137\\r\\n   matching molecule: s_22____12222500____17318518 \\t   source: REALspace_2019-12 \\t   similarity: 0.939858\\r\\n   matching molecule: s_2708____8333320____11566486 \\t   source: REALspace_2019-12 \\t   similarity: 0.939811\\r\\n   matching molecule: s_22____678068____17513450 \\t   source: REALspace_2019-12 \\t   similarity: 0.939775\\r\\n   matching molecule: s_22____14593318____16887748 \\t   source: REALspace_2019-12 \\t   similarity: 0.939354\\r\\n   matching molecule: s_22____11949848____17057108 \\t   source: REALspace_2019-12 \\t   similarity: 0.939276\\r\\n   matching molecule: s_22____13270548____17513450 \\t   source: REALspace_2019-12 \\t   similarity: 0.939062\\r\\n   matching molecule: s_22____15273282____12624298 \\t   source: REALspace_2019-12 \\t   similarity: 0.938955\\r\\n   matching molecule: s_272164____17324146____17335802 \\t   source: REALspace_2019-12 \\t   similarity: 0.93869\\r\\n   matching molecule: s_22____12218606____107338 \\t   source: REALspace_2019-12 \\t   similarity: 0.938647\\r\\n   matching molecule: s_2708____12856152____7557148 \\t   source: REALspace_2019-12 \\t   similarity: 0.938399\\r\\n   matching molecule: s_272212____13255726____11403114 \\t   source: REALspace_2019-12 \\t   similarity: 0.938357\\r\\n   matching molecule: s_22____15265870____518218 \\t   source: REALspace_2019-12 \\t   similarity: 0.938338\\r\\n   matching molecule: s_22____12222500____7344254 \\t   source: REALspace_2019-12 \\t   similarity: 0.937986\\r\\n   matching molecule: s_2708____8333320____11765628 \\t   source: REALspace_2019-12 \\t   similarity: 0.937854\\r\\n   matching molecule: s_271948____12222540____9915610 \\t   source: REALspace_2019-12 \\t   similarity: 0.937584\\r\\n   matching molecule: s_22____8765752____107333 \\t   source: REALspace_2019-12 \\t   similarity: 0.937547\\r\\n   matching molecule: s_188690b____14468518____9351394 \\t   source: REALspace_2019-12 \\t   similarity: 0.937455\\r\\n   matching molecule: s_22____10565908____17513450 \\t   source: REALspace_2019-12 \\t   similarity: 0.937372\\r\\n\\r\\nQueryMolecule: LIG_A_1101_2_02 (6) \\tnofMatches: 100\\r\\n   matching molecule: s_22____10176574____17513450 \\t   source: REALspace_2019-12 \\t   similarity: 0.997575\\r\\n   matching molecule: s_22____8124984____17513450 \\t   source: REALspace_2019-12 \\t   similarity: 0.961272\\r\\n   matching molecule: s_22____6361186____17513450 \\t   source: REALspace_2019-12 \\t   similarity: 0.957653\\r\\n   matching molecule: s_2430a____11944322____8643028 \\t   source: REALspace_2019-12 \\t   similarity: 0.956878\\r\\n   matching molecule: s_2430a____13259370____14594114 \\t   source: REALspace_2019-12 \\t   similarity: 0.955569\\r\\n   matching molecule: s_240690a____9049120____7408866 \\t   source: REALspace_2019-12 \\t   similarity: 0.955402\\r\\n   matching molecule: s_22____10545716____16887748 \\t   source: REALspace_2019-12 \\t   similarity: 0.952451\\r\\n   matching molecule: s_22____17070220____17513450 \\t   source: REALspace_2019-12 \\t   similarity: 0.952001\\r\\n   matching molecule: s_22____6287650____5637262 \\t   source: REALspace_2019-12 \\t   similarity: 0.951975\\r\\n   matching molecule: s_22____13570620____17064022 \\t   source: REALspace_2019-12 \\t   similarity: 0.951281\\r\\n   matching molecule: s_22____9705674____107332 \\t   source: REALspace_2019-12 \\t   similarity: 0.95036\\r\\n   matching molecule: s_22____9283038____107332 \\t   source: REALspace_2019-12 \\t   similarity: 0.95036\\r\\n   matching molecule: s_188690b____15429296____5367140 \\t   source: REALspace_2019-12 \\t   similarity: 0.950303\\r\\n   matching molecule: s_527a____12347510____17513452 \\t   source: REALspace_2019-12 \\t   similarity: 0.950276\\r\\n   matching molecule: s_22____9750152____17513450 \\t   source: REALspace_2019-12 \\t   similarity: 0.950062\\r\\n   matching molecule: s_22____12206138____9276244 \\t   source: REALspace_2019-12 \\t   similarity: 0.949946\\r\\n   matching molecule: s_22____10214290____12624298 \\t   source: REALspace_2019-12 \\t   similarity: 0.949685\\r\\n   matching molecule: s_22____411428____14260948 \\t   source: REALspace_2019-12 \\t   similarity: 0.949323\\r\\n   matching molecule: s_276530____14277870____14278090 \\t   source: REALspace_2019-12 \\t   similarity: 0.948538\\r\\n   matching molecule: s_22____14174274____12525624 \\t   source: REALspace_2019-12 \\t   similarity: 0.948336\\r\\n   matching molecule: s_22____9195934____16717358 \\t   source: REALspace_2019-12 \\t   similarity: 0.947545\\r\\n   matching molecule: s_2708____9434212____10854424 \\t   source: REALspace_2019-12 \\t   similarity: 0.947474\\r\\n   matching molecule: s_487a____11354914____1735730 \\t   source: REALspace_2019-12 \\t   similarity: 0.947108\\r\\n   matching molecule: s_22____411428____518218 \\t   source: REALspace_2019-12 \\t   similarity: 0.946515\\r\\n   matching molecule: s_240690a____16762142____7408864 \\t   source: REALspace_2019-12 \\t   similarity: 0.946355\\r\\n   matching molecule: s_22____532122____58844 \\t   source: REALspace_2019-12 \\t   similarity: 0.945516\\r\\n   matching molecule: s_22____8859908____59693 \\t   source: REALspace_2019-12 \\t   similarity: 0.94405\\r\\n   matching molecule: s_22____13605040____17513450 \\t   source: REALspace_2019-12 \\t   similarity: 0.942972\\r\\n   matching molecule: s_22____10176574____9736332 \\t   source: REALspace_2019-12 \\t   similarity: 0.942944\\r\\n   matching molecule: s_22____12916098____58844 \\t   source: REALspace_2019-12 \\t   similarity: 0.942429\\r\\n   matching molecule: s_22____10428088____17513450 \\t   source: REALspace_2019-12 \\t   similarity: 0.942349\\r\\n   matching molecule: s_270062____7604222____15585492 \\t   source: REALspace_2019-12 \\t   similarity: 0.942167\\r\\n   matching molecule: s_2430a____10971440____14422702 \\t   source: REALspace_2019-12 \\t   similarity: 0.941848\\r\\n   matching molecule: s_270004____8292504____7548520 \\t   source: REALspace_2019-12 \\t   similarity: 0.941408\\r\\n   matching molecule: s_272230____9453608____9453336 \\t   source: REALspace_2019-12 \\t   similarity: 0.941352\\r\\n   matching molecule: s_2708____11569280____10545754 \\t   source: REALspace_2019-12 \\t   similarity: 0.940955\\r\\n   matching molecule: s_22____9291954____220032 \\t   source: REALspace_2019-12 \\t   similarity: 0.940474\\r\\n   matching molecule: s_22____17505418____3192126 \\t   source: REALspace_2019-12 \\t   similarity: 0.940446\\r\\n   matching molecule: s_2430a____11944322____7963962 \\t   source: REALspace_2019-12 \\t   similarity: 0.939958\\r\\n   matching molecule: s_22____6914294____8850186 \\t   source: REALspace_2019-12 \\t   similarity: 0.939919\\r\\n   matching molecule: s_270062____16412582____15585492 \\t   source: REALspace_2019-12 \\t   similarity: 0.939678\\r\\n   matching molecule: s_2430a____11944322____13611208 \\t   source: REALspace_2019-12 \\t   similarity: 0.939315\\r\\n   matching molecule: s_272164____14971778____9388244 \\t   source: REALspace_2019-12 \\t   similarity: 0.939098\\r\\n   matching molecule: s_22____10176574____9162286 \\t   source: REALspace_2019-12 \\t   similarity: 0.93897\\r\\n   matching molecule: s_22____664724____17513450 \\t   source: REALspace_2019-12 \\t   similarity: 0.938492\\r\\n   matching molecule: s_240690a____8699394____17513472 \\t   source: REALspace_2019-12 \\t   similarity: 0.938492\\r\\n   matching molecule: s_22____12107366____17513450 \\t   source: REALspace_2019-12 \\t   similarity: 0.938492\\r\\n   matching molecule: s_22____587016____17513450 \\t   source: REALspace_2019-12 \\t   similarity: 0.938492\\r\\n   matching molecule: s_22____736064____17513450 \\t   source: REALspace_2019-12 \\t   similarity: 0.938448\\r\\n   matching molecule: s_22____58384____17513450 \\t   source: REALspace_2019-12 \\t   similarity: 0.938448\\r\\n   matching molecule: s_22____10176574____12900018 \\t   source: REALspace_2019-12 \\t   similarity: 0.937597\\r\\n   matching molecule: s_2708____13426432____10545754 \\t   source: REALspace_2019-12 \\t   similarity: 0.937577\\r\\n   matching molecule: s_22____17631962____107338 \\t   source: REALspace_2019-12 \\t   similarity: 0.937003\\r\\n   matching molecule: s_22____12421186____107338 \\t   source: REALspace_2019-12 \\t   similarity: 0.936888\\r\\n   matching molecule: s_2430a____13259370____9866160 \\t   source: REALspace_2019-12 \\t   similarity: 0.936117\\r\\n   matching molecule: s_527a____12307800____16717360 \\t   source: REALspace_2019-12 \\t   similarity: 0.93564\\r\\n   matching molecule: s_8____5534988____2563044 \\t   source: REALspace_2019-12 \\t   similarity: 0.934152\\r\\n   matching molecule: s_269946a____7297346____17513468 \\t   source: REALspace_2019-12 \\t   similarity: 0.933657\\r\\n   matching molecule: EN300-09603 \\t   source: REALspace_2019-12 \\t   similarity: 0.933625\\r\\n   matching molecule: s_276436a____14085676____17513464 \\t   source: REALspace_2019-12 \\t   similarity: 0.933366\\r\\n   matching molecule: s_276436a____16913726____17513464 \\t   source: REALspace_2019-12 \\t   similarity: 0.933366\\r\\n   matching molecule: s_2430a____11944322____8963102 \\t   source: REALspace_2019-12 \\t   similarity: 0.932931\\r\\n   matching molecule: s_22____12206138____8850186 \\t   source: REALspace_2019-12 \\t   similarity: 0.932775\\r\\n   matching molecule: s_2430a____11944322____11756930 \\t   source: REALspace_2019-12 \\t   similarity: 0.932692\\r\\n   matching molecule: s_22____10954494____12624298 \\t   source: REALspace_2019-12 \\t   similarity: 0.932427\\r\\n   matching molecule: s_270062____16436390____15585492 \\t   source: REALspace_2019-12 \\t   similarity: 0.932233\\r\\n   matching molecule: s_22____12635594____12525624 \\t   source: REALspace_2019-12 \\t   similarity: 0.932223\\r\\n   matching molecule: s_22____12206138____13027156 \\t   source: REALspace_2019-12 \\t   similarity: 0.931965\\r\\n   matching molecule: s_2430a____10229206____9298134 \\t   source: REALspace_2019-12 \\t   similarity: 0.931905\\r\\n   matching molecule: s_22____11619952____58844 \\t   source: REALspace_2019-12 \\t   similarity: 0.931206\\r\\n   matching molecule: s_22____8930598____1720042 \\t   source: REALspace_2019-12 \\t   similarity: 0.931119\\r\\n   matching molecule: s_22____9870234____17513450 \\t   source: REALspace_2019-12 \\t   similarity: 0.930964\\r\\n   matching molecule: s_527a____7639252____17513452 \\t   source: REALspace_2019-12 \\t   similarity: 0.930964\\r\\n   matching molecule: s_22____8601360____17513450 \\t   source: REALspace_2019-12 \\t   similarity: 0.93092\\r\\n   matching molecule: s_527a____9016336____17513452 \\t   source: REALspace_2019-12 \\t   similarity: 0.93092\\r\\n   matching molecule: s_22____2014098____17064022 \\t   source: REALspace_2019-12 \\t   similarity: 0.930281\\r\\n   matching molecule: s_22____10176574____14577636 \\t   source: REALspace_2019-12 \\t   similarity: 0.930161\\r\\n   matching molecule: s_22____10117792____17057108 \\t   source: REALspace_2019-12 \\t   similarity: 0.929966\\r\\n   matching molecule: s_22____10176574____10954548 \\t   source: REALspace_2019-12 \\t   similarity: 0.929741\\r\\n   matching molecule: s_22____10176574____12113610 \\t   source: REALspace_2019-12 \\t   similarity: 0.929035\\r\\n   matching molecule: s_2708____6465958____17066264 \\t   source: REALspace_2019-12 \\t   similarity: 0.928682\\r\\n   matching molecule: s_11a____10176570____12422086 \\t   source: REALspace_2019-12 \\t   similarity: 0.928643\\r\\n   matching molecule: s_22____16639008____1720042 \\t   source: REALspace_2019-12 \\t   similarity: 0.927934\\r\\n   matching molecule: s_22____8629128____12624298 \\t   source: REALspace_2019-12 \\t   similarity: 0.927471\\r\\n   matching molecule: s_11a____12527150____16716798 \\t   source: REALspace_2019-12 \\t   similarity: 0.927438\\r\\n   matching molecule: s_487a____4147468____1735730 \\t   source: REALspace_2019-12 \\t   similarity: 0.927135\\r\\n   matching molecule: s_22____6362564____17512240 \\t   source: REALspace_2019-12 \\t   similarity: 0.926803\\r\\n   matching molecule: s_2430a____13259370____8283090 \\t   source: REALspace_2019-12 \\t   similarity: 0.926735\\r\\n   matching molecule: s_269862____8350638____10953884 \\t   source: REALspace_2019-12 \\t   similarity: 0.92668\\r\\n   matching molecule: s_273458b____11769690____11103208 \\t   source: REALspace_2019-12 \\t   similarity: 0.926671\\r\\n   matching molecule: s_276436a____15413916____17057122 \\t   source: REALspace_2019-12 \\t   similarity: 0.926601\\r\\n   matching molecule: s_11a____10176570____13434880 \\t   source: REALspace_2019-12 \\t   similarity: 0.926382\\r\\n   matching molecule: s_22____4549598____17513450 \\t   source: REALspace_2019-12 \\t   similarity: 0.926381\\r\\n   matching molecule: s_527a____16738066____17513452 \\t   source: REALspace_2019-12 \\t   similarity: 0.926318\\r\\n   matching molecule: s_11a____14594094____651944 \\t   source: REALspace_2019-12 \\t   similarity: 0.926259\\r\\n   matching molecule: s_273458b____11769690____11096048 \\t   source: REALspace_2019-12 \\t   similarity: 0.925922\\r\\n   matching molecule: s_22____10176574____12102936 \\t   source: REALspace_2019-12 \\t   similarity: 0.925399\\r\\n   matching molecule: s_22____12206138____651936 \\t   source: REALspace_2019-12 \\t   similarity: 0.925352\\r\\n   matching molecule: s_487a____4915466____1735730 \\t   source: REALspace_2019-12 \\t   similarity: 0.925258\\r\\n   matching molecule: s_2430a____11944322____11566480 \\t   source: REALspace_2019-12 \\t   similarity: 0.925156\\r\\n\\r\\n'"
      ]
     },
     "execution_count": 9,
     "metadata": {},
     "output_type": "execute_result"
    },
    {
     "data": {
      "application/javascript": [
       "\n",
       "            setTimeout(function() {\n",
       "                var nbb_cell_id = 9;\n",
       "                var nbb_unformatted_code = \"# run\\nout = subprocess.check_output([str(x) for x in sys_call])\\nout\";\n",
       "                var nbb_formatted_code = \"# run\\nout = subprocess.check_output([str(x) for x in sys_call])\\nout\";\n",
       "                var nbb_cells = Jupyter.notebook.get_cells();\n",
       "                for (var i = 0; i < nbb_cells.length; ++i) {\n",
       "                    if (nbb_cells[i].input_prompt_number == nbb_cell_id) {\n",
       "                        if (nbb_cells[i].get_text() == nbb_unformatted_code) {\n",
       "                             nbb_cells[i].set_text(nbb_formatted_code);\n",
       "                        }\n",
       "                        break;\n",
       "                    }\n",
       "                }\n",
       "            }, 500);\n",
       "            "
      ],
      "text/plain": [
       "<IPython.core.display.Javascript object>"
      ]
     },
     "metadata": {},
     "output_type": "display_data"
    }
   ],
   "source": [
    "# run\n",
    "out = subprocess.check_output([str(x) for x in sys_call])\n",
    "out"
   ]
  },
  {
   "cell_type": "markdown",
   "metadata": {},
   "source": [
    "### Append the result from the the individual result files"
   ]
  },
  {
   "cell_type": "code",
   "execution_count": 21,
   "metadata": {},
   "outputs": [
    {
     "name": "stdout",
     "output_type": "stream",
     "text": [
      "x0967_top5_inspirations_out_1.sdf\n",
      "x0967_top5_inspirations_out_2.sdf\n",
      "x0967_top5_inspirations_out_3.sdf\n",
      "x0967_top5_inspirations_out_4.sdf\n",
      "x0967_top5_inspirations_out_5.sdf\n",
      "x0967_top5_inspirations_out_6_LIG_A_1101_2_02.sdf\n"
     ]
    },
    {
     "data": {
      "text/plain": [
       "(600, 16)"
      ]
     },
     "execution_count": 21,
     "metadata": {},
     "output_type": "execute_result"
    },
    {
     "data": {
      "application/javascript": [
       "\n",
       "            setTimeout(function() {\n",
       "                var nbb_cell_id = 21;\n",
       "                var nbb_unformatted_code = \"from os import listdir\\n\\n# list data\\nall_files = [f for f in listdir(DATADIR)]\\n# print(all_files)\\n# collect frames\\nframes = []\\n\\nfor file in all_files:\\n    if file.startswith(outfile_name):\\n        print(file)\\n        df = PandasTools.LoadSDF(str(DATADIR / file))\\n        frames.append(df)\\nresult = pd.concat(frames , ignore_index=True, sort=False)\\nresult.shape\";\n",
       "                var nbb_formatted_code = \"from os import listdir\\n\\n# list data\\nall_files = [f for f in listdir(DATADIR)]\\n# print(all_files)\\n# collect frames\\nframes = []\\n\\nfor file in all_files:\\n    if file.startswith(outfile_name):\\n        print(file)\\n        df = PandasTools.LoadSDF(str(DATADIR / file))\\n        frames.append(df)\\nresult = pd.concat(frames, ignore_index=True, sort=False)\\nresult.shape\";\n",
       "                var nbb_cells = Jupyter.notebook.get_cells();\n",
       "                for (var i = 0; i < nbb_cells.length; ++i) {\n",
       "                    if (nbb_cells[i].input_prompt_number == nbb_cell_id) {\n",
       "                        if (nbb_cells[i].get_text() == nbb_unformatted_code) {\n",
       "                             nbb_cells[i].set_text(nbb_formatted_code);\n",
       "                        }\n",
       "                        break;\n",
       "                    }\n",
       "                }\n",
       "            }, 500);\n",
       "            "
      ],
      "text/plain": [
       "<IPython.core.display.Javascript object>"
      ]
     },
     "metadata": {},
     "output_type": "display_data"
    }
   ],
   "source": [
    "from os import listdir\n",
    "\n",
    "# list data\n",
    "all_files = [f for f in listdir(DATADIR)]\n",
    "# print(all_files)\n",
    "# collect frames\n",
    "frames = []\n",
    "\n",
    "for file in all_files:\n",
    "    if file.startswith(outfile_name):\n",
    "        print(file)\n",
    "        df = PandasTools.LoadSDF(str(DATADIR / file))\n",
    "        frames.append(df)\n",
    "result = pd.concat(frames, ignore_index=True, sort=False)\n",
    "result.shape"
   ]
  },
  {
   "cell_type": "code",
   "execution_count": 28,
   "metadata": {},
   "outputs": [
    {
     "data": {
      "text/html": [
       "<div>\n",
       "<style scoped>\n",
       "    .dataframe tbody tr th:only-of-type {\n",
       "        vertical-align: middle;\n",
       "    }\n",
       "\n",
       "    .dataframe tbody tr th {\n",
       "        vertical-align: top;\n",
       "    }\n",
       "\n",
       "    .dataframe thead th {\n",
       "        text-align: right;\n",
       "    }\n",
       "</style>\n",
       "<table border=\"1\" class=\"dataframe\">\n",
       "  <thead>\n",
       "    <tr style=\"text-align: right;\">\n",
       "      <th></th>\n",
       "      <th>result-rank</th>\n",
       "      <th>similarity</th>\n",
       "      <th>query-name</th>\n",
       "      <th>query-smiles</th>\n",
       "      <th>source</th>\n",
       "      <th>similarity-descriptor</th>\n",
       "      <th>similarity-descriptor-smiles</th>\n",
       "      <th>reaction-name</th>\n",
       "      <th>reagent1-name</th>\n",
       "      <th>reagent1-smiles</th>\n",
       "      <th>reagent2-name</th>\n",
       "      <th>reagent2-smiles</th>\n",
       "      <th>ID</th>\n",
       "      <th>ROMol</th>\n",
       "      <th>reagent3-name</th>\n",
       "      <th>reagent3-smiles</th>\n",
       "    </tr>\n",
       "  </thead>\n",
       "  <tbody>\n",
       "    <tr>\n",
       "      <th>595</th>\n",
       "      <td>96</td>\n",
       "      <td>0.926</td>\n",
       "      <td>LIG_A_1101_2_02</td>\n",
       "      <td>BrC#CCNC(=O)[C@@H](NC(=O)C)Cc1ccc(O)cc1</td>\n",
       "      <td>REALspace_2019-12</td>\n",
       "      <td>1.000;0.968;0.968;0.934;1.000;0.995;0.953;0.85...</td>\n",
       "      <td>c1ccccc1;FC(F)F;FC(F)F;C;N;C=O;N(C)C;CO;CO;C;N...</td>\n",
       "      <td>s_273458b</td>\n",
       "      <td>11769690</td>\n",
       "      <td>[R1*]C(=O)NC(C(F)(F)F)CN</td>\n",
       "      <td>11096048</td>\n",
       "      <td>[R1*]N(Cc1c(OCC)cccc1)CC(O)C</td>\n",
       "      <td>s_273458b____11769690____11096048</td>\n",
       "      <td>&lt;img src=\"data:image/png;base64,iVBORw0KGgoAAA...</td>\n",
       "      <td>NaN</td>\n",
       "      <td>NaN</td>\n",
       "    </tr>\n",
       "    <tr>\n",
       "      <th>596</th>\n",
       "      <td>97</td>\n",
       "      <td>0.925</td>\n",
       "      <td>LIG_A_1101_2_02</td>\n",
       "      <td>BrC#CCNC(=O)[C@@H](NC(=O)C)Cc1ccc(O)cc1</td>\n",
       "      <td>REALspace_2019-12</td>\n",
       "      <td>0.825;0.986;0.986;0.999;1.000;0.999;0.825;1.00...</td>\n",
       "      <td>C1=CC=CNC1=O;BrC(F)F;BrC(F)F;C;N;C=O;C1=CC=CNC...</td>\n",
       "      <td>s_22</td>\n",
       "      <td>10176574</td>\n",
       "      <td>[R1*]NCC(Br)(F)F</td>\n",
       "      <td>12102936</td>\n",
       "      <td>[R1*]C(=O)c1c(O)ncc(NC(=O)C)c1</td>\n",
       "      <td>s_22____10176574____12102936</td>\n",
       "      <td>&lt;img src=\"data:image/png;base64,iVBORw0KGgoAAA...</td>\n",
       "      <td>NaN</td>\n",
       "      <td>NaN</td>\n",
       "    </tr>\n",
       "    <tr>\n",
       "      <th>597</th>\n",
       "      <td>98</td>\n",
       "      <td>0.925</td>\n",
       "      <td>LIG_A_1101_2_02</td>\n",
       "      <td>BrC#CCNC(=O)[C@@H](NC(=O)C)Cc1ccc(O)cc1</td>\n",
       "      <td>REALspace_2019-12</td>\n",
       "      <td>1.000;0.969;0.969;0.523;0.523;1.000;1.000;1.00...</td>\n",
       "      <td>c1ccccc1;C(F)(F)F;C(F)(F)F;SC;SC;C=O;NC;NC;C(=...</td>\n",
       "      <td>s_22</td>\n",
       "      <td>12206138</td>\n",
       "      <td>[R1*]NC(C(=O)OC)Cc1c(O)cccc1</td>\n",
       "      <td>651936</td>\n",
       "      <td>[R1*]C(=O)C(SC(F)(F)F)C</td>\n",
       "      <td>s_22____12206138____651936</td>\n",
       "      <td>&lt;img src=\"data:image/png;base64,iVBORw0KGgoAAA...</td>\n",
       "      <td>NaN</td>\n",
       "      <td>NaN</td>\n",
       "    </tr>\n",
       "    <tr>\n",
       "      <th>598</th>\n",
       "      <td>99</td>\n",
       "      <td>0.925</td>\n",
       "      <td>LIG_A_1101_2_02</td>\n",
       "      <td>BrC#CCNC(=O)[C@@H](NC(=O)C)Cc1ccc(O)cc1</td>\n",
       "      <td>REALspace_2019-12</td>\n",
       "      <td>0.960;0.968;0.968;0.999;1.000;0.995;0.952;0.95...</td>\n",
       "      <td>c1ccccc1;FC(F)F;FC(F)F;C;N;C=O;NC;NC;;;CC;;O</td>\n",
       "      <td>s_487a</td>\n",
       "      <td>4915466</td>\n",
       "      <td>[R1*]NCC(O)(c1ccccc1)C</td>\n",
       "      <td>1735730</td>\n",
       "      <td>[R1*]C(=O)NCC(F)(F)F</td>\n",
       "      <td>s_487a____4915466____1735730</td>\n",
       "      <td>&lt;img src=\"data:image/png;base64,iVBORw0KGgoAAA...</td>\n",
       "      <td>NaN</td>\n",
       "      <td>NaN</td>\n",
       "    </tr>\n",
       "    <tr>\n",
       "      <th>599</th>\n",
       "      <td>100</td>\n",
       "      <td>0.925</td>\n",
       "      <td>LIG_A_1101_2_02</td>\n",
       "      <td>BrC#CCNC(=O)[C@@H](NC(=O)C)Cc1ccc(O)cc1</td>\n",
       "      <td>REALspace_2019-12</td>\n",
       "      <td>0.965;0.990;0.988;0.988;1.000;0.995;0.824;0.82...</td>\n",
       "      <td>Fc1ccccc1;C(F)(F)F;CC;CC;N;C=O;CCN;CCN;C(=O)N;...</td>\n",
       "      <td>s_2430a</td>\n",
       "      <td>11944322</td>\n",
       "      <td>[R1*]C(=O)NC(C(F)(F)F)(C)C</td>\n",
       "      <td>11566480</td>\n",
       "      <td>[R1*]NCC(C(=O)NC)Cc1cc(F)c(OC)cc1</td>\n",
       "      <td>s_2430a____11944322____11566480</td>\n",
       "      <td>&lt;img src=\"data:image/png;base64,iVBORw0KGgoAAA...</td>\n",
       "      <td>NaN</td>\n",
       "      <td>NaN</td>\n",
       "    </tr>\n",
       "  </tbody>\n",
       "</table>\n",
       "</div>"
      ],
      "text/plain": [
       "    result-rank similarity       query-name  \\\n",
       "595          96      0.926  LIG_A_1101_2_02   \n",
       "596          97      0.925  LIG_A_1101_2_02   \n",
       "597          98      0.925  LIG_A_1101_2_02   \n",
       "598          99      0.925  LIG_A_1101_2_02   \n",
       "599         100      0.925  LIG_A_1101_2_02   \n",
       "\n",
       "                                query-smiles             source  \\\n",
       "595  BrC#CCNC(=O)[C@@H](NC(=O)C)Cc1ccc(O)cc1  REALspace_2019-12   \n",
       "596  BrC#CCNC(=O)[C@@H](NC(=O)C)Cc1ccc(O)cc1  REALspace_2019-12   \n",
       "597  BrC#CCNC(=O)[C@@H](NC(=O)C)Cc1ccc(O)cc1  REALspace_2019-12   \n",
       "598  BrC#CCNC(=O)[C@@H](NC(=O)C)Cc1ccc(O)cc1  REALspace_2019-12   \n",
       "599  BrC#CCNC(=O)[C@@H](NC(=O)C)Cc1ccc(O)cc1  REALspace_2019-12   \n",
       "\n",
       "                                 similarity-descriptor  \\\n",
       "595  1.000;0.968;0.968;0.934;1.000;0.995;0.953;0.85...   \n",
       "596  0.825;0.986;0.986;0.999;1.000;0.999;0.825;1.00...   \n",
       "597  1.000;0.969;0.969;0.523;0.523;1.000;1.000;1.00...   \n",
       "598  0.960;0.968;0.968;0.999;1.000;0.995;0.952;0.95...   \n",
       "599  0.965;0.990;0.988;0.988;1.000;0.995;0.824;0.82...   \n",
       "\n",
       "                          similarity-descriptor-smiles reaction-name  \\\n",
       "595  c1ccccc1;FC(F)F;FC(F)F;C;N;C=O;N(C)C;CO;CO;C;N...     s_273458b   \n",
       "596  C1=CC=CNC1=O;BrC(F)F;BrC(F)F;C;N;C=O;C1=CC=CNC...          s_22   \n",
       "597  c1ccccc1;C(F)(F)F;C(F)(F)F;SC;SC;C=O;NC;NC;C(=...          s_22   \n",
       "598       c1ccccc1;FC(F)F;FC(F)F;C;N;C=O;NC;NC;;;CC;;O        s_487a   \n",
       "599  Fc1ccccc1;C(F)(F)F;CC;CC;N;C=O;CCN;CCN;C(=O)N;...       s_2430a   \n",
       "\n",
       "    reagent1-name               reagent1-smiles reagent2-name  \\\n",
       "595      11769690      [R1*]C(=O)NC(C(F)(F)F)CN      11096048   \n",
       "596      10176574              [R1*]NCC(Br)(F)F      12102936   \n",
       "597      12206138  [R1*]NC(C(=O)OC)Cc1c(O)cccc1        651936   \n",
       "598       4915466        [R1*]NCC(O)(c1ccccc1)C       1735730   \n",
       "599      11944322    [R1*]C(=O)NC(C(F)(F)F)(C)C      11566480   \n",
       "\n",
       "                       reagent2-smiles                                 ID  \\\n",
       "595       [R1*]N(Cc1c(OCC)cccc1)CC(O)C  s_273458b____11769690____11096048   \n",
       "596     [R1*]C(=O)c1c(O)ncc(NC(=O)C)c1       s_22____10176574____12102936   \n",
       "597            [R1*]C(=O)C(SC(F)(F)F)C         s_22____12206138____651936   \n",
       "598               [R1*]C(=O)NCC(F)(F)F       s_487a____4915466____1735730   \n",
       "599  [R1*]NCC(C(=O)NC)Cc1cc(F)c(OC)cc1    s_2430a____11944322____11566480   \n",
       "\n",
       "                                                 ROMol reagent3-name  \\\n",
       "595  <img src=\"data:image/png;base64,iVBORw0KGgoAAA...           NaN   \n",
       "596  <img src=\"data:image/png;base64,iVBORw0KGgoAAA...           NaN   \n",
       "597  <img src=\"data:image/png;base64,iVBORw0KGgoAAA...           NaN   \n",
       "598  <img src=\"data:image/png;base64,iVBORw0KGgoAAA...           NaN   \n",
       "599  <img src=\"data:image/png;base64,iVBORw0KGgoAAA...           NaN   \n",
       "\n",
       "    reagent3-smiles  \n",
       "595             NaN  \n",
       "596             NaN  \n",
       "597             NaN  \n",
       "598             NaN  \n",
       "599             NaN  "
      ]
     },
     "execution_count": 28,
     "metadata": {},
     "output_type": "execute_result"
    },
    {
     "data": {
      "application/javascript": [
       "\n",
       "            setTimeout(function() {\n",
       "                var nbb_cell_id = 28;\n",
       "                var nbb_unformatted_code = \"result.tail()\";\n",
       "                var nbb_formatted_code = \"result.tail()\";\n",
       "                var nbb_cells = Jupyter.notebook.get_cells();\n",
       "                for (var i = 0; i < nbb_cells.length; ++i) {\n",
       "                    if (nbb_cells[i].input_prompt_number == nbb_cell_id) {\n",
       "                        if (nbb_cells[i].get_text() == nbb_unformatted_code) {\n",
       "                             nbb_cells[i].set_text(nbb_formatted_code);\n",
       "                        }\n",
       "                        break;\n",
       "                    }\n",
       "                }\n",
       "            }, 500);\n",
       "            "
      ],
      "text/plain": [
       "<IPython.core.display.Javascript object>"
      ]
     },
     "metadata": {},
     "output_type": "display_data"
    }
   ],
   "source": [
    "result.tail()"
   ]
  },
  {
   "cell_type": "code",
   "execution_count": 29,
   "metadata": {},
   "outputs": [
    {
     "data": {
      "application/javascript": [
       "\n",
       "            setTimeout(function() {\n",
       "                var nbb_cell_id = 29;\n",
       "                var nbb_unformatted_code = \"fname = str(DATADIR / f\\\"{outfile_name}_enamineREAL_combined.sdf\\\")\\nPandasTools.WriteSDF(result, fname)\";\n",
       "                var nbb_formatted_code = \"fname = str(DATADIR / f\\\"{outfile_name}_enamineREAL_combined.sdf\\\")\\nPandasTools.WriteSDF(result, fname)\";\n",
       "                var nbb_cells = Jupyter.notebook.get_cells();\n",
       "                for (var i = 0; i < nbb_cells.length; ++i) {\n",
       "                    if (nbb_cells[i].input_prompt_number == nbb_cell_id) {\n",
       "                        if (nbb_cells[i].get_text() == nbb_unformatted_code) {\n",
       "                             nbb_cells[i].set_text(nbb_formatted_code);\n",
       "                        }\n",
       "                        break;\n",
       "                    }\n",
       "                }\n",
       "            }, 500);\n",
       "            "
      ],
      "text/plain": [
       "<IPython.core.display.Javascript object>"
      ]
     },
     "metadata": {},
     "output_type": "display_data"
    }
   ],
   "source": [
    "fname = str(DATADIR / f\"{outfile_name}_enamineREAL_combined.sdf\")\n",
    "PandasTools.WriteSDF(result, fname)"
   ]
  }
 ],
 "metadata": {
  "kernelspec": {
   "display_name": "Python 3",
   "language": "python",
   "name": "python3"
  },
  "language_info": {
   "codemirror_mode": {
    "name": "ipython",
    "version": 3
   },
   "file_extension": ".py",
   "mimetype": "text/x-python",
   "name": "python",
   "nbconvert_exporter": "python",
   "pygments_lexer": "ipython3",
   "version": "3.7.4"
  }
 },
 "nbformat": 4,
 "nbformat_minor": 4
}
