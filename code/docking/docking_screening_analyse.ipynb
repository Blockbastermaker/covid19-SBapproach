{
 "cells": [
  {
   "cell_type": "markdown",
   "metadata": {},
   "source": [
    "# Notebook to analyse the docking screening results"
   ]
  },
  {
   "cell_type": "code",
   "execution_count": 1,
   "metadata": {},
   "outputs": [],
   "source": [
    "import os\n",
    "import pandas as pd\n",
    "from pathlib  import Path"
   ]
  },
  {
   "cell_type": "code",
   "execution_count": 4,
   "metadata": {},
   "outputs": [],
   "source": [
    "fname_ligand_set = input(\"Please input the name of the compound dataset:\\nif you test for 'proteaseFDAdrugs', please press 'Enter' directly\\n\")\n",
    "if fname_ligand_set != '':\n",
    "    path_docking_results = Path('..')/'..'/'data'/'docking_results'\n",
    "else:\n",
    "    fname_ligand_set = 'proteaseFDAdrugs'\n",
    "    path_docking_results = Path('../../data/docking_results/tutorials')\n",
    "docking_results = path_docking_results/(fname_ligand_set+'_docking_results.csv')"
   ]
  },
  {
   "cell_type": "code",
   "execution_count": 5,
   "metadata": {},
   "outputs": [
    {
     "output_type": "stream",
     "name": "stdout",
     "text": "Number of receptor: 22\nNumber of compounds: 7\n"
    }
   ],
   "source": [
    "if docking_results.exists():\n",
    "    df = pd.read_csv(docking_results, index_col=0)\n",
    "    print('Number of receptor: %s\\nNumber of compounds: %s'%(df.shape[1], df.shape[0]))\n",
    "else:\n",
    "    print('File of docking results does not exist')"
   ]
  },
  {
   "cell_type": "code",
   "execution_count": 20,
   "metadata": {},
   "outputs": [],
   "source": [
    "df['rank_score'] = df.mean(axis=1)\n",
    "df_sort = df.sort_values(by='rank_score', ascending = True)\n",
    "df_descrive = df_sort.drop('rank_score', axis=1).T.describe().T\n",
    "df_sort['rank'] = range(1, df_sort.shape[0]+1)"
   ]
  },
  {
   "cell_type": "code",
   "execution_count": 21,
   "metadata": {},
   "outputs": [
    {
     "output_type": "execute_result",
     "data": {
      "text/plain": "            Mpro-x0397  Mpro-x0387  Mpro-x0946  Mpro-x0540  Mpro-x1249  \\\nSaquinavir   -8.662073   -7.343354   -8.804437   -7.829814   -8.586934   \nDarunavir    -8.474818   -7.506427   -7.921558   -6.995169   -7.828120   \nTipranavir   -8.796697   -7.662677   -7.666975   -7.148129   -8.168451   \nAmprenavir   -8.254901   -6.688261   -7.853294   -6.540944   -7.840761   \nLopinavir    -7.172627   -6.656196   -7.990626   -6.729205   -7.279472   \n\n            Mpro-x0426  Mpro-x0305  Mpro-x1093  Mpro-x0104  Mpro-x0991  ...  \\\nSaquinavir   -8.269345   -8.362493   -8.244357   -9.128084   -7.168098  ...   \nDarunavir    -7.934294   -8.010982   -7.736708   -7.886926   -7.676649  ...   \nTipranavir   -7.599991   -7.478775   -7.706754   -7.435692   -7.712165  ...   \nAmprenavir   -7.820700   -8.223477   -6.865960   -8.021937   -7.202220  ...   \nLopinavir    -7.826582   -7.818098   -7.272097   -8.028197   -6.535447  ...   \n\n            Mpro-x0354  Mpro-x0195  Mpro-x0161  Mpro-x0072  Mpro-x0434  \\\nSaquinavir   -8.087443   -8.844465   -8.629960   -7.923698   -8.493154   \nDarunavir    -7.992827   -8.019354   -7.882391   -7.529722   -8.386662   \nTipranavir   -7.824152   -8.205197   -8.082139   -7.307422   -7.803466   \nAmprenavir   -7.386836   -7.657907   -7.520630   -7.701531   -7.759954   \nLopinavir    -7.135144   -8.202315   -8.858665   -8.230378   -6.855791   \n\n            Mpro-x0678  Mpro-x0874  Mpro-x0107  rank_score  rank  \nSaquinavir   -9.379663   -8.507774   -8.643406   -8.384880     1  \nDarunavir    -8.158504   -7.867641   -7.671084   -7.844563     2  \nTipranavir   -7.499049   -7.514155   -7.385074   -7.676991     3  \nAmprenavir   -7.597741   -8.008538   -7.416133   -7.552883     4  \nLopinavir    -7.110261   -8.450487   -6.498792   -7.459869     5  \n\n[5 rows x 24 columns]",
      "text/html": "<div>\n<style scoped>\n    .dataframe tbody tr th:only-of-type {\n        vertical-align: middle;\n    }\n\n    .dataframe tbody tr th {\n        vertical-align: top;\n    }\n\n    .dataframe thead th {\n        text-align: right;\n    }\n</style>\n<table border=\"1\" class=\"dataframe\">\n  <thead>\n    <tr style=\"text-align: right;\">\n      <th></th>\n      <th>Mpro-x0397</th>\n      <th>Mpro-x0387</th>\n      <th>Mpro-x0946</th>\n      <th>Mpro-x0540</th>\n      <th>Mpro-x1249</th>\n      <th>Mpro-x0426</th>\n      <th>Mpro-x0305</th>\n      <th>Mpro-x1093</th>\n      <th>Mpro-x0104</th>\n      <th>Mpro-x0991</th>\n      <th>...</th>\n      <th>Mpro-x0354</th>\n      <th>Mpro-x0195</th>\n      <th>Mpro-x0161</th>\n      <th>Mpro-x0072</th>\n      <th>Mpro-x0434</th>\n      <th>Mpro-x0678</th>\n      <th>Mpro-x0874</th>\n      <th>Mpro-x0107</th>\n      <th>rank_score</th>\n      <th>rank</th>\n    </tr>\n  </thead>\n  <tbody>\n    <tr>\n      <th>Saquinavir</th>\n      <td>-8.662073</td>\n      <td>-7.343354</td>\n      <td>-8.804437</td>\n      <td>-7.829814</td>\n      <td>-8.586934</td>\n      <td>-8.269345</td>\n      <td>-8.362493</td>\n      <td>-8.244357</td>\n      <td>-9.128084</td>\n      <td>-7.168098</td>\n      <td>...</td>\n      <td>-8.087443</td>\n      <td>-8.844465</td>\n      <td>-8.629960</td>\n      <td>-7.923698</td>\n      <td>-8.493154</td>\n      <td>-9.379663</td>\n      <td>-8.507774</td>\n      <td>-8.643406</td>\n      <td>-8.384880</td>\n      <td>1</td>\n    </tr>\n    <tr>\n      <th>Darunavir</th>\n      <td>-8.474818</td>\n      <td>-7.506427</td>\n      <td>-7.921558</td>\n      <td>-6.995169</td>\n      <td>-7.828120</td>\n      <td>-7.934294</td>\n      <td>-8.010982</td>\n      <td>-7.736708</td>\n      <td>-7.886926</td>\n      <td>-7.676649</td>\n      <td>...</td>\n      <td>-7.992827</td>\n      <td>-8.019354</td>\n      <td>-7.882391</td>\n      <td>-7.529722</td>\n      <td>-8.386662</td>\n      <td>-8.158504</td>\n      <td>-7.867641</td>\n      <td>-7.671084</td>\n      <td>-7.844563</td>\n      <td>2</td>\n    </tr>\n    <tr>\n      <th>Tipranavir</th>\n      <td>-8.796697</td>\n      <td>-7.662677</td>\n      <td>-7.666975</td>\n      <td>-7.148129</td>\n      <td>-8.168451</td>\n      <td>-7.599991</td>\n      <td>-7.478775</td>\n      <td>-7.706754</td>\n      <td>-7.435692</td>\n      <td>-7.712165</td>\n      <td>...</td>\n      <td>-7.824152</td>\n      <td>-8.205197</td>\n      <td>-8.082139</td>\n      <td>-7.307422</td>\n      <td>-7.803466</td>\n      <td>-7.499049</td>\n      <td>-7.514155</td>\n      <td>-7.385074</td>\n      <td>-7.676991</td>\n      <td>3</td>\n    </tr>\n    <tr>\n      <th>Amprenavir</th>\n      <td>-8.254901</td>\n      <td>-6.688261</td>\n      <td>-7.853294</td>\n      <td>-6.540944</td>\n      <td>-7.840761</td>\n      <td>-7.820700</td>\n      <td>-8.223477</td>\n      <td>-6.865960</td>\n      <td>-8.021937</td>\n      <td>-7.202220</td>\n      <td>...</td>\n      <td>-7.386836</td>\n      <td>-7.657907</td>\n      <td>-7.520630</td>\n      <td>-7.701531</td>\n      <td>-7.759954</td>\n      <td>-7.597741</td>\n      <td>-8.008538</td>\n      <td>-7.416133</td>\n      <td>-7.552883</td>\n      <td>4</td>\n    </tr>\n    <tr>\n      <th>Lopinavir</th>\n      <td>-7.172627</td>\n      <td>-6.656196</td>\n      <td>-7.990626</td>\n      <td>-6.729205</td>\n      <td>-7.279472</td>\n      <td>-7.826582</td>\n      <td>-7.818098</td>\n      <td>-7.272097</td>\n      <td>-8.028197</td>\n      <td>-6.535447</td>\n      <td>...</td>\n      <td>-7.135144</td>\n      <td>-8.202315</td>\n      <td>-8.858665</td>\n      <td>-8.230378</td>\n      <td>-6.855791</td>\n      <td>-7.110261</td>\n      <td>-8.450487</td>\n      <td>-6.498792</td>\n      <td>-7.459869</td>\n      <td>5</td>\n    </tr>\n  </tbody>\n</table>\n<p>5 rows × 24 columns</p>\n</div>"
     },
     "metadata": {},
     "execution_count": 21
    }
   ],
   "source": [
    "df_sort.head()"
   ]
  },
  {
   "cell_type": "code",
   "execution_count": 22,
   "metadata": {},
   "outputs": [
    {
     "output_type": "execute_result",
     "data": {
      "text/plain": "            count      mean       std       min       25%       50%       75%  \\\nSaquinavir   22.0 -8.384880  0.536534 -9.379663 -8.657406 -8.500464 -8.126672   \nDarunavir    22.0 -7.844563  0.319580 -8.474818 -8.006443 -7.884659 -7.687243   \nTipranavir   22.0 -7.676991  0.404188 -8.796697 -7.855234 -7.664826 -7.446463   \nAmprenavir   22.0 -7.552883  0.470829 -8.254901 -7.850161 -7.627824 -7.394160   \nLopinavir    22.0 -7.459869  0.667968 -8.858665 -8.018804 -7.275784 -7.009647   \n\n                 max  \nSaquinavir -7.168098  \nDarunavir  -6.995169  \nTipranavir -7.038690  \nAmprenavir -6.540944  \nLopinavir  -6.498792  ",
      "text/html": "<div>\n<style scoped>\n    .dataframe tbody tr th:only-of-type {\n        vertical-align: middle;\n    }\n\n    .dataframe tbody tr th {\n        vertical-align: top;\n    }\n\n    .dataframe thead th {\n        text-align: right;\n    }\n</style>\n<table border=\"1\" class=\"dataframe\">\n  <thead>\n    <tr style=\"text-align: right;\">\n      <th></th>\n      <th>count</th>\n      <th>mean</th>\n      <th>std</th>\n      <th>min</th>\n      <th>25%</th>\n      <th>50%</th>\n      <th>75%</th>\n      <th>max</th>\n    </tr>\n  </thead>\n  <tbody>\n    <tr>\n      <th>Saquinavir</th>\n      <td>22.0</td>\n      <td>-8.384880</td>\n      <td>0.536534</td>\n      <td>-9.379663</td>\n      <td>-8.657406</td>\n      <td>-8.500464</td>\n      <td>-8.126672</td>\n      <td>-7.168098</td>\n    </tr>\n    <tr>\n      <th>Darunavir</th>\n      <td>22.0</td>\n      <td>-7.844563</td>\n      <td>0.319580</td>\n      <td>-8.474818</td>\n      <td>-8.006443</td>\n      <td>-7.884659</td>\n      <td>-7.687243</td>\n      <td>-6.995169</td>\n    </tr>\n    <tr>\n      <th>Tipranavir</th>\n      <td>22.0</td>\n      <td>-7.676991</td>\n      <td>0.404188</td>\n      <td>-8.796697</td>\n      <td>-7.855234</td>\n      <td>-7.664826</td>\n      <td>-7.446463</td>\n      <td>-7.038690</td>\n    </tr>\n    <tr>\n      <th>Amprenavir</th>\n      <td>22.0</td>\n      <td>-7.552883</td>\n      <td>0.470829</td>\n      <td>-8.254901</td>\n      <td>-7.850161</td>\n      <td>-7.627824</td>\n      <td>-7.394160</td>\n      <td>-6.540944</td>\n    </tr>\n    <tr>\n      <th>Lopinavir</th>\n      <td>22.0</td>\n      <td>-7.459869</td>\n      <td>0.667968</td>\n      <td>-8.858665</td>\n      <td>-8.018804</td>\n      <td>-7.275784</td>\n      <td>-7.009647</td>\n      <td>-6.498792</td>\n    </tr>\n  </tbody>\n</table>\n</div>"
     },
     "metadata": {},
     "execution_count": 22
    }
   ],
   "source": [
    "df_descrive.head()"
   ]
  },
  {
   "cell_type": "code",
   "execution_count": 23,
   "metadata": {},
   "outputs": [
    {
     "output_type": "stream",
     "name": "stdout",
     "text": "The top 20 compounds in screening results:\n"
    },
    {
     "output_type": "execute_result",
     "data": {
      "text/plain": "            rank_score  rank\nSaquinavir   -8.384880     1\nDarunavir    -7.844563     2\nTipranavir   -7.676991     3\nAmprenavir   -7.552883     4\nLopinavir    -7.459869     5\nRitonavir    -7.229888     6\nAtazanavir   -7.116805     7",
      "text/html": "<div>\n<style scoped>\n    .dataframe tbody tr th:only-of-type {\n        vertical-align: middle;\n    }\n\n    .dataframe tbody tr th {\n        vertical-align: top;\n    }\n\n    .dataframe thead th {\n        text-align: right;\n    }\n</style>\n<table border=\"1\" class=\"dataframe\">\n  <thead>\n    <tr style=\"text-align: right;\">\n      <th></th>\n      <th>rank_score</th>\n      <th>rank</th>\n    </tr>\n  </thead>\n  <tbody>\n    <tr>\n      <th>Saquinavir</th>\n      <td>-8.384880</td>\n      <td>1</td>\n    </tr>\n    <tr>\n      <th>Darunavir</th>\n      <td>-7.844563</td>\n      <td>2</td>\n    </tr>\n    <tr>\n      <th>Tipranavir</th>\n      <td>-7.676991</td>\n      <td>3</td>\n    </tr>\n    <tr>\n      <th>Amprenavir</th>\n      <td>-7.552883</td>\n      <td>4</td>\n    </tr>\n    <tr>\n      <th>Lopinavir</th>\n      <td>-7.459869</td>\n      <td>5</td>\n    </tr>\n    <tr>\n      <th>Ritonavir</th>\n      <td>-7.229888</td>\n      <td>6</td>\n    </tr>\n    <tr>\n      <th>Atazanavir</th>\n      <td>-7.116805</td>\n      <td>7</td>\n    </tr>\n  </tbody>\n</table>\n</div>"
     },
     "metadata": {},
     "execution_count": 23
    }
   ],
   "source": [
    "n = 20\n",
    "print ('The top %d compounds in screening results:'%n)\n",
    "df_top = df_sort.loc[:, ['rank_score', 'rank']]\n",
    "df_top.head(n)"
   ]
  },
  {
   "cell_type": "code",
   "execution_count": null,
   "metadata": {},
   "outputs": [],
   "source": []
  },
  {
   "cell_type": "code",
   "execution_count": null,
   "metadata": {},
   "outputs": [],
   "source": []
  }
 ],
 "metadata": {
  "kernelspec": {
   "display_name": "Python 3",
   "language": "python",
   "name": "python3"
  },
  "language_info": {
   "codemirror_mode": {
    "name": "ipython",
    "version": 3
   },
   "file_extension": ".py",
   "mimetype": "text/x-python",
   "name": "python",
   "nbconvert_exporter": "python",
   "pygments_lexer": "ipython3",
   "version": "3.6.10-final"
  }
 },
 "nbformat": 4,
 "nbformat_minor": 4
}