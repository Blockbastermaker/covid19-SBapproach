{
 "cells": [
  {
   "cell_type": "markdown",
   "metadata": {},
   "source": [
    "## Examples on how to screen for similar molecules in Enamine REAL space"
   ]
  },
  {
   "cell_type": "code",
   "execution_count": null,
   "metadata": {},
   "outputs": [],
   "source": [
    "%load_ext nb_black"
   ]
  },
  {
   "cell_type": "code",
   "execution_count": null,
   "metadata": {},
   "outputs": [],
   "source": [
    "from pathlib import Path\n",
    "import os\n",
    "import sys\n",
    "from distutils.spawn import find_executable\n",
    "import subprocess\n",
    "\n",
    "import pandas as pd\n",
    "from rdkit import Chem\n",
    "from rdkit.Chem import Draw\n",
    "from rdkit.Chem import PandasTools\n",
    "from IPython.core.display import HTML"
   ]
  },
  {
   "cell_type": "markdown",
   "metadata": {},
   "source": [
    "### Requirements:\n",
    "* [Ftree](https://www.biosolveit.de/FTrees/) tool from BioSolveIt\n",
    "* [REAL space](https://www.biosolveit.de/CoLibri/spaces.html#realspace) to  find synthesizable compounds from Enamine"
   ]
  },
  {
   "cell_type": "markdown",
   "metadata": {},
   "source": [
    "Ftrees commandline help:\n",
    "\n",
    "```\n",
    " Available options:\n",
    "\n",
    " Program options:\n",
    "  -i [ --input ] arg                   Input query molecule file or single input molecule as smiles.\n",
    "  -s [ --searchFiles ] arg             Paths to library input molecule files for similarity scoring or to\n",
    "                                       Fragment Space FSF files or Fragment Spaces.\n",
    "                                       Note: The .flf and fragment files specified in the FSF have to be in\n",
    "                                       the appropriate relative paths.\n",
    "  -o [ --outputFiles ] arg             Output base files (suffixes are required). Only '.sdf' and '.csv' are\n",
    "                                       supported.\n",
    "  -m [ --matchImageBaseFile ] arg      Output base file name for matching images (suffix required).\n",
    "                                       The file formats '.pdf', '.png' and '.svg' are supported.\n",
    "                                       Note: For each match a separate file is created.\n",
    "  --gen2dOutput arg (=0)               Generates 2d coordinates in case of SDF output files.\n",
    "                                       Note: Can't be used together with '--gen3dOutput'.\n",
    "  --gen3dOutput arg (=0)               Generates 3d coordinates in case of SDF output files.\n",
    "                                       Note: Can't be used together with '--gen2dOutput'.\n",
    "  --thread-count arg                   Maximum number of threads used for calculations.\n",
    "\n",
    " Configuration:\n",
    "  --comparisonAlgorithm arg (=1)       Feature Tree comparison algorithm\n",
    "                                           0: Split-Search\n",
    "                                           1: Match-Search\n",
    "                                           2: Multi-Match-Search\n",
    "  --expandAlternativeResults arg (=0)  Write alternative results based on alternative reaction paths or\n",
    "                                       duplicate matchings.\n",
    "  --maxNofResults arg (=100)           Maximum number of top-ranking result molecules [1 to 1000000].\n",
    "  --minSimilarityThreshold arg (=0.8)  Similarity threshold below which molecules are discarded [0.0 to 1.0].\n",
    "  --targetSimilarity arg (=1)          Desired target similarity to the query molecule [0.5 to 1.0].\n",
    "                                       Note: Must be >= '--minSimilarityThreshold'\n",
    "  --totalDiversity arg (=1)            Required diversity between any two compounds in a solution set [0.9 to\n",
    "                                       1.0].\n",
    "                                       Note: Only available if --maxNofResults' is <= 500.\n",
    "                                       WARNING: any value below 1.0 drastically extends the run time.\n",
    "\n",
    " Deprecated options:\n",
    "  -l [ --library ] arg                 Library input molecule files to calculate similarity score with.\n",
    "                                       Note: Can't be used together with '--searchFiles'.\n",
    "  -f [ --fragSpace ] arg               Paths to the Fragment Space FSF files or Fragment Spaces.\n",
    "                                       Note: The .flf and fragment files specified in the FSF have to be in\n",
    "                                       the appropriate relative paths.\n",
    "                                       Note: Can't be used together with '--searchFiles'.\n",
    "\n",
    " General options:\n",
    "  -h [ --help ]                        Prints this help message\n",
    "  --version                            Prints version info\n",
    "  --license-info                       Prints license info\n",
    "  -v [ --verbosity ] arg (=2)          Set verbosity level\n",
    "                                            0 [silent]\n",
    "                                            1 [error]\n",
    "                                            2 [warning]\n",
    "                                            3 [workflow]\n",
    "                                            4 [steps]\n",
    "```"
   ]
  },
  {
   "cell_type": "markdown",
   "metadata": {},
   "source": [
    "### Define input path for binary and library"
   ]
  },
  {
   "cell_type": "markdown",
   "metadata": {},
   "source": [
    "Define constant that points to the data/ folder using absolute path in running computer (working dir indepedent)."
   ]
  },
  {
   "cell_type": "code",
   "execution_count": null,
   "metadata": {},
   "outputs": [],
   "source": [
    "DATADIR = Path(_dh[0]).parent.parent / \"data\"\n",
    "print(DATADIR)"
   ]
  },
  {
   "cell_type": "code",
   "execution_count": null,
   "metadata": {},
   "outputs": [],
   "source": [
    "# FTrees executable\n",
    "# Replace with your absolute path if location is not standard\n",
    "if sys.platform == \"windows\":\n",
    "    path_to_binary = (\n",
    "        rf\"{os.environ['LOCALAPPDATA']}\\Programs\\BioSolveIT\\FTrees-6.0\\FTrees.exe\"\n",
    "    )\n",
    "else:\n",
    "    path_to_binary = find_executable(\"Ftrees\")\n",
    "# fragment space\n",
    "if not path_to_binary or not os.path.isfile(path_to_binary):\n",
    "    raise ValueError(\"FTrees program cannot be found\")\n",
    "fspace = \"REALspace_2019-12.space\"\n",
    "library = DATADIR / f\"{fspace}\""
   ]
  },
  {
   "cell_type": "markdown",
   "metadata": {},
   "source": [
    "### Set command line options"
   ]
  },
  {
   "cell_type": "code",
   "execution_count": null,
   "metadata": {},
   "outputs": [],
   "source": [
    "# Maximum number of top-ranking result molecules [1 to 1000000].\n",
    "max_nof_results = 50\n",
    "# Similarity threshold below which molecules are discarded [0.0 to 1.0].\n",
    "min_sim_thresh = 0.8\n",
    "# Desired target similarity to the query molecule [0.5 to 1.0]. Note: Must be >= '--minSimilarityThreshold'\n",
    "target_sim = 1\n",
    "# Required diversity between any two compounds in a solution set [0.9 to 1.0].\n",
    "total_div = 0.95\n",
    "# Generates 3d coordinates in case of SDF output files. 0 = off\n",
    "gen_3d_output = 1"
   ]
  },
  {
   "cell_type": "markdown",
   "metadata": {},
   "source": [
    "### Example 1: Run for individual Smiles"
   ]
  },
  {
   "cell_type": "code",
   "execution_count": null,
   "metadata": {},
   "outputs": [],
   "source": [
    "smi = \"CC(=O)NCCC1=CNC2=C1C=C(C=C2)OC\"\n",
    "# Output base files (suffixes are required). Only '.sdf' and '.csv' are supported.\n",
    "outfile_name = \"ex1_out\""
   ]
  },
  {
   "cell_type": "markdown",
   "metadata": {},
   "source": [
    "### Prepare system call"
   ]
  },
  {
   "cell_type": "code",
   "execution_count": null,
   "metadata": {},
   "outputs": [],
   "source": [
    "sys_call = [\n",
    "    path_to_binary,\n",
    "    \"--input\",\n",
    "    smi,\n",
    "    \"--searchFiles\",\n",
    "    library,\n",
    "    \"--maxNofResults\",\n",
    "    max_nof_results,\n",
    "    \"--outputFiles\",\n",
    "    DATADIR / f\"{outfile_name}.sdf\",\n",
    "    \"--minSimilarityThreshold\",\n",
    "    min_sim_thresh,\n",
    "    \"--targetSimilarity\",\n",
    "    target_sim,\n",
    "    \"--totalDiversity\",\n",
    "    total_div,\n",
    "    \"--gen3dOutput\",\n",
    "    gen_3d_output,\n",
    "]\n",
    "print(*sys_call)"
   ]
  },
  {
   "cell_type": "code",
   "execution_count": null,
   "metadata": {},
   "outputs": [],
   "source": [
    "out = subprocess.check_output([str(x) for x in sys_call])\n",
    "out"
   ]
  },
  {
   "cell_type": "markdown",
   "metadata": {},
   "source": [
    "### Collect results "
   ]
  },
  {
   "cell_type": "code",
   "execution_count": null,
   "metadata": {
    "scrolled": true
   },
   "outputs": [],
   "source": [
    "load_file = str(DATADIR / f\"{outfile_name}_1.sdf\")\n",
    "df = PandasTools.LoadSDF(load_file)\n",
    "df.head()\n",
    "# display(HTML(df.to_html()))"
   ]
  },
  {
   "cell_type": "markdown",
   "metadata": {},
   "source": [
    "### Example 2: Run for protease set"
   ]
  },
  {
   "cell_type": "code",
   "execution_count": null,
   "metadata": {},
   "outputs": [],
   "source": [
    "# get protease sdf file\n",
    "protease_sdf = str(DATADIR / \"proteaseFDAdrugs_3D.sdf\")\n",
    "# Output base files (suffixes are required). Only '.sdf' and '.csv' are supported.\n",
    "outfile_name = \"ex2_out\"\n",
    "# generate more results\n",
    "max_nof_results = 100"
   ]
  },
  {
   "cell_type": "code",
   "execution_count": null,
   "metadata": {},
   "outputs": [],
   "source": [
    "df_tmp = PandasTools.LoadSDF(protease_sdf)\n",
    "display(HTML(df_tmp.to_html()))"
   ]
  },
  {
   "cell_type": "markdown",
   "metadata": {},
   "source": [
    "### Prepare system call"
   ]
  },
  {
   "cell_type": "code",
   "execution_count": null,
   "metadata": {},
   "outputs": [],
   "source": [
    "sys_call = [\n",
    "    path_to_binary,\n",
    "    \"--input\",\n",
    "    protease_sdf,\n",
    "    \"--searchFiles\",\n",
    "    library,\n",
    "    \"--maxNofResults\",\n",
    "    max_nof_results,\n",
    "    \"--outputFiles\",\n",
    "    DATADIR / f\"{outfile_name}.sdf\",\n",
    "    \"--minSimilarityThreshold\",\n",
    "    min_sim_thresh,\n",
    "    \"--targetSimilarity\",\n",
    "    target_sim,\n",
    "    \"--totalDiversity\",\n",
    "    total_div,\n",
    "    \"--gen3dOutput\",\n",
    "    gen_3d_output,\n",
    "]\n",
    "print(*sys_call)"
   ]
  },
  {
   "cell_type": "code",
   "execution_count": null,
   "metadata": {},
   "outputs": [],
   "source": [
    "# run\n",
    "out = subprocess.check_output([str(x) for x in sys_call])\n",
    "out"
   ]
  },
  {
   "cell_type": "code",
   "execution_count": null,
   "metadata": {},
   "outputs": [],
   "source": [
    "df2 = PandasTools.LoadSDF(str(DATADIR / f\"{outfile_name}_1.sdf\"))\n",
    "display(HTML(df2.to_html()))"
   ]
  },
  {
   "cell_type": "code",
   "execution_count": null,
   "metadata": {},
   "outputs": [],
   "source": [
    "Draw.MolsToGridImage(df2.ROMol, molsPerRow=5)"
   ]
  },
  {
   "cell_type": "code",
   "execution_count": null,
   "metadata": {},
   "outputs": [],
   "source": []
  }
 ],
 "metadata": {
  "kernelspec": {
   "display_name": "Python 3",
   "language": "python",
   "name": "python3"
  },
  "language_info": {
   "codemirror_mode": {
    "name": "ipython",
    "version": 3
   },
   "file_extension": ".py",
   "mimetype": "text/x-python",
   "name": "python",
   "nbconvert_exporter": "python",
   "pygments_lexer": "ipython3",
   "version": "3.6.7"
  }
 },
 "nbformat": 4,
 "nbformat_minor": 4
}
