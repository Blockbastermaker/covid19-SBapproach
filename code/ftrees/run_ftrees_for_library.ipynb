{
 "cells": [
  {
   "cell_type": "markdown",
   "metadata": {},
   "source": [
    "## Examples on how to screen for similar molecules in Enamine REAL space"
   ]
  },
  {
   "cell_type": "code",
   "execution_count": 25,
   "metadata": {},
   "outputs": [
    {
     "name": "stdout",
     "output_type": "stream",
     "text": [
      "The nb_black extension is already loaded. To reload it, use:\n",
      "  %reload_ext nb_black\n"
     ]
    },
    {
     "data": {
      "application/javascript": [
       "\n",
       "            setTimeout(function() {\n",
       "                var nbb_cell_id = 25;\n",
       "                var nbb_unformatted_code = \"%load_ext nb_black\";\n",
       "                var nbb_formatted_code = \"%load_ext nb_black\";\n",
       "                var nbb_cells = Jupyter.notebook.get_cells();\n",
       "                for (var i = 0; i < nbb_cells.length; ++i) {\n",
       "                    if (nbb_cells[i].input_prompt_number == nbb_cell_id) {\n",
       "                        if (nbb_cells[i].get_text() == nbb_unformatted_code) {\n",
       "                             nbb_cells[i].set_text(nbb_formatted_code);\n",
       "                        }\n",
       "                        break;\n",
       "                    }\n",
       "                }\n",
       "            }, 500);\n",
       "            "
      ],
      "text/plain": [
       "<IPython.core.display.Javascript object>"
      ]
     },
     "metadata": {},
     "output_type": "display_data"
    }
   ],
   "source": [
    "%load_ext nb_black"
   ]
  },
  {
   "cell_type": "code",
   "execution_count": 26,
   "metadata": {},
   "outputs": [
    {
     "data": {
      "application/javascript": [
       "\n",
       "            setTimeout(function() {\n",
       "                var nbb_cell_id = 26;\n",
       "                var nbb_unformatted_code = \"from pathlib import Path\\nimport os\\nimport sys\\nfrom distutils.spawn import find_executable\\nimport subprocess\\n\\nimport pandas as pd\\nfrom rdkit import Chem\\nfrom rdkit.Chem import Draw\\nfrom rdkit.Chem import PandasTools\\nfrom IPython.core.display import HTML\";\n",
       "                var nbb_formatted_code = \"from pathlib import Path\\nimport os\\nimport sys\\nfrom distutils.spawn import find_executable\\nimport subprocess\\n\\nimport pandas as pd\\nfrom rdkit import Chem\\nfrom rdkit.Chem import Draw\\nfrom rdkit.Chem import PandasTools\\nfrom IPython.core.display import HTML\";\n",
       "                var nbb_cells = Jupyter.notebook.get_cells();\n",
       "                for (var i = 0; i < nbb_cells.length; ++i) {\n",
       "                    if (nbb_cells[i].input_prompt_number == nbb_cell_id) {\n",
       "                        if (nbb_cells[i].get_text() == nbb_unformatted_code) {\n",
       "                             nbb_cells[i].set_text(nbb_formatted_code);\n",
       "                        }\n",
       "                        break;\n",
       "                    }\n",
       "                }\n",
       "            }, 500);\n",
       "            "
      ],
      "text/plain": [
       "<IPython.core.display.Javascript object>"
      ]
     },
     "metadata": {},
     "output_type": "display_data"
    }
   ],
   "source": [
    "from pathlib import Path\n",
    "import os\n",
    "import sys\n",
    "from distutils.spawn import find_executable\n",
    "import subprocess\n",
    "\n",
    "import pandas as pd\n",
    "from rdkit import Chem\n",
    "from rdkit.Chem import Draw\n",
    "from rdkit.Chem import PandasTools\n",
    "from IPython.core.display import HTML"
   ]
  },
  {
   "cell_type": "markdown",
   "metadata": {},
   "source": [
    "### Requirements:\n",
    "* [Ftree](https://www.biosolveit.de/FTrees/) tool from BioSolveIt\n",
    "* [REAL space](https://www.biosolveit.de/CoLibri/spaces.html#realspace) to  find synthesizable compounds from Enamine"
   ]
  },
  {
   "cell_type": "markdown",
   "metadata": {},
   "source": [
    "Ftrees commandline help:\n",
    "\n",
    "```\n",
    " Available options:\n",
    "\n",
    " Program options:\n",
    "  -i [ --input ] arg                   Input query molecule file or single input molecule as smiles.\n",
    "  -s [ --searchFiles ] arg             Paths to library input molecule files for similarity scoring or to\n",
    "                                       Fragment Space FSF files or Fragment Spaces.\n",
    "                                       Note: The .flf and fragment files specified in the FSF have to be in\n",
    "                                       the appropriate relative paths.\n",
    "  -o [ --outputFiles ] arg             Output base files (suffixes are required). Only '.sdf' and '.csv' are\n",
    "                                       supported.\n",
    "  -m [ --matchImageBaseFile ] arg      Output base file name for matching images (suffix required).\n",
    "                                       The file formats '.pdf', '.png' and '.svg' are supported.\n",
    "                                       Note: For each match a separate file is created.\n",
    "  --gen2dOutput arg (=0)               Generates 2d coordinates in case of SDF output files.\n",
    "                                       Note: Can't be used together with '--gen3dOutput'.\n",
    "  --gen3dOutput arg (=0)               Generates 3d coordinates in case of SDF output files.\n",
    "                                       Note: Can't be used together with '--gen2dOutput'.\n",
    "  --thread-count arg                   Maximum number of threads used for calculations.\n",
    "\n",
    " Configuration:\n",
    "  --comparisonAlgorithm arg (=1)       Feature Tree comparison algorithm\n",
    "                                           0: Split-Search\n",
    "                                           1: Match-Search\n",
    "                                           2: Multi-Match-Search\n",
    "  --expandAlternativeResults arg (=0)  Write alternative results based on alternative reaction paths or\n",
    "                                       duplicate matchings.\n",
    "  --maxNofResults arg (=100)           Maximum number of top-ranking result molecules [1 to 1000000].\n",
    "  --minSimilarityThreshold arg (=0.8)  Similarity threshold below which molecules are discarded [0.0 to 1.0].\n",
    "  --targetSimilarity arg (=1)          Desired target similarity to the query molecule [0.5 to 1.0].\n",
    "                                       Note: Must be >= '--minSimilarityThreshold'\n",
    "  --totalDiversity arg (=1)            Required diversity between any two compounds in a solution set [0.9 to\n",
    "                                       1.0].\n",
    "                                       Note: Only available if --maxNofResults' is <= 500.\n",
    "                                       WARNING: any value below 1.0 drastically extends the run time.\n",
    "\n",
    " Deprecated options:\n",
    "  -l [ --library ] arg                 Library input molecule files to calculate similarity score with.\n",
    "                                       Note: Can't be used together with '--searchFiles'.\n",
    "  -f [ --fragSpace ] arg               Paths to the Fragment Space FSF files or Fragment Spaces.\n",
    "                                       Note: The .flf and fragment files specified in the FSF have to be in\n",
    "                                       the appropriate relative paths.\n",
    "                                       Note: Can't be used together with '--searchFiles'.\n",
    "\n",
    " General options:\n",
    "  -h [ --help ]                        Prints this help message\n",
    "  --version                            Prints version info\n",
    "  --license-info                       Prints license info\n",
    "  -v [ --verbosity ] arg (=2)          Set verbosity level\n",
    "                                            0 [silent]\n",
    "                                            1 [error]\n",
    "                                            2 [warning]\n",
    "                                            3 [workflow]\n",
    "                                            4 [steps]\n",
    "```"
   ]
  },
  {
   "cell_type": "markdown",
   "metadata": {},
   "source": [
    "### Define input path for binary and library"
   ]
  },
  {
   "cell_type": "markdown",
   "metadata": {},
   "source": [
    "Define constant that points to the data/ folder using absolute path in running computer (working dir indepedent)."
   ]
  },
  {
   "cell_type": "code",
   "execution_count": 27,
   "metadata": {},
   "outputs": [
    {
     "name": "stdout",
     "output_type": "stream",
     "text": [
      "C:\\Users\\andre\\Desktop\\Arbeit_Charite\\GitHub\\covid19-SBapproach\\data\n"
     ]
    },
    {
     "data": {
      "application/javascript": [
       "\n",
       "            setTimeout(function() {\n",
       "                var nbb_cell_id = 27;\n",
       "                var nbb_unformatted_code = \"DATADIR = Path(_dh[0]).parent.parent / \\\"data\\\"\\nprint(DATADIR)\";\n",
       "                var nbb_formatted_code = \"DATADIR = Path(_dh[0]).parent.parent / \\\"data\\\"\\nprint(DATADIR)\";\n",
       "                var nbb_cells = Jupyter.notebook.get_cells();\n",
       "                for (var i = 0; i < nbb_cells.length; ++i) {\n",
       "                    if (nbb_cells[i].input_prompt_number == nbb_cell_id) {\n",
       "                        if (nbb_cells[i].get_text() == nbb_unformatted_code) {\n",
       "                             nbb_cells[i].set_text(nbb_formatted_code);\n",
       "                        }\n",
       "                        break;\n",
       "                    }\n",
       "                }\n",
       "            }, 500);\n",
       "            "
      ],
      "text/plain": [
       "<IPython.core.display.Javascript object>"
      ]
     },
     "metadata": {},
     "output_type": "display_data"
    }
   ],
   "source": [
    "DATADIR = Path(_dh[0]).parent.parent / \"data\"\n",
    "print(DATADIR)"
   ]
  },
  {
   "cell_type": "code",
   "execution_count": 33,
   "metadata": {},
   "outputs": [
    {
     "data": {
      "application/javascript": [
       "\n",
       "            setTimeout(function() {\n",
       "                var nbb_cell_id = 33;\n",
       "                var nbb_unformatted_code = \"# FTrees executable\\n# Replace with your absolute path if location is not standard\\nif sys.platform == \\\"windows\\\" or sys.platform == \\\"win32\\\":\\n    path_to_binary = (\\n        rf\\\"{os.environ['LOCALAPPDATA']}\\\\Programs\\\\BioSolveIT\\\\FTrees-6.0\\\\FTrees.exe\\\"\\n    )\\nelse:\\n    path_to_binary = find_executable(\\\"Ftrees\\\")\\n# fragment space\\nif not path_to_binary or not os.path.isfile(path_to_binary):\\n    raise ValueError(\\\"FTrees program cannot be found\\\")\\nfspace = \\\"REALspace_2019-12.space\\\"\\nlibrary = DATADIR / f\\\"{fspace}\\\"\";\n",
       "                var nbb_formatted_code = \"# FTrees executable\\n# Replace with your absolute path if location is not standard\\nif sys.platform == \\\"windows\\\" or sys.platform == \\\"win32\\\":\\n    path_to_binary = (\\n        rf\\\"{os.environ['LOCALAPPDATA']}\\\\Programs\\\\BioSolveIT\\\\FTrees-6.0\\\\FTrees.exe\\\"\\n    )\\nelse:\\n    path_to_binary = find_executable(\\\"Ftrees\\\")\\n# fragment space\\nif not path_to_binary or not os.path.isfile(path_to_binary):\\n    raise ValueError(\\\"FTrees program cannot be found\\\")\\nfspace = \\\"REALspace_2019-12.space\\\"\\nlibrary = DATADIR / f\\\"{fspace}\\\"\";\n",
       "                var nbb_cells = Jupyter.notebook.get_cells();\n",
       "                for (var i = 0; i < nbb_cells.length; ++i) {\n",
       "                    if (nbb_cells[i].input_prompt_number == nbb_cell_id) {\n",
       "                        if (nbb_cells[i].get_text() == nbb_unformatted_code) {\n",
       "                             nbb_cells[i].set_text(nbb_formatted_code);\n",
       "                        }\n",
       "                        break;\n",
       "                    }\n",
       "                }\n",
       "            }, 500);\n",
       "            "
      ],
      "text/plain": [
       "<IPython.core.display.Javascript object>"
      ]
     },
     "metadata": {},
     "output_type": "display_data"
    }
   ],
   "source": [
    "# FTrees executable\n",
    "# Replace with your absolute path if location is not standard\n",
    "if sys.platform == \"windows\" or sys.platform == \"win32\":\n",
    "    path_to_binary = (\n",
    "        rf\"{os.environ['LOCALAPPDATA']}\\Programs\\BioSolveIT\\FTrees-6.0\\FTrees.exe\"\n",
    "    )\n",
    "else:\n",
    "    path_to_binary = find_executable(\"Ftrees\")\n",
    "# fragment space\n",
    "if not path_to_binary or not os.path.isfile(path_to_binary):\n",
    "    raise ValueError(\"FTrees program cannot be found\")\n",
    "fspace = \"REALspace_2019-12.space\"\n",
    "library = DATADIR / f\"{fspace}\""
   ]
  },
  {
   "cell_type": "markdown",
   "metadata": {},
   "source": [
    "### Set command line options"
   ]
  },
  {
   "cell_type": "code",
   "execution_count": 34,
   "metadata": {},
   "outputs": [
    {
     "data": {
      "application/javascript": [
       "\n",
       "            setTimeout(function() {\n",
       "                var nbb_cell_id = 34;\n",
       "                var nbb_unformatted_code = \"# Maximum number of top-ranking result molecules [1 to 1000000].\\nmax_nof_results = 50\\n# Similarity threshold below which molecules are discarded [0.0 to 1.0].\\nmin_sim_thresh = 0.8\\n# Desired target similarity to the query molecule [0.5 to 1.0]. Note: Must be >= '--minSimilarityThreshold'\\ntarget_sim = 1\\n# Required diversity between any two compounds in a solution set [0.9 to 1.0].\\ntotal_div = 0.95\\n# Generates 3d coordinates in case of SDF output files. 0 = off\\ngen_3d_output = 1\";\n",
       "                var nbb_formatted_code = \"# Maximum number of top-ranking result molecules [1 to 1000000].\\nmax_nof_results = 50\\n# Similarity threshold below which molecules are discarded [0.0 to 1.0].\\nmin_sim_thresh = 0.8\\n# Desired target similarity to the query molecule [0.5 to 1.0]. Note: Must be >= '--minSimilarityThreshold'\\ntarget_sim = 1\\n# Required diversity between any two compounds in a solution set [0.9 to 1.0].\\ntotal_div = 0.95\\n# Generates 3d coordinates in case of SDF output files. 0 = off\\ngen_3d_output = 1\";\n",
       "                var nbb_cells = Jupyter.notebook.get_cells();\n",
       "                for (var i = 0; i < nbb_cells.length; ++i) {\n",
       "                    if (nbb_cells[i].input_prompt_number == nbb_cell_id) {\n",
       "                        if (nbb_cells[i].get_text() == nbb_unformatted_code) {\n",
       "                             nbb_cells[i].set_text(nbb_formatted_code);\n",
       "                        }\n",
       "                        break;\n",
       "                    }\n",
       "                }\n",
       "            }, 500);\n",
       "            "
      ],
      "text/plain": [
       "<IPython.core.display.Javascript object>"
      ]
     },
     "metadata": {},
     "output_type": "display_data"
    }
   ],
   "source": [
    "# Maximum number of top-ranking result molecules [1 to 1000000].\n",
    "max_nof_results = 50\n",
    "# Similarity threshold below which molecules are discarded [0.0 to 1.0].\n",
    "min_sim_thresh = 0.8\n",
    "# Desired target similarity to the query molecule [0.5 to 1.0]. Note: Must be >= '--minSimilarityThreshold'\n",
    "target_sim = 1\n",
    "# Required diversity between any two compounds in a solution set [0.9 to 1.0].\n",
    "total_div = 0.95\n",
    "# Generates 3d coordinates in case of SDF output files. 0 = off\n",
    "gen_3d_output = 1"
   ]
  },
  {
   "cell_type": "markdown",
   "metadata": {},
   "source": [
    "### Example 1: Run for individual Smiles"
   ]
  },
  {
   "cell_type": "code",
   "execution_count": 35,
   "metadata": {},
   "outputs": [
    {
     "data": {
      "application/javascript": [
       "\n",
       "            setTimeout(function() {\n",
       "                var nbb_cell_id = 35;\n",
       "                var nbb_unformatted_code = \"smi = \\\"CC(=O)NCCC1=CNC2=C1C=C(C=C2)OC\\\"\\n# Output base files (suffixes are required). Only '.sdf' and '.csv' are supported.\\noutfile_name = \\\"ex1_out\\\"\";\n",
       "                var nbb_formatted_code = \"smi = \\\"CC(=O)NCCC1=CNC2=C1C=C(C=C2)OC\\\"\\n# Output base files (suffixes are required). Only '.sdf' and '.csv' are supported.\\noutfile_name = \\\"ex1_out\\\"\";\n",
       "                var nbb_cells = Jupyter.notebook.get_cells();\n",
       "                for (var i = 0; i < nbb_cells.length; ++i) {\n",
       "                    if (nbb_cells[i].input_prompt_number == nbb_cell_id) {\n",
       "                        if (nbb_cells[i].get_text() == nbb_unformatted_code) {\n",
       "                             nbb_cells[i].set_text(nbb_formatted_code);\n",
       "                        }\n",
       "                        break;\n",
       "                    }\n",
       "                }\n",
       "            }, 500);\n",
       "            "
      ],
      "text/plain": [
       "<IPython.core.display.Javascript object>"
      ]
     },
     "metadata": {},
     "output_type": "display_data"
    }
   ],
   "source": [
    "smi = \"CC(=O)NCCC1=CNC2=C1C=C(C=C2)OC\"\n",
    "# Output base files (suffixes are required). Only '.sdf' and '.csv' are supported.\n",
    "outfile_name = \"ex1_out\""
   ]
  },
  {
   "cell_type": "markdown",
   "metadata": {},
   "source": [
    "### Prepare system call"
   ]
  },
  {
   "cell_type": "code",
   "execution_count": 36,
   "metadata": {},
   "outputs": [
    {
     "name": "stdout",
     "output_type": "stream",
     "text": [
      "C:\\Users\\andre\\AppData\\Local\\Programs\\BioSolveIT\\FTrees-6.0\\FTrees.exe --input CC(=O)NCCC1=CNC2=C1C=C(C=C2)OC --searchFiles C:\\Users\\andre\\Desktop\\Arbeit_Charite\\GitHub\\covid19-SBapproach\\data\\REALspace_2019-12.space --maxNofResults 50 --outputFiles C:\\Users\\andre\\Desktop\\Arbeit_Charite\\GitHub\\covid19-SBapproach\\data\\ex1_out.sdf --minSimilarityThreshold 0.8 --targetSimilarity 1 --totalDiversity 0.95 --gen3dOutput 1\n"
     ]
    },
    {
     "data": {
      "application/javascript": [
       "\n",
       "            setTimeout(function() {\n",
       "                var nbb_cell_id = 36;\n",
       "                var nbb_unformatted_code = \"sys_call = [\\n    path_to_binary,\\n    \\\"--input\\\",\\n    smi,\\n    \\\"--searchFiles\\\",\\n    library,\\n    \\\"--maxNofResults\\\",\\n    max_nof_results,\\n    \\\"--outputFiles\\\",\\n    DATADIR / f\\\"{outfile_name}.sdf\\\",\\n    \\\"--minSimilarityThreshold\\\",\\n    min_sim_thresh,\\n    \\\"--targetSimilarity\\\",\\n    target_sim,\\n    \\\"--totalDiversity\\\",\\n    total_div,\\n    \\\"--gen3dOutput\\\",\\n    gen_3d_output,\\n]\\nprint(*sys_call)\";\n",
       "                var nbb_formatted_code = \"sys_call = [\\n    path_to_binary,\\n    \\\"--input\\\",\\n    smi,\\n    \\\"--searchFiles\\\",\\n    library,\\n    \\\"--maxNofResults\\\",\\n    max_nof_results,\\n    \\\"--outputFiles\\\",\\n    DATADIR / f\\\"{outfile_name}.sdf\\\",\\n    \\\"--minSimilarityThreshold\\\",\\n    min_sim_thresh,\\n    \\\"--targetSimilarity\\\",\\n    target_sim,\\n    \\\"--totalDiversity\\\",\\n    total_div,\\n    \\\"--gen3dOutput\\\",\\n    gen_3d_output,\\n]\\nprint(*sys_call)\";\n",
       "                var nbb_cells = Jupyter.notebook.get_cells();\n",
       "                for (var i = 0; i < nbb_cells.length; ++i) {\n",
       "                    if (nbb_cells[i].input_prompt_number == nbb_cell_id) {\n",
       "                        if (nbb_cells[i].get_text() == nbb_unformatted_code) {\n",
       "                             nbb_cells[i].set_text(nbb_formatted_code);\n",
       "                        }\n",
       "                        break;\n",
       "                    }\n",
       "                }\n",
       "            }, 500);\n",
       "            "
      ],
      "text/plain": [
       "<IPython.core.display.Javascript object>"
      ]
     },
     "metadata": {},
     "output_type": "display_data"
    }
   ],
   "source": [
    "sys_call = [\n",
    "    path_to_binary,\n",
    "    \"--input\",\n",
    "    smi,\n",
    "    \"--searchFiles\",\n",
    "    library,\n",
    "    \"--maxNofResults\",\n",
    "    max_nof_results,\n",
    "    \"--outputFiles\",\n",
    "    DATADIR / f\"{outfile_name}.sdf\",\n",
    "    \"--minSimilarityThreshold\",\n",
    "    min_sim_thresh,\n",
    "    \"--targetSimilarity\",\n",
    "    target_sim,\n",
    "    \"--totalDiversity\",\n",
    "    total_div,\n",
    "    \"--gen3dOutput\",\n",
    "    gen_3d_output,\n",
    "]\n",
    "print(*sys_call)"
   ]
  },
  {
   "cell_type": "code",
   "execution_count": 37,
   "metadata": {},
   "outputs": [
    {
     "data": {
      "text/plain": [
       "b'\\r\\nQueryMolecule:  \\tnofMatches: 50\\r\\n   matching molecule: s_22____13025516____58844 \\t   source: REALspace_2019-12 \\t   similarity: 1\\r\\n   matching molecule: s_2708____15506640____8988634 \\t   source: REALspace_2019-12 \\t   similarity: 0.949915\\r\\n   matching molecule: s_22____13913040____9296322 \\t   source: REALspace_2019-12 \\t   similarity: 0.949527\\r\\n   matching molecule: s_22____13771018____13206548 \\t   source: REALspace_2019-12 \\t   similarity: 0.949454\\r\\n   matching molecule: s_240690b____17036658____3025692 \\t   source: REALspace_2019-12 \\t   similarity: 0.949445\\r\\n   matching molecule: s_270004____8288600____16621896 \\t   source: REALspace_2019-12 \\t   similarity: 0.949418\\r\\n   matching molecule: s_22____9276248____58844 \\t   source: REALspace_2019-12 \\t   similarity: 0.949319\\r\\n   matching molecule: s_22____9631354____337030 \\t   source: REALspace_2019-12 \\t   similarity: 0.949218\\r\\n   matching molecule: s_22____17638894____58844 \\t   source: REALspace_2019-12 \\t   similarity: 0.949183\\r\\n   matching molecule: s_40____9226536____10954250 \\t   source: REALspace_2019-12 \\t   similarity: 0.949079\\r\\n   matching molecule: s_8____13025512____83696 \\t   source: REALspace_2019-12 \\t   similarity: 0.948932\\r\\n   matching molecule: s_240690b____15144160____3025698 \\t   source: REALspace_2019-12 \\t   similarity: 0.948436\\r\\n   matching molecule: s_22____15162148____58844 \\t   source: REALspace_2019-12 \\t   similarity: 0.948434\\r\\n   matching molecule: s_269946b____15754654____10979820 \\t   source: REALspace_2019-12 \\t   similarity: 0.948296\\r\\n   matching molecule: s_270004____8299360____15269820 \\t   source: REALspace_2019-12 \\t   similarity: 0.948173\\r\\n   matching molecule: s_2554____15754608____2505384 \\t   source: REALspace_2019-12 \\t   similarity: 0.947848\\r\\n   matching molecule: s_270062____7623638____15585492 \\t   source: REALspace_2019-12 \\t   similarity: 0.947297\\r\\n   matching molecule: s_2554____13771040____788524 \\t   source: REALspace_2019-12 \\t   similarity: 0.947039\\r\\n   matching molecule: s_240690b____7354134____13151248 \\t   source: REALspace_2019-12 \\t   similarity: 0.947029\\r\\n   matching molecule: s_22____13951486____58844 \\t   source: REALspace_2019-12 \\t   similarity: 0.946984\\r\\n   matching molecule: s_22____15506616____16887664 \\t   source: REALspace_2019-12 \\t   similarity: 0.946746\\r\\n   matching molecule: s_22____4839448____12155460 \\t   source: REALspace_2019-12 \\t   similarity: 0.946746\\r\\n   matching molecule: s_22____13025516____14248030 \\t   source: REALspace_2019-12 \\t   similarity: 0.946746\\r\\n   matching molecule: s_22____13978824____60074 \\t   source: REALspace_2019-12 \\t   similarity: 0.946746\\r\\n   matching molecule: s_270006b____8394006____11615862 \\t   source: REALspace_2019-12 \\t   similarity: 0.946746\\r\\n   matching molecule: s_22____15506616____105372 \\t   source: REALspace_2019-12 \\t   similarity: 0.946635\\r\\n   matching molecule: s_527a____15506630____1009276 \\t   source: REALspace_2019-12 \\t   similarity: 0.946635\\r\\n   matching molecule: s_240690b____17036622____13151248 \\t   source: REALspace_2019-12 \\t   similarity: 0.946398\\r\\n   matching molecule: s_22____13570824____60364 \\t   source: REALspace_2019-12 \\t   similarity: 0.946103\\r\\n   matching molecule: s_27c____61926____7288516 \\t   source: REALspace_2019-12 \\t   similarity: 0.945915\\r\\n   matching molecule: s_22____9156166____60364 \\t   source: REALspace_2019-12 \\t   similarity: 0.945544\\r\\n   matching molecule: s_22____5635330____8794444 \\t   source: REALspace_2019-12 \\t   similarity: 0.945323\\r\\n   matching molecule: s_275532____13830256____16621902 \\t   source: REALspace_2019-12 \\t   similarity: 0.945304\\r\\n   matching molecule: s_11a____14724372____13756274 \\t   source: REALspace_2019-12 \\t   similarity: 0.944976\\r\\n   matching molecule: s_22____13771018____58878 \\t   source: REALspace_2019-12 \\t   similarity: 0.94451\\r\\n   matching molecule: s_207____3310404____15565042 \\t   source: REALspace_2019-12 \\t   similarity: 0.944456\\r\\n   matching molecule: s_22____13771018____1720042 \\t   source: REALspace_2019-12 \\t   similarity: 0.944154\\r\\n   matching molecule: s_274078a____12248494____12873778 \\t   source: REALspace_2019-12 \\t   similarity: 0.943912\\r\\n   matching molecule: s_22____8929618____9296322 \\t   source: REALspace_2019-12 \\t   similarity: 0.943678\\r\\n   matching molecule: EN300-2008931 \\t   source: REALspace_2019-12 \\t   similarity: 0.942209\\r\\n   matching molecule: s_273270____16378568____10884640 \\t   source: REALspace_2019-12 \\t   similarity: 0.941201\\r\\n   matching molecule: s_22____9192330____9296322 \\t   source: REALspace_2019-12 \\t   similarity: 0.940623\\r\\n   matching molecule: EN300-362556 \\t   source: REALspace_2019-12 \\t   similarity: 0.939791\\r\\n   matching molecule: s_270004____14519440____15269820 \\t   source: REALspace_2019-12 \\t   similarity: 0.939524\\r\\n   matching molecule: s_527a____2833524____156031 \\t   source: REALspace_2019-12 \\t   similarity: 0.938881\\r\\n   matching molecule: s_22____13909752____12103014 \\t   source: REALspace_2019-12 \\t   similarity: 0.938682\\r\\n   matching molecule: s_22____9226532____12053348 \\t   source: REALspace_2019-12 \\t   similarity: 0.937997\\r\\n   matching molecule: s_240690b____11689238____7368632 \\t   source: REALspace_2019-12 \\t   similarity: 0.937421\\r\\n   matching molecule: EN300-1692548 \\t   source: REALspace_2019-12 \\t   similarity: 0.937184\\r\\n   matching molecule: s_270006b____8389692____11615886 \\t   source: REALspace_2019-12 \\t   similarity: 0.935679\\r\\n\\r\\n'"
      ]
     },
     "execution_count": 37,
     "metadata": {},
     "output_type": "execute_result"
    },
    {
     "data": {
      "application/javascript": [
       "\n",
       "            setTimeout(function() {\n",
       "                var nbb_cell_id = 37;\n",
       "                var nbb_unformatted_code = \"out = subprocess.check_output([str(x) for x in sys_call])\\nout\";\n",
       "                var nbb_formatted_code = \"out = subprocess.check_output([str(x) for x in sys_call])\\nout\";\n",
       "                var nbb_cells = Jupyter.notebook.get_cells();\n",
       "                for (var i = 0; i < nbb_cells.length; ++i) {\n",
       "                    if (nbb_cells[i].input_prompt_number == nbb_cell_id) {\n",
       "                        if (nbb_cells[i].get_text() == nbb_unformatted_code) {\n",
       "                             nbb_cells[i].set_text(nbb_formatted_code);\n",
       "                        }\n",
       "                        break;\n",
       "                    }\n",
       "                }\n",
       "            }, 500);\n",
       "            "
      ],
      "text/plain": [
       "<IPython.core.display.Javascript object>"
      ]
     },
     "metadata": {},
     "output_type": "display_data"
    }
   ],
   "source": [
    "out = subprocess.check_output([str(x) for x in sys_call])\n",
    "out"
   ]
  },
  {
   "cell_type": "markdown",
   "metadata": {},
   "source": [
    "### Collect results "
   ]
  },
  {
   "cell_type": "code",
   "execution_count": 40,
   "metadata": {
    "scrolled": true
   },
   "outputs": [
    {
     "data": {
      "text/html": [
       "<div>\n",
       "<style scoped>\n",
       "    .dataframe tbody tr th:only-of-type {\n",
       "        vertical-align: middle;\n",
       "    }\n",
       "\n",
       "    .dataframe tbody tr th {\n",
       "        vertical-align: top;\n",
       "    }\n",
       "\n",
       "    .dataframe thead th {\n",
       "        text-align: right;\n",
       "    }\n",
       "</style>\n",
       "<table border=\"1\" class=\"dataframe\">\n",
       "  <thead>\n",
       "    <tr style=\"text-align: right;\">\n",
       "      <th></th>\n",
       "      <th>result-rank</th>\n",
       "      <th>similarity</th>\n",
       "      <th>query-name</th>\n",
       "      <th>query-smiles</th>\n",
       "      <th>source</th>\n",
       "      <th>similarity-descriptor</th>\n",
       "      <th>similarity-descriptor-smiles</th>\n",
       "      <th>reaction-name</th>\n",
       "      <th>reagent1-name</th>\n",
       "      <th>reagent1-smiles</th>\n",
       "      <th>reagent2-name</th>\n",
       "      <th>reagent2-smiles</th>\n",
       "      <th>ID</th>\n",
       "      <th>ROMol</th>\n",
       "    </tr>\n",
       "  </thead>\n",
       "  <tbody>\n",
       "    <tr>\n",
       "      <th>0</th>\n",
       "      <td>1</td>\n",
       "      <td>1.000</td>\n",
       "      <td></td>\n",
       "      <td>O=C(NCCC=1c2c(NC1)ccc(OC)c2)C</td>\n",
       "      <td>REALspace_2019-12</td>\n",
       "      <td>1.000;1.000;1.000;1.000;1.000;1.000;1.000;1.00...</td>\n",
       "      <td>C1=CNcc1;c1ccccc1;O=C;N;C;C;O;C;C;</td>\n",
       "      <td>s_22</td>\n",
       "      <td>13025516</td>\n",
       "      <td>[R1*]NCCC=1c2c(OC)cccc2NC1</td>\n",
       "      <td>58844</td>\n",
       "      <td>[R1*]C(=O)C</td>\n",
       "      <td>s_22____13025516____58844</td>\n",
       "      <td>&lt;img src=\"data:image/png;base64,iVBORw0KGgoAAA...</td>\n",
       "    </tr>\n",
       "    <tr>\n",
       "      <th>1</th>\n",
       "      <td>2</td>\n",
       "      <td>0.950</td>\n",
       "      <td></td>\n",
       "      <td>O=C(NCCC=1c2c(NC1)ccc(OC)c2)C</td>\n",
       "      <td>REALspace_2019-12</td>\n",
       "      <td>1.000;1.000;0.840;1.000;1.000;1.000;1.000;1.00...</td>\n",
       "      <td>C1=CNcc1;c1ccccc1;O=C;N;C;C;O;C;O=C;N.O.C</td>\n",
       "      <td>s_2708</td>\n",
       "      <td>15506640</td>\n",
       "      <td>[R1*]C(=O)NCCC=1c2c(NC1)c(OC)ccc2</td>\n",
       "      <td>8988634</td>\n",
       "      <td>[R1*]NOC</td>\n",
       "      <td>s_2708____15506640____8988634</td>\n",
       "      <td>&lt;img src=\"data:image/png;base64,iVBORw0KGgoAAA...</td>\n",
       "    </tr>\n",
       "    <tr>\n",
       "      <th>2</th>\n",
       "      <td>3</td>\n",
       "      <td>0.950</td>\n",
       "      <td></td>\n",
       "      <td>O=C(NCCC=1c2c(NC1)ccc(OC)c2)C</td>\n",
       "      <td>REALspace_2019-12</td>\n",
       "      <td>1.000;0.980;0.936;1.000;0.969;0.969;0.0;0.0;0....</td>\n",
       "      <td>c1C=CNc1;Fc1ccccc1;C(=O)C;N;CC;CC;;;CC;C</td>\n",
       "      <td>s_22</td>\n",
       "      <td>13913040</td>\n",
       "      <td>[R1*]NC(CC=1c2c(NC1)ccc(F)c2)C</td>\n",
       "      <td>9296322</td>\n",
       "      <td>[R1*]C(=O)C#CC</td>\n",
       "      <td>s_22____13913040____9296322</td>\n",
       "      <td>&lt;img src=\"data:image/png;base64,iVBORw0KGgoAAA...</td>\n",
       "    </tr>\n",
       "    <tr>\n",
       "      <th>3</th>\n",
       "      <td>4</td>\n",
       "      <td>0.949</td>\n",
       "      <td></td>\n",
       "      <td>O=C(NCCC=1c2c(NC1)ccc(OC)c2)C</td>\n",
       "      <td>REALspace_2019-12</td>\n",
       "      <td>1.000;1.000;0.914;1.000;1.000;1.000;1.000;0.95...</td>\n",
       "      <td>C1=CNcc1;c1ccccc1;O=CC;N;C;C;O;C;C;C.C.C.C</td>\n",
       "      <td>s_22</td>\n",
       "      <td>13771018</td>\n",
       "      <td>[R1*]NCCC=1c2c(NC1)ccc(OCCC)c2</td>\n",
       "      <td>13206548</td>\n",
       "      <td>[R1*]C(=O)C(=C)CC</td>\n",
       "      <td>s_22____13771018____13206548</td>\n",
       "      <td>&lt;img src=\"data:image/png;base64,iVBORw0KGgoAAA...</td>\n",
       "    </tr>\n",
       "    <tr>\n",
       "      <th>4</th>\n",
       "      <td>5</td>\n",
       "      <td>0.949</td>\n",
       "      <td></td>\n",
       "      <td>O=C(NCCC=1c2c(NC1)ccc(OC)c2)C</td>\n",
       "      <td>REALspace_2019-12</td>\n",
       "      <td>0.998;0.958;0.887;1.000;1.000;1.000;0.958;0.0;...</td>\n",
       "      <td>C1=CNcc1;c1cccnc1;O=CC;N;C;C;c1cccnc1;;C;[NH3+]</td>\n",
       "      <td>s_240690b</td>\n",
       "      <td>17036658</td>\n",
       "      <td>[R1*]NCCC=1c2c(nccc2)NC1</td>\n",
       "      <td>3025692</td>\n",
       "      <td>[R1*]C(=O)C(N)C</td>\n",
       "      <td>s_240690b____17036658____3025692</td>\n",
       "      <td>&lt;img src=\"data:image/png;base64,iVBORw0KGgoAAA...</td>\n",
       "    </tr>\n",
       "  </tbody>\n",
       "</table>\n",
       "</div>"
      ],
      "text/plain": [
       "  result-rank similarity query-name                   query-smiles  \\\n",
       "0           1      1.000             O=C(NCCC=1c2c(NC1)ccc(OC)c2)C   \n",
       "1           2      0.950             O=C(NCCC=1c2c(NC1)ccc(OC)c2)C   \n",
       "2           3      0.950             O=C(NCCC=1c2c(NC1)ccc(OC)c2)C   \n",
       "3           4      0.949             O=C(NCCC=1c2c(NC1)ccc(OC)c2)C   \n",
       "4           5      0.949             O=C(NCCC=1c2c(NC1)ccc(OC)c2)C   \n",
       "\n",
       "              source                              similarity-descriptor  \\\n",
       "0  REALspace_2019-12  1.000;1.000;1.000;1.000;1.000;1.000;1.000;1.00...   \n",
       "1  REALspace_2019-12  1.000;1.000;0.840;1.000;1.000;1.000;1.000;1.00...   \n",
       "2  REALspace_2019-12  1.000;0.980;0.936;1.000;0.969;0.969;0.0;0.0;0....   \n",
       "3  REALspace_2019-12  1.000;1.000;0.914;1.000;1.000;1.000;1.000;0.95...   \n",
       "4  REALspace_2019-12  0.998;0.958;0.887;1.000;1.000;1.000;0.958;0.0;...   \n",
       "\n",
       "                      similarity-descriptor-smiles reaction-name  \\\n",
       "0               C1=CNcc1;c1ccccc1;O=C;N;C;C;O;C;C;          s_22   \n",
       "1        C1=CNcc1;c1ccccc1;O=C;N;C;C;O;C;O=C;N.O.C        s_2708   \n",
       "2         c1C=CNc1;Fc1ccccc1;C(=O)C;N;CC;CC;;;CC;C          s_22   \n",
       "3       C1=CNcc1;c1ccccc1;O=CC;N;C;C;O;C;C;C.C.C.C          s_22   \n",
       "4  C1=CNcc1;c1cccnc1;O=CC;N;C;C;c1cccnc1;;C;[NH3+]     s_240690b   \n",
       "\n",
       "  reagent1-name                    reagent1-smiles reagent2-name  \\\n",
       "0      13025516         [R1*]NCCC=1c2c(OC)cccc2NC1         58844   \n",
       "1      15506640  [R1*]C(=O)NCCC=1c2c(NC1)c(OC)ccc2       8988634   \n",
       "2      13913040     [R1*]NC(CC=1c2c(NC1)ccc(F)c2)C       9296322   \n",
       "3      13771018     [R1*]NCCC=1c2c(NC1)ccc(OCCC)c2      13206548   \n",
       "4      17036658           [R1*]NCCC=1c2c(nccc2)NC1       3025692   \n",
       "\n",
       "     reagent2-smiles                                ID  \\\n",
       "0        [R1*]C(=O)C         s_22____13025516____58844   \n",
       "1           [R1*]NOC     s_2708____15506640____8988634   \n",
       "2     [R1*]C(=O)C#CC       s_22____13913040____9296322   \n",
       "3  [R1*]C(=O)C(=C)CC      s_22____13771018____13206548   \n",
       "4    [R1*]C(=O)C(N)C  s_240690b____17036658____3025692   \n",
       "\n",
       "                                               ROMol  \n",
       "0  <img src=\"data:image/png;base64,iVBORw0KGgoAAA...  \n",
       "1  <img src=\"data:image/png;base64,iVBORw0KGgoAAA...  \n",
       "2  <img src=\"data:image/png;base64,iVBORw0KGgoAAA...  \n",
       "3  <img src=\"data:image/png;base64,iVBORw0KGgoAAA...  \n",
       "4  <img src=\"data:image/png;base64,iVBORw0KGgoAAA...  "
      ]
     },
     "execution_count": 40,
     "metadata": {},
     "output_type": "execute_result"
    },
    {
     "data": {
      "application/javascript": [
       "\n",
       "            setTimeout(function() {\n",
       "                var nbb_cell_id = 40;\n",
       "                var nbb_unformatted_code = \"load_file = str(DATADIR / f\\\"{outfile_name}_1.sdf\\\")\\ndf = PandasTools.LoadSDF(load_file)\\ndf.head()\\n# display(HTML(df.to_html()))\";\n",
       "                var nbb_formatted_code = \"load_file = str(DATADIR / f\\\"{outfile_name}_1.sdf\\\")\\ndf = PandasTools.LoadSDF(load_file)\\ndf.head()\\n# display(HTML(df.to_html()))\";\n",
       "                var nbb_cells = Jupyter.notebook.get_cells();\n",
       "                for (var i = 0; i < nbb_cells.length; ++i) {\n",
       "                    if (nbb_cells[i].input_prompt_number == nbb_cell_id) {\n",
       "                        if (nbb_cells[i].get_text() == nbb_unformatted_code) {\n",
       "                             nbb_cells[i].set_text(nbb_formatted_code);\n",
       "                        }\n",
       "                        break;\n",
       "                    }\n",
       "                }\n",
       "            }, 500);\n",
       "            "
      ],
      "text/plain": [
       "<IPython.core.display.Javascript object>"
      ]
     },
     "metadata": {},
     "output_type": "display_data"
    }
   ],
   "source": [
    "load_file = str(DATADIR / f\"{outfile_name}_1.sdf\")\n",
    "df = PandasTools.LoadSDF(load_file)\n",
    "df.head()\n",
    "# display(HTML(df.to_html()))"
   ]
  },
  {
   "cell_type": "markdown",
   "metadata": {},
   "source": [
    "### Example 2: Run for protease set"
   ]
  },
  {
   "cell_type": "code",
   "execution_count": null,
   "metadata": {},
   "outputs": [],
   "source": [
    "# get protease sdf file\n",
    "protease_sdf = str(DATADIR / \"proteaseFDAdrugs_3D.sdf\")\n",
    "# Output base files (suffixes are required). Only '.sdf' and '.csv' are supported.\n",
    "outfile_name = \"ex2_out\"\n",
    "# generate more results\n",
    "max_nof_results = 100"
   ]
  },
  {
   "cell_type": "code",
   "execution_count": null,
   "metadata": {},
   "outputs": [],
   "source": [
    "df_tmp = PandasTools.LoadSDF(protease_sdf)\n",
    "display(HTML(df_tmp.to_html()))"
   ]
  },
  {
   "cell_type": "markdown",
   "metadata": {},
   "source": [
    "### Prepare system call"
   ]
  },
  {
   "cell_type": "code",
   "execution_count": null,
   "metadata": {},
   "outputs": [],
   "source": [
    "sys_call = [\n",
    "    path_to_binary,\n",
    "    \"--input\",\n",
    "    protease_sdf,\n",
    "    \"--searchFiles\",\n",
    "    library,\n",
    "    \"--maxNofResults\",\n",
    "    max_nof_results,\n",
    "    \"--outputFiles\",\n",
    "    DATADIR / f\"{outfile_name}.sdf\",\n",
    "    \"--minSimilarityThreshold\",\n",
    "    min_sim_thresh,\n",
    "    \"--targetSimilarity\",\n",
    "    target_sim,\n",
    "    \"--totalDiversity\",\n",
    "    total_div,\n",
    "    \"--gen3dOutput\",\n",
    "    gen_3d_output,\n",
    "]\n",
    "print(*sys_call)"
   ]
  },
  {
   "cell_type": "code",
   "execution_count": null,
   "metadata": {},
   "outputs": [],
   "source": [
    "# run\n",
    "out = subprocess.check_output([str(x) for x in sys_call])\n",
    "out"
   ]
  },
  {
   "cell_type": "code",
   "execution_count": null,
   "metadata": {},
   "outputs": [],
   "source": [
    "df2 = PandasTools.LoadSDF(str(DATADIR / f\"{outfile_name}_1.sdf\"))\n",
    "display(HTML(df2.to_html()))"
   ]
  },
  {
   "cell_type": "code",
   "execution_count": null,
   "metadata": {},
   "outputs": [],
   "source": [
    "Draw.MolsToGridImage(df2.ROMol, molsPerRow=5)"
   ]
  },
  {
   "cell_type": "code",
   "execution_count": null,
   "metadata": {},
   "outputs": [],
   "source": []
  }
 ],
 "metadata": {
  "kernelspec": {
   "display_name": "Python 3",
   "language": "python",
   "name": "python3"
  },
  "language_info": {
   "codemirror_mode": {
    "name": "ipython",
    "version": 3
   },
   "file_extension": ".py",
   "mimetype": "text/x-python",
   "name": "python",
   "nbconvert_exporter": "python",
   "pygments_lexer": "ipython3",
   "version": "3.7.4"
  }
 },
 "nbformat": 4,
 "nbformat_minor": 4
}
